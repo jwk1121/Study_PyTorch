{
  "cells": [
    {
      "cell_type": "markdown",
      "metadata": {
        "id": "a8DwocCnpHbB"
      },
      "source": [
        "# DL CNN 정리\n",
        "\n",
        "- toc:true"
      ]
    },
    {
      "cell_type": "code",
      "execution_count": 2,
      "metadata": {
        "id": "3hYLenwlpe2F"
      },
      "outputs": [],
      "source": [
        "import torch \n",
        "import torchvision\n",
        "from fastai.vision.all import * \n",
        "import time"
      ]
    },
    {
      "cell_type": "markdown",
      "metadata": {
        "id": "LhfDTkoNupPB"
      },
      "source": [
        "## CNN 구조\n"
      ]
    },
    {
      "cell_type": "markdown",
      "metadata": {
        "id": "JyZCQtCRq3sw"
      },
      "source": [
        "간략하게 CNN의 구조를 설명하자면\n",
        "- conv layer: 커널층(선형변환처럼 feature를 늘려주는 역할)\n",
        "- ReLU layer: 비선형을 추가해 표현력을 늘려주는 역할\n",
        "- pooling layer: max 또는 avg를 통해 데이터를 요약해주는 역할"
      ]
    },
    {
      "cell_type": "markdown",
      "metadata": {
        "id": "cdHZV2N_Ybho"
      },
      "source": [
        "### conv layer"
      ]
    },
    {
      "cell_type": "code",
      "execution_count": 3,
      "metadata": {
        "id": "wpz0l0MgN6no",
        "colab": {
          "base_uri": "https://localhost:8080/"
        },
        "outputId": "38a48767-0576-42d2-ce8d-8aba83e95b3c"
      },
      "outputs": [
        {
          "output_type": "execute_result",
          "data": {
            "text/plain": [
              "tensor([[[ 0.,  1.,  2.,  3.,  4.],\n",
              "         [ 5.,  6.,  7.,  8.,  9.],\n",
              "         [10., 11., 12., 13., 14.],\n",
              "         [15., 16., 17., 18., 19.],\n",
              "         [20., 21., 22., 23., 24.]]])"
            ]
          },
          "metadata": {},
          "execution_count": 3
        }
      ],
      "source": [
        "torch.manual_seed(43052)\n",
        "_conv = torch.nn.Conv2d(1,1,(2,2)) # 입력1, 출력1, (2,2) window size\n",
        "# (굳이 (2,2) 이런식으로 안해도 됨 어차피 윈도우 사이즈는 정사각행렬이므로 상수하나만 입력해도 됨됨)\n",
        "\n",
        "_X = torch.arange(0,25).float().reshape(1,5,5)\n",
        "_X"
      ]
    },
    {
      "cell_type": "code",
      "execution_count": 4,
      "metadata": {
        "id": "-3OvcMsgXKTU",
        "colab": {
          "base_uri": "https://localhost:8080/"
        },
        "outputId": "b852240d-fe2b-4cb1-ac66-2bf1c05389ac"
      },
      "outputs": [
        {
          "output_type": "execute_result",
          "data": {
            "text/plain": [
              "(tensor([[[[0.2500, 0.2500],\n",
              "           [0.2500, 0.2500]]]]), tensor([0.]))"
            ]
          },
          "metadata": {},
          "execution_count": 4
        }
      ],
      "source": [
        "_conv.weight.data = torch.tensor([[[[0.25, 0.25],[0.25,0.25]]]])\n",
        "_conv.bias.data = torch.tensor([0.0])\n",
        "_conv.weight.data, _conv.bias.data"
      ]
    },
    {
      "cell_type": "code",
      "execution_count": 5,
      "metadata": {
        "id": "Czcin77MXi3J",
        "colab": {
          "base_uri": "https://localhost:8080/"
        },
        "outputId": "9c4d7cb9-7536-4902-9698-20d3ac8e5341"
      },
      "outputs": [
        {
          "output_type": "execute_result",
          "data": {
            "text/plain": [
              "tensor([[[ 3.,  4.,  5.,  6.],\n",
              "         [ 8.,  9., 10., 11.],\n",
              "         [13., 14., 15., 16.],\n",
              "         [18., 19., 20., 21.]]], grad_fn=<SqueezeBackward1>)"
            ]
          },
          "metadata": {},
          "execution_count": 5
        }
      ],
      "source": [
        "_conv(_X)"
      ]
    },
    {
      "cell_type": "markdown",
      "metadata": {
        "id": "aO2_7ZqsXhlN"
      },
      "source": [
        "conv_tensor[1,1] = [[0, 1],[5, 6]]의 평균임을 알 수 있음 (conv.weight가 모두 1/4이어서 그런거임) \n",
        "- 해당 값은 (0 + 1 + 5 + 6) / 4 임을 알 수 있음\n",
        "- 윈도우(커널)는 한 칸씩 움직이면서 weight를 곱하고 bias를 더함\n",
        "  - 첫 번째 3이라는 값은 [[0, 1],[5, 6]]에 conv을 적용\n",
        "  - 두 번째 4라는 값은 [[1, 2],[6, 7]]에 conv을 적용\n",
        "\n",
        "---"
      ]
    },
    {
      "cell_type": "markdown",
      "metadata": {
        "id": "KD7WCp27Yfs1"
      },
      "source": [
        "### ReLU layer"
      ]
    },
    {
      "cell_type": "markdown",
      "metadata": {
        "id": "GfMeUFOTYk67"
      },
      "source": [
        "- 사실 ReLU는 DNN에서와 같이 음수는 0으로 양수는 그대로 되는 함수이다.  \n",
        "$ReLU(x) = \\max(0,x)$"
      ]
    },
    {
      "cell_type": "markdown",
      "metadata": {
        "id": "MSY38bUfYlOu"
      },
      "source": [
        "### pooling layer\n",
        "- pooling layer에는 maxpooling이 있고 avgpooling이 있지만 이번에는 maxpooling을 다룰것임\n",
        "- maxpooling은 데이터 요약보다는 크기를 줄이는 느낌이 있음"
      ]
    },
    {
      "cell_type": "code",
      "execution_count": 6,
      "metadata": {
        "id": "hc3xybQOYikD",
        "colab": {
          "base_uri": "https://localhost:8080/"
        },
        "outputId": "4dad0f5d-9831-4829-df7f-1323b30fa811"
      },
      "outputs": [
        {
          "output_type": "execute_result",
          "data": {
            "text/plain": [
              "tensor([[[ 0.,  1.,  2.,  3.,  4.],\n",
              "         [ 5.,  6.,  7.,  8.,  9.],\n",
              "         [10., 11., 12., 13., 14.],\n",
              "         [15., 16., 17., 18., 19.],\n",
              "         [20., 21., 22., 23., 24.]]])"
            ]
          },
          "metadata": {},
          "execution_count": 6
        }
      ],
      "source": [
        "_maxpooling = torch.nn.MaxPool2d((2,2))\n",
        "_X = torch.arange(0,25).float().reshape(1,5,5)\n",
        "_X"
      ]
    },
    {
      "cell_type": "code",
      "execution_count": 7,
      "metadata": {
        "id": "I-ETEeNKag5y",
        "colab": {
          "base_uri": "https://localhost:8080/"
        },
        "outputId": "dc9199a0-cb22-4e38-eca0-5dd0657b48bc"
      },
      "outputs": [
        {
          "output_type": "execute_result",
          "data": {
            "text/plain": [
              "tensor([[[ 6.,  8.],\n",
              "         [16., 18.]]])"
            ]
          },
          "metadata": {},
          "execution_count": 7
        }
      ],
      "source": [
        "_maxpooling(_X) "
      ]
    },
    {
      "cell_type": "markdown",
      "metadata": {
        "id": "fECAQwO0alpZ"
      },
      "source": [
        "- maxpooling_tensor[1,1] = [[0, 1],[5, 6]] 중 가장 큰 값을 이므로 5이다.\n",
        "- pooling은 convlayer와 달리 pooling box가 겹치지 않게 움직임\n",
        "  - 이러한 특성으로 인해 5번째 열과 행에 있는 값들은 pooling box에 들어가지 못해 버려지게 된다"
      ]
    },
    {
      "cell_type": "markdown",
      "metadata": {
        "id": "uDSoIiZ-bVve"
      },
      "source": [
        "## CNN 구현"
      ]
    },
    {
      "cell_type": "code",
      "execution_count": 8,
      "metadata": {
        "id": "aP-ZM8rkbuMc",
        "colab": {
          "base_uri": "https://localhost:8080/",
          "height": 37
        },
        "outputId": "92a16c24-6256-45de-ba98-cb4944c56d11"
      },
      "outputs": [
        {
          "output_type": "display_data",
          "data": {
            "text/plain": [
              "<IPython.core.display.HTML object>"
            ],
            "text/html": [
              "\n",
              "<style>\n",
              "    /* Turns off some styling */\n",
              "    progress {\n",
              "        /* gets rid of default border in Firefox and Opera. */\n",
              "        border: none;\n",
              "        /* Needs to be in here for Safari polyfill so background images work as expected. */\n",
              "        background-size: auto;\n",
              "    }\n",
              "    progress:not([value]), progress:not([value])::-webkit-progress-bar {\n",
              "        background: repeating-linear-gradient(45deg, #7e7e7e, #7e7e7e 10px, #5c5c5c 10px, #5c5c5c 20px);\n",
              "    }\n",
              "    .progress-bar-interrupted, .progress-bar-interrupted::-webkit-progress-bar {\n",
              "        background: #F44336;\n",
              "    }\n",
              "</style>\n"
            ]
          },
          "metadata": {}
        },
        {
          "output_type": "display_data",
          "data": {
            "text/plain": [
              "<IPython.core.display.HTML object>"
            ],
            "text/html": [
              "\n",
              "    <div>\n",
              "      <progress value='15687680' class='' max='15683414' style='width:300px; height:20px; vertical-align: middle;'></progress>\n",
              "      100.03% [15687680/15683414 00:02&lt;00:00]\n",
              "    </div>\n",
              "    "
            ]
          },
          "metadata": {}
        }
      ],
      "source": [
        "path = untar_data(URLs.MNIST)"
      ]
    },
    {
      "cell_type": "markdown",
      "metadata": {
        "id": "hdYUKwmPrcEj"
      },
      "source": [
        "### path 사용법 + 데이터 준비\n",
        "- \n",
        "``` python\n",
        "(path/'원하는 경로').ls()\n",
        "```\n",
        "위 코드를 사용하면 폴더 안에 있는 데이터들의 이름을 출력\n",
        "- \n",
        "``` python\n",
        "torchvision.io.read_image()\n",
        "```\n",
        "해당 함수에 데이터 이름(이미지 이름)을 넣어주면 이미지를 tensor형태로 출력"
      ]
    },
    {
      "cell_type": "code",
      "execution_count": 9,
      "metadata": {
        "id": "6kj0PA40qFBK"
      },
      "outputs": [],
      "source": [
        "# train data\n",
        "x0 = torch.stack([torchvision.io.read_image(str(fnames)) for fnames in (path/'training/0').ls()])\n",
        "x1 = torch.stack([torchvision.io.read_image(str(fnames)) for fnames in (path/'training/1').ls()])\n",
        "x_tr = torch.concat([x0, x1])/255\n",
        "\n",
        "y_tr = torch.tensor([0.0]*len(x0) + [1.0]*len(x1)).reshape(-1,1)"
      ]
    },
    {
      "cell_type": "code",
      "execution_count": 10,
      "metadata": {
        "id": "kTpJ0gi5tz8t"
      },
      "outputs": [],
      "source": [
        "# train data\n",
        "x0 = torch.stack([torchvision.io.read_image(str(fnames)) for fnames in (path/'testing/0').ls()])\n",
        "x1 = torch.stack([torchvision.io.read_image(str(fnames)) for fnames in (path/'testing/1').ls()])\n",
        "x_test = torch.concat([x0, x1])/255\n",
        "\n",
        "y_test = torch.tensor([0.0]*len(x0) + [1.0]*len(x1)).reshape(-1,1)"
      ]
    },
    {
      "cell_type": "code",
      "execution_count": 11,
      "metadata": {
        "id": "jkgtZFw5uPZ_",
        "colab": {
          "base_uri": "https://localhost:8080/"
        },
        "outputId": "6683a362-654b-4180-ca89-3f0b6c1ee770"
      },
      "outputs": [
        {
          "output_type": "execute_result",
          "data": {
            "text/plain": [
              "(torch.Size([12665, 1, 28, 28]),\n",
              " torch.Size([12665, 1]),\n",
              " torch.Size([2115, 1, 28, 28]),\n",
              " torch.Size([2115, 1]))"
            ]
          },
          "metadata": {},
          "execution_count": 11
        }
      ],
      "source": [
        "x_tr.shape, y_tr.shape, x_test.shape, y_test.shape"
      ]
    },
    {
      "cell_type": "markdown",
      "metadata": {
        "id": "mlcdpowtbyPC"
      },
      "source": [
        "### cnn에 사용되는 layer 알아보기"
      ]
    },
    {
      "cell_type": "code",
      "execution_count": 12,
      "metadata": {
        "id": "48MUeyPqbZwv",
        "colab": {
          "base_uri": "https://localhost:8080/"
        },
        "outputId": "c0a357cd-ae2f-481d-cde1-5aa5356425de"
      },
      "outputs": [
        {
          "output_type": "execute_result",
          "data": {
            "text/plain": [
              "(torch.Size([12665, 1, 28, 28]), torch.Size([12665, 16, 24, 24]))"
            ]
          },
          "metadata": {},
          "execution_count": 12
        }
      ],
      "source": [
        "# conv\n",
        "c1 = torch.nn.Conv2d(1, 16 , 5) # 만약 color image였다면 입력 채널의 수를 3으로 지정해야 함\n",
        "x_tr.shape ,c1(x_tr).shape"
      ]
    },
    {
      "cell_type": "markdown",
      "metadata": {
        "id": "-LPqOytrgs-G"
      },
      "source": [
        "- size계산 공식: 윈도우(커널)사이즈가 n이면 $size = height(width) - ( n - 1)$"
      ]
    },
    {
      "cell_type": "code",
      "execution_count": 13,
      "metadata": {
        "id": "da3TuN6lhNDY"
      },
      "outputs": [],
      "source": [
        "# ReLU\n",
        "a1 = torch.nn.ReLU()"
      ]
    },
    {
      "cell_type": "code",
      "execution_count": 14,
      "metadata": {
        "id": "FFgC1lC7hRkJ",
        "colab": {
          "base_uri": "https://localhost:8080/"
        },
        "outputId": "4c8c6e5b-1da2-48fa-f7e0-0ad5e49f58ae"
      },
      "outputs": [
        {
          "output_type": "stream",
          "name": "stdout",
          "text": [
            "torch.Size([12665, 16, 12, 12])\n"
          ]
        }
      ],
      "source": [
        "# maxpooling\n",
        "m1 = torch.nn.MaxPool2d(2)\n",
        "print(m1(a1(c1(x_tr))).shape)"
      ]
    },
    {
      "cell_type": "markdown",
      "metadata": {
        "id": "yoYp6GhChjEK"
      },
      "source": [
        "- 행과 열이 2의 배수이므로 maxpool이 2일때는 버려지는 행과 열은 없다."
      ]
    },
    {
      "cell_type": "code",
      "execution_count": 15,
      "metadata": {
        "id": "cHL-nwtzhbIC",
        "colab": {
          "base_uri": "https://localhost:8080/"
        },
        "outputId": "d1a7d3f7-89fb-4eb8-f56c-4103bd4ac94d"
      },
      "outputs": [
        {
          "output_type": "stream",
          "name": "stdout",
          "text": [
            "torch.Size([12665, 2304])\n"
          ]
        }
      ],
      "source": [
        "# flatten(이미지를 한줄로 펼치는 것)\n",
        "f1 = torch.nn.Flatten()\n",
        "print(f1(a1(m1(c1(x_tr)))).shape) #16 * 12 * 12 = 2304"
      ]
    },
    {
      "cell_type": "code",
      "execution_count": 16,
      "metadata": {
        "id": "7ieKzCd7jGBv"
      },
      "outputs": [],
      "source": [
        "# sigmoid에 올리기 위해서는 2304 디멘젼을 1로 만들어야함\n",
        "l1=torch.nn.Linear(in_features=2304,out_features=1) "
      ]
    },
    {
      "cell_type": "code",
      "execution_count": 17,
      "metadata": {
        "id": "FtyfA2anidBK",
        "colab": {
          "base_uri": "https://localhost:8080/"
        },
        "outputId": "55bf9108-4f6d-407e-b342-3e6f933eaa25"
      },
      "outputs": [
        {
          "output_type": "stream",
          "name": "stdout",
          "text": [
            "torch.Size([12665, 2304])\n"
          ]
        }
      ],
      "source": [
        "# sigmoid (값이 0에서 1사이의 값, 즉 확률로 출력되도록)\n",
        "a2 = torch.nn.Sigmoid()\n",
        "print(a2(f1(a1(m1(c1(x_tr))))).shape)"
      ]
    },
    {
      "cell_type": "code",
      "execution_count": 18,
      "metadata": {
        "id": "-XK2Vu9kitxS",
        "colab": {
          "base_uri": "https://localhost:8080/"
        },
        "outputId": "df2242e6-bcc0-4fc4-dd6c-435c685d9132"
      },
      "outputs": [
        {
          "output_type": "stream",
          "name": "stdout",
          "text": [
            "이미지 사이즈:                      torch.Size([12665, 1, 28, 28])\n",
            "conv:                               torch.Size([12665, 16, 24, 24])\n",
            "(ReLU) -> maxpooling:               torch.Size([12665, 16, 12, 12])\n",
            "이미지 펼치기:                      torch.Size([12665, 2304])\n",
            "이미지를 하나의 스칼라로 선형변환:  torch.Size([12665, 1])\n",
            "시그모이드:                         torch.Size([12665, 1])\n"
          ]
        }
      ],
      "source": [
        "print('이미지 사이즈:                     ', x_tr.shape)\n",
        "print('conv:                              ',c1(x_tr).shape)\n",
        "print('(ReLU) -> maxpooling:              ',m1(a1(c1(x_tr))).shape)\n",
        "print('이미지 펼치기:                     ',f1(a1(m1(c1(x_tr)))).shape)\n",
        "print('이미지를 하나의 스칼라로 선형변환: ',l1(f1(a1(m1(c1(x_tr))))).shape)\n",
        "print('시그모이드:                        ',a2(l1(f1(a1(m1(c1(x_tr)))))).shape)"
      ]
    },
    {
      "cell_type": "markdown",
      "metadata": {
        "id": "xKbrhmtljuCi"
      },
      "source": [
        "### networks 설계 "
      ]
    },
    {
      "cell_type": "markdown",
      "metadata": {
        "id": "kBt6JmGMkfaw"
      },
      "source": [
        "- 원래라면 아래와 같은 코드를 사용하여 network를 학습시키겠지만 CNN과 같이 파라미터가 많은 network는 CPU로 연산시 학습할때 시간이 오래걸림\n",
        "```python\n",
        "loss_fn=torch.nn.BCELoss()\n",
        "optimizr= torch.optim.Adam(net.parameters())\n",
        "t1= time.time()\n",
        "for epoc in range(100): \n",
        "    ## 1 \n",
        "    yhat=net(x_tr)\n",
        "    ## 2 \n",
        "    loss=loss_fn(yhat,y_tr) \n",
        "    ## 3 \n",
        "    loss.backward()\n",
        "    ## 4 \n",
        "    optimizr.step()\n",
        "    optimizr.zero_grad()\n",
        "t2 = time.time()\n",
        "t2-t1\n",
        "```\n",
        "$\\to$ overview때 배운 fastai에 있는 데이터로더를 사용하면 GPU를 사용해 연산을 할 수 있다.\n"
      ]
    },
    {
      "cell_type": "code",
      "execution_count": 19,
      "metadata": {
        "id": "ClsVqUzxku85"
      },
      "outputs": [],
      "source": [
        "# 데이터 로더에 들어갈 데이터세트 준비\n",
        "ds_tr = torch.utils.data.TensorDataset(x_tr, y_tr)\n",
        "ds_test = torch.utils.data.TensorDataset(x_test, y_test)"
      ]
    },
    {
      "cell_type": "markdown",
      "metadata": {
        "id": "XD1C6G1rl4-p"
      },
      "source": [
        "- 데이터 로더는 배치크기를 지정해줘야 함"
      ]
    },
    {
      "cell_type": "code",
      "execution_count": 20,
      "metadata": {
        "id": "R47qHrrFl90E",
        "colab": {
          "base_uri": "https://localhost:8080/"
        },
        "outputId": "d8be399c-24ab-416c-9ca4-8a4e018bd3eb"
      },
      "outputs": [
        {
          "output_type": "execute_result",
          "data": {
            "text/plain": [
              "(12665, 2115)"
            ]
          },
          "metadata": {},
          "execution_count": 20
        }
      ],
      "source": [
        "len(x_tr), len(x_test)"
      ]
    },
    {
      "cell_type": "markdown",
      "metadata": {
        "id": "5el8VIBTmGEV"
      },
      "source": [
        "- 데이터가 각각 12665, 2115개씩 들어가 있으므로 한번 업데이트할 때 총 데이터의 1 /10을 쓰도록 아래와 같이 배치 크기를 줌\n",
        "  - stochastic gradient descent(구용어: mini-batch gradient descent)"
      ]
    },
    {
      "cell_type": "code",
      "execution_count": 21,
      "metadata": {
        "id": "THsW96Xvllan"
      },
      "outputs": [],
      "source": [
        "# 데이터 로더\n",
        "dl_tr = torch.utils.data.DataLoader(ds_tr,batch_size=1266) \n",
        "dl_test = torch.utils.data.DataLoader(ds_test,batch_size=2115) "
      ]
    },
    {
      "cell_type": "code",
      "execution_count": 22,
      "metadata": {
        "id": "D2GayXnVlyZI"
      },
      "outputs": [],
      "source": [
        "dls = DataLoaders(dl_tr,dl_test)"
      ]
    },
    {
      "cell_type": "code",
      "execution_count": 23,
      "metadata": {
        "id": "rYQm-hDvj0Nn"
      },
      "outputs": [],
      "source": [
        "net = torch.nn.Sequential(\n",
        "    # conv layer \n",
        "    c1, \n",
        "    # ReLU\n",
        "    a1, \n",
        "    # maxpool\n",
        "    m1, \n",
        "    # flatten\n",
        "    f1, \n",
        "    # linear transform (n -> 1)\n",
        "    l1,\n",
        "    # Sigmoid\n",
        "    a2\n",
        ")\n",
        "\n",
        "loss_fn=torch.nn.BCELoss()"
      ]
    },
    {
      "cell_type": "code",
      "execution_count": 24,
      "metadata": {
        "id": "imUZnNTimmSo"
      },
      "outputs": [],
      "source": [
        "lrnr = Learner(dls,net,loss_fn) # fastai의 Learner는 오미타이저의 기본값이 adam이므로 따로 지정해주지 않아도 됨"
      ]
    },
    {
      "cell_type": "code",
      "execution_count": 25,
      "metadata": {
        "id": "eMyxENWMm5or",
        "colab": {
          "base_uri": "https://localhost:8080/",
          "height": 363
        },
        "outputId": "f620fd05-8810-4a0a-ca08-488bafc69dfb"
      },
      "outputs": [
        {
          "output_type": "display_data",
          "data": {
            "text/plain": [
              "<IPython.core.display.HTML object>"
            ],
            "text/html": [
              "\n",
              "<style>\n",
              "    /* Turns off some styling */\n",
              "    progress {\n",
              "        /* gets rid of default border in Firefox and Opera. */\n",
              "        border: none;\n",
              "        /* Needs to be in here for Safari polyfill so background images work as expected. */\n",
              "        background-size: auto;\n",
              "    }\n",
              "    progress:not([value]), progress:not([value])::-webkit-progress-bar {\n",
              "        background: repeating-linear-gradient(45deg, #7e7e7e, #7e7e7e 10px, #5c5c5c 10px, #5c5c5c 20px);\n",
              "    }\n",
              "    .progress-bar-interrupted, .progress-bar-interrupted::-webkit-progress-bar {\n",
              "        background: #F44336;\n",
              "    }\n",
              "</style>\n"
            ]
          },
          "metadata": {}
        },
        {
          "output_type": "display_data",
          "data": {
            "text/plain": [
              "<IPython.core.display.HTML object>"
            ],
            "text/html": [
              "<table border=\"1\" class=\"dataframe\">\n",
              "  <thead>\n",
              "    <tr style=\"text-align: left;\">\n",
              "      <th>epoch</th>\n",
              "      <th>train_loss</th>\n",
              "      <th>valid_loss</th>\n",
              "      <th>time</th>\n",
              "    </tr>\n",
              "  </thead>\n",
              "  <tbody>\n",
              "    <tr>\n",
              "      <td>0</td>\n",
              "      <td>0.979273</td>\n",
              "      <td>0.639250</td>\n",
              "      <td>00:05</td>\n",
              "    </tr>\n",
              "    <tr>\n",
              "      <td>1</td>\n",
              "      <td>0.703008</td>\n",
              "      <td>0.402466</td>\n",
              "      <td>00:00</td>\n",
              "    </tr>\n",
              "    <tr>\n",
              "      <td>2</td>\n",
              "      <td>0.547401</td>\n",
              "      <td>0.256881</td>\n",
              "      <td>00:00</td>\n",
              "    </tr>\n",
              "    <tr>\n",
              "      <td>3</td>\n",
              "      <td>0.434025</td>\n",
              "      <td>0.142217</td>\n",
              "      <td>00:00</td>\n",
              "    </tr>\n",
              "    <tr>\n",
              "      <td>4</td>\n",
              "      <td>0.340996</td>\n",
              "      <td>0.079636</td>\n",
              "      <td>00:00</td>\n",
              "    </tr>\n",
              "    <tr>\n",
              "      <td>5</td>\n",
              "      <td>0.267902</td>\n",
              "      <td>0.048050</td>\n",
              "      <td>00:00</td>\n",
              "    </tr>\n",
              "    <tr>\n",
              "      <td>6</td>\n",
              "      <td>0.211895</td>\n",
              "      <td>0.031742</td>\n",
              "      <td>00:00</td>\n",
              "    </tr>\n",
              "    <tr>\n",
              "      <td>7</td>\n",
              "      <td>0.169176</td>\n",
              "      <td>0.022921</td>\n",
              "      <td>00:00</td>\n",
              "    </tr>\n",
              "    <tr>\n",
              "      <td>8</td>\n",
              "      <td>0.136331</td>\n",
              "      <td>0.017658</td>\n",
              "      <td>00:00</td>\n",
              "    </tr>\n",
              "    <tr>\n",
              "      <td>9</td>\n",
              "      <td>0.110770</td>\n",
              "      <td>0.014233</td>\n",
              "      <td>00:00</td>\n",
              "    </tr>\n",
              "  </tbody>\n",
              "</table>"
            ]
          },
          "metadata": {}
        }
      ],
      "source": [
        "lrnr.fit(10)"
      ]
    },
    {
      "cell_type": "markdown",
      "metadata": {
        "id": "5C_snDeJor-s"
      },
      "source": [
        "- Learner 오브젝트에 들어간 net은 gpu상에 있도록 되어있음\n",
        "> ``` python \n",
        "  net[0].weight\n",
        "  ```\n",
        "  위 코드를 출력하면 weight tensor가 출력되는데 가장 밑을 확인하면 device = 'cuda:0'라는 것이 있음. 이는 해당 tensor가 gpu상에 위치해있는 것을 의미한다. \n",
        "   \n",
        "   `+` tensor 연산을 할 때에는 모든 tensor가 같은 곳에 위치해있어야 한다."
      ]
    },
    {
      "cell_type": "code",
      "execution_count": 26,
      "metadata": {
        "id": "CP1vv4XskSg3",
        "colab": {
          "base_uri": "https://localhost:8080/",
          "height": 301
        },
        "outputId": "cf86acb1-8fc5-4932-c959-15a5f9a5cfc4"
      },
      "outputs": [
        {
          "output_type": "execute_result",
          "data": {
            "text/plain": [
              "Text(0.5, 1.0, 'Training Set')"
            ]
          },
          "metadata": {},
          "execution_count": 26
        },
        {
          "output_type": "display_data",
          "data": {
            "text/plain": [
              "<Figure size 432x288 with 1 Axes>"
            ],
            "image/png": "[encoded data removed]"
          },
          "metadata": {
            "needs_background": "light"
          }
        }
      ],
      "source": [
        "net = net.to('cpu')\n",
        "plt.plot(net(x_tr).data,'.')\n",
        "plt.title(\"Training Set\",size=15)"
      ]
    },
    {
      "cell_type": "code",
      "execution_count": 27,
      "metadata": {
        "id": "DO0dTWtlpkjI",
        "colab": {
          "base_uri": "https://localhost:8080/",
          "height": 301
        },
        "outputId": "a7fb7c0e-8932-43d1-d10e-a045fcf0a914"
      },
      "outputs": [
        {
          "output_type": "execute_result",
          "data": {
            "text/plain": [
              "Text(0.5, 1.0, 'Testing Set')"
            ]
          },
          "metadata": {},
          "execution_count": 27
        },
        {
          "output_type": "display_data",
          "data": {
            "text/plain": [
              "<Figure size 432x288 with 1 Axes>"
            ],
            "image/png": "[encoded data removed]"
          },
          "metadata": {
            "needs_background": "light"
          }
        }
      ],
      "source": [
        "plt.plot(net(x_test).data,'.')\n",
        "plt.title(\"Testing Set\",size=15)"
      ]
    },
    {
      "cell_type": "markdown",
      "metadata": {
        "id": "VLlDOtINqux8"
      },
      "source": [
        "## Loss function"
      ]
    },
    {
      "cell_type": "markdown",
      "metadata": {
        "id": "cNMKPEUBpsey"
      },
      "source": [
        "### BCEWithLogitsLoss\n",
        "- BCEWithLogitsLoss = Sigmoid + BCELoss\n",
        "- 손실함수로 이를 사용하면 network 마지막에 시그모이드 함수를 추가하지 않아도 됨\n",
        "- 이를 사용하면 수치적으로 더 안정이 된다는 장점이 있음"
      ]
    },
    {
      "cell_type": "markdown",
      "metadata": {
        "id": "TFp7vVaYqSzk"
      },
      "source": [
        "## k개의 클래스를 분류하는 모델"
      ]
    },
    {
      "cell_type": "markdown",
      "metadata": {
        "id": "QROMiVvqVsSi"
      },
      "source": [
        ">다중(k개) 클래스를 분류\n",
        "- LossFunction: CrossEntrophyLoss  \n",
        "- ActivationFunction: SoftmaxFunction\n",
        "- 마지막 출력층: torch.nn.Linear(n, k)\n",
        "\n"
      ]
    },
    {
      "cell_type": "markdown",
      "metadata": {
        "id": "UTHa20j2WJ9z"
      },
      "source": [
        "### SoftmaxFunction\n",
        "- 소프트맥스 함수가 계산하는 과정은 아래와 같음\n",
        "(3개를 분류할 경우) $softmax=\\frac{e^{a 또는 b 또는 c}}{e^{a} + e^{b} + e^{c}}$"
      ]
    },
    {
      "cell_type": "markdown",
      "metadata": {
        "id": "BdNso4HxXGPi"
      },
      "source": [
        "### CrossEntrophyLoss\n",
        "- k개의 클래스를 분류하는 모델의 Loss 계산 방법\n",
        "\n",
        "``` python\n",
        "sftmax(_netout) # -> 0 ~ 1 사이의 값 k개 출력\n",
        "\n",
        "torch.log(sftmax(_netout)) # -> 0 ~ 1사이의 값을 로그에 넣게 되면 -∞ ~ 0사이의 값 k개 출력\n",
        "\n",
        "- torch.log(sftmax(_netout)) * _y_onehot \n",
        "# 만약 값이 log(sftmax(_netout)) = [-2.2395, -2.2395, -0.2395] 이렇게 나오고 \n",
        "#y_onehot이 [1, 0, 0]이라면 해당 코드의 결과, 즉 loss는 2.2395이 된다. \n",
        "\n",
        "```\n",
        "- 만약 모델이 첫 번째 값이 확실하게 정답이라고 생각한다면 로그의 결과값은 0이 된다 -> 해당 값이 정답일경우 0 * 1 = 0이므로 loss는 0이 된다\n",
        "\n",
        "- 최종적으로는 위 코드를 통해 얻은 Loss를 평균을 내어 출력한다.\n",
        "\n",
        "`+` 위의 설명은 정답이 원-핫 인코딩 형식으로 되어있을 때의 Loss계산 방법임  \n",
        "`+` 정답이 vector + 정수형으로 되어 있을 때의 Loss계산 방법은 잘 모르겠음"
      ]
    },
    {
      "cell_type": "markdown",
      "metadata": {
        "id": "yfqBu_1DXldG"
      },
      "source": [
        "### 정답(y)의 형태\n",
        "- type 1) int형을 사용하는 방법 (vector)\n",
        "\n",
        "- type 2) float형을 사용하는 방법 (one-hot encoded vector)\n",
        "\n",
        "- 만약 사슴, 강아지, 고양이를 분류하는 모델이라면\n",
        "  - type 1)의 경우 <사슴: 0, 강아지: 1, 고양이: 2> (단, 데이터 형태는는 int(정수))\n",
        "  - type 2)의 경우 <사슴: [1, 0, 0],\n",
        "강아지: [0, 1, 0], 고양이: [0, 0, 1] > (단, 데이터의 형태는 float(실수))"
      ]
    },
    {
      "cell_type": "markdown",
      "metadata": {
        "id": "ZtpZHBTWdyZm"
      },
      "source": [
        "#### vector(int)"
      ]
    },
    {
      "cell_type": "code",
      "source": [
        "X0 = torch.stack([torchvision.io.read_image(str(fname)) for fname in (path/'training/0').ls()])\n",
        "X1 = torch.stack([torchvision.io.read_image(str(fname)) for fname in (path/'training/1').ls()])"
      ],
      "metadata": {
        "id": "RIOAtZj3f18D"
      },
      "execution_count": 29,
      "outputs": []
    },
    {
      "cell_type": "code",
      "execution_count": 30,
      "metadata": {
        "id": "rzpKqRjFcw-t",
        "colab": {
          "base_uri": "https://localhost:8080/"
        },
        "outputId": "7c3b556f-b4cb-450c-bd7a-55bef2eec276"
      },
      "outputs": [
        {
          "output_type": "execute_result",
          "data": {
            "text/plain": [
              "tensor([0, 0, 0,  ..., 1, 1, 1])"
            ]
          },
          "metadata": {},
          "execution_count": 30
        }
      ],
      "source": [
        "torch.tensor([0]*len(X0) + [1]*len(X1))#.reshape(-1,1)"
      ]
    },
    {
      "cell_type": "markdown",
      "metadata": {
        "id": "eBR71jhyd6GE"
      },
      "source": [
        "#### one-hot encoded vector(float)"
      ]
    },
    {
      "cell_type": "code",
      "execution_count": 31,
      "metadata": {
        "id": "FsuVh_lRdyCr",
        "colab": {
          "base_uri": "https://localhost:8080/"
        },
        "outputId": "578c8979-3bec-4dfd-d139-907e2d4216d2"
      },
      "outputs": [
        {
          "output_type": "execute_result",
          "data": {
            "text/plain": [
              "tensor([[1., 0.],\n",
              "        [1., 0.],\n",
              "        [1., 0.],\n",
              "        ...,\n",
              "        [0., 1.],\n",
              "        [0., 1.],\n",
              "        [0., 1.]])"
            ]
          },
          "metadata": {},
          "execution_count": 31
        }
      ],
      "source": [
        "yy = torch.tensor([0]*len(X0) + [1]*len(X1))#.reshape(-1,1)\n",
        "torch.nn.functional.one_hot(yy).float()"
      ]
    },
    {
      "cell_type": "markdown",
      "metadata": {
        "id": "9n2w-g6-YwdF"
      },
      "source": [
        "### 다중 클래스 분류 모델"
      ]
    },
    {
      "cell_type": "code",
      "execution_count": 32,
      "metadata": {
        "id": "7ev34NOEYdLr"
      },
      "outputs": [],
      "source": [
        "# train\n",
        "X0 = torch.stack([torchvision.io.read_image(str(fname)) for fname in (path/'training/0').ls()])\n",
        "X1 = torch.stack([torchvision.io.read_image(str(fname)) for fname in (path/'training/1').ls()])\n",
        "X2 = torch.stack([torchvision.io.read_image(str(fname)) for fname in (path/'training/2').ls()])\n",
        "X = torch.concat([X0,X1,X2])/255\n",
        "y = torch.tensor([0]*len(X0) + [1]*len(X1)+ [2]*len(X2))#.reshape(-1,1)"
      ]
    },
    {
      "cell_type": "code",
      "execution_count": 33,
      "metadata": {
        "id": "QjAhted0ZOxB"
      },
      "outputs": [],
      "source": [
        "# test\n",
        "X0 = torch.stack([torchvision.io.read_image(str(fname)) for fname in (path/'testing/0').ls()])\n",
        "X1 = torch.stack([torchvision.io.read_image(str(fname)) for fname in (path/'testing/1').ls()])\n",
        "X2 = torch.stack([torchvision.io.read_image(str(fname)) for fname in (path/'testing/2').ls()])\n",
        "XX = torch.concat([X0,X1,X2])/255\n",
        "yy = torch.tensor([0]*len(X0) + [1]*len(X1)+ [2]*len(X2))#.reshape(-1,1)"
      ]
    },
    {
      "cell_type": "code",
      "execution_count": 34,
      "metadata": {
        "id": "cHBpX30LZYMS",
        "colab": {
          "base_uri": "https://localhost:8080/"
        },
        "outputId": "e5b3d161-585d-4f2e-9f50-14cd37bd57b2"
      },
      "outputs": [
        {
          "output_type": "execute_result",
          "data": {
            "text/plain": [
              "18623"
            ]
          },
          "metadata": {},
          "execution_count": 34
        }
      ],
      "source": [
        "len(X) # 18623"
      ]
    },
    {
      "cell_type": "code",
      "execution_count": 35,
      "metadata": {
        "id": "aFRVYTYKZWBT"
      },
      "outputs": [],
      "source": [
        "ds1 = torch.utils.data.TensorDataset(X,y) \n",
        "ds2 = torch.utils.data.TensorDataset(XX,yy) \n",
        "dl1 = torch.utils.data.DataLoader(ds1,batch_size=1862) # 에폭당 11번= 1862 꽉 채워서 10번하고 3개정도 남은 걸로 한 번\n",
        "dl2 = torch.utils.data.DataLoader(ds2,batch_size=3147) # test는 전부다 넣어서\n",
        "dls = DataLoaders(dl1,dl2) "
      ]
    },
    {
      "cell_type": "code",
      "execution_count": 36,
      "metadata": {
        "id": "xwWRLXFOZkHI"
      },
      "outputs": [],
      "source": [
        "net = torch.nn.Sequential(\n",
        "    torch.nn.Conv2d(1,16,(5,5)),\n",
        "    torch.nn.ReLU(),\n",
        "    torch.nn.MaxPool2d((2,2)),\n",
        "    torch.nn.Flatten(),\n",
        "    torch.nn.Linear(2304,3) # 0,1,2 3개를 구분하는 문제이므로 out_features=3 \n",
        ")\n",
        "\n",
        "loss_fn = torch.nn.CrossEntropyLoss() # 여기에는 softmax함수가 내장되어 있음 \n",
        "#-> net마지막에 softmax를 넣으면 안됨\n",
        "# BCEWithLogitsLoss 느낌(시그모이드 + BCE)"
      ]
    },
    {
      "cell_type": "code",
      "execution_count": 37,
      "metadata": {
        "id": "XsG62CRcZrkz"
      },
      "outputs": [],
      "source": [
        "lrnr = Learner(dls,net,loss_fn) # 옵티마이저는 아답이 디폴트 값이어서 굳이 안넣어도 됨"
      ]
    },
    {
      "cell_type": "code",
      "execution_count": 38,
      "metadata": {
        "colab": {
          "base_uri": "https://localhost:8080/",
          "height": 363
        },
        "id": "GhuTgSZyaigL",
        "outputId": "abe24019-5d97-4973-f2c2-f6aa75cf21a0"
      },
      "outputs": [
        {
          "output_type": "display_data",
          "data": {
            "text/plain": [
              "<IPython.core.display.HTML object>"
            ],
            "text/html": [
              "\n",
              "<style>\n",
              "    /* Turns off some styling */\n",
              "    progress {\n",
              "        /* gets rid of default border in Firefox and Opera. */\n",
              "        border: none;\n",
              "        /* Needs to be in here for Safari polyfill so background images work as expected. */\n",
              "        background-size: auto;\n",
              "    }\n",
              "    progress:not([value]), progress:not([value])::-webkit-progress-bar {\n",
              "        background: repeating-linear-gradient(45deg, #7e7e7e, #7e7e7e 10px, #5c5c5c 10px, #5c5c5c 20px);\n",
              "    }\n",
              "    .progress-bar-interrupted, .progress-bar-interrupted::-webkit-progress-bar {\n",
              "        background: #F44336;\n",
              "    }\n",
              "</style>\n"
            ]
          },
          "metadata": {}
        },
        {
          "output_type": "display_data",
          "data": {
            "text/plain": [
              "<IPython.core.display.HTML object>"
            ],
            "text/html": [
              "<table border=\"1\" class=\"dataframe\">\n",
              "  <thead>\n",
              "    <tr style=\"text-align: left;\">\n",
              "      <th>epoch</th>\n",
              "      <th>train_loss</th>\n",
              "      <th>valid_loss</th>\n",
              "      <th>time</th>\n",
              "    </tr>\n",
              "  </thead>\n",
              "  <tbody>\n",
              "    <tr>\n",
              "      <td>0</td>\n",
              "      <td>1.797101</td>\n",
              "      <td>1.103916</td>\n",
              "      <td>00:00</td>\n",
              "    </tr>\n",
              "    <tr>\n",
              "      <td>1</td>\n",
              "      <td>1.267011</td>\n",
              "      <td>0.823797</td>\n",
              "      <td>00:00</td>\n",
              "    </tr>\n",
              "    <tr>\n",
              "      <td>2</td>\n",
              "      <td>1.055513</td>\n",
              "      <td>0.667210</td>\n",
              "      <td>00:00</td>\n",
              "    </tr>\n",
              "    <tr>\n",
              "      <td>3</td>\n",
              "      <td>0.910746</td>\n",
              "      <td>0.435414</td>\n",
              "      <td>00:00</td>\n",
              "    </tr>\n",
              "    <tr>\n",
              "      <td>4</td>\n",
              "      <td>0.762887</td>\n",
              "      <td>0.284001</td>\n",
              "      <td>00:00</td>\n",
              "    </tr>\n",
              "    <tr>\n",
              "      <td>5</td>\n",
              "      <td>0.625515</td>\n",
              "      <td>0.199502</td>\n",
              "      <td>00:00</td>\n",
              "    </tr>\n",
              "    <tr>\n",
              "      <td>6</td>\n",
              "      <td>0.515352</td>\n",
              "      <td>0.152906</td>\n",
              "      <td>00:00</td>\n",
              "    </tr>\n",
              "    <tr>\n",
              "      <td>7</td>\n",
              "      <td>0.429145</td>\n",
              "      <td>0.123678</td>\n",
              "      <td>00:00</td>\n",
              "    </tr>\n",
              "    <tr>\n",
              "      <td>8</td>\n",
              "      <td>0.359694</td>\n",
              "      <td>0.105466</td>\n",
              "      <td>00:00</td>\n",
              "    </tr>\n",
              "    <tr>\n",
              "      <td>9</td>\n",
              "      <td>0.303888</td>\n",
              "      <td>0.092883</td>\n",
              "      <td>00:00</td>\n",
              "    </tr>\n",
              "  </tbody>\n",
              "</table>"
            ]
          },
          "metadata": {}
        }
      ],
      "source": [
        "lrnr.fit(10) "
      ]
    },
    {
      "cell_type": "code",
      "execution_count": 39,
      "metadata": {
        "colab": {
          "base_uri": "https://localhost:8080/",
          "height": 424
        },
        "id": "ywzGPOcTbABI",
        "outputId": "8e9885de-109c-46ad-db6d-583c524694b8"
      },
      "outputs": [
        {
          "output_type": "execute_result",
          "data": {
            "text/plain": [
              "             0          1         2  y\n",
              "0     0.981043  -9.135092 -1.149270  0\n",
              "1    -0.292905  -4.281692 -0.924575  0\n",
              "2     4.085316  -9.199694 -3.482234  0\n",
              "3     2.484926  -9.336347 -3.127304  0\n",
              "4     3.310040 -12.257785 -2.177761  0\n",
              "...        ...        ...       ... ..\n",
              "3142 -1.138366  -5.435792  0.370670  2\n",
              "3143 -4.458741  -4.281343  2.052410  2\n",
              "3144 -2.836508  -3.204013  0.012610  2\n",
              "3145 -1.704158 -10.621873  2.024313  2\n",
              "3146 -2.467648  -4.612999  0.656284  2\n",
              "\n",
              "[3147 rows x 4 columns]"
            ],
            "text/html": [
              "\n",
              "  <div id=\"df-5529853d-2008-4654-8551-26016c591be3\">\n",
              "    <div class=\"colab-df-container\">\n",
              "      <div>\n",
              "<style scoped>\n",
              "    .dataframe tbody tr th:only-of-type {\n",
              "        vertical-align: middle;\n",
              "    }\n",
              "\n",
              "    .dataframe tbody tr th {\n",
              "        vertical-align: top;\n",
              "    }\n",
              "\n",
              "    .dataframe thead th {\n",
              "        text-align: right;\n",
              "    }\n",
              "</style>\n",
              "<table border=\"1\" class=\"dataframe\">\n",
              "  <thead>\n",
              "    <tr style=\"text-align: right;\">\n",
              "      <th></th>\n",
              "      <th>0</th>\n",
              "      <th>1</th>\n",
              "      <th>2</th>\n",
              "      <th>y</th>\n",
              "    </tr>\n",
              "  </thead>\n",
              "  <tbody>\n",
              "    <tr>\n",
              "      <th>0</th>\n",
              "      <td>0.981043</td>\n",
              "      <td>-9.135092</td>\n",
              "      <td>-1.149270</td>\n",
              "      <td>0</td>\n",
              "    </tr>\n",
              "    <tr>\n",
              "      <th>1</th>\n",
              "      <td>-0.292905</td>\n",
              "      <td>-4.281692</td>\n",
              "      <td>-0.924575</td>\n",
              "      <td>0</td>\n",
              "    </tr>\n",
              "    <tr>\n",
              "      <th>2</th>\n",
              "      <td>4.085316</td>\n",
              "      <td>-9.199694</td>\n",
              "      <td>-3.482234</td>\n",
              "      <td>0</td>\n",
              "    </tr>\n",
              "    <tr>\n",
              "      <th>3</th>\n",
              "      <td>2.484926</td>\n",
              "      <td>-9.336347</td>\n",
              "      <td>-3.127304</td>\n",
              "      <td>0</td>\n",
              "    </tr>\n",
              "    <tr>\n",
              "      <th>4</th>\n",
              "      <td>3.310040</td>\n",
              "      <td>-12.257785</td>\n",
              "      <td>-2.177761</td>\n",
              "      <td>0</td>\n",
              "    </tr>\n",
              "    <tr>\n",
              "      <th>...</th>\n",
              "      <td>...</td>\n",
              "      <td>...</td>\n",
              "      <td>...</td>\n",
              "      <td>...</td>\n",
              "    </tr>\n",
              "    <tr>\n",
              "      <th>3142</th>\n",
              "      <td>-1.138366</td>\n",
              "      <td>-5.435792</td>\n",
              "      <td>0.370670</td>\n",
              "      <td>2</td>\n",
              "    </tr>\n",
              "    <tr>\n",
              "      <th>3143</th>\n",
              "      <td>-4.458741</td>\n",
              "      <td>-4.281343</td>\n",
              "      <td>2.052410</td>\n",
              "      <td>2</td>\n",
              "    </tr>\n",
              "    <tr>\n",
              "      <th>3144</th>\n",
              "      <td>-2.836508</td>\n",
              "      <td>-3.204013</td>\n",
              "      <td>0.012610</td>\n",
              "      <td>2</td>\n",
              "    </tr>\n",
              "    <tr>\n",
              "      <th>3145</th>\n",
              "      <td>-1.704158</td>\n",
              "      <td>-10.621873</td>\n",
              "      <td>2.024313</td>\n",
              "      <td>2</td>\n",
              "    </tr>\n",
              "    <tr>\n",
              "      <th>3146</th>\n",
              "      <td>-2.467648</td>\n",
              "      <td>-4.612999</td>\n",
              "      <td>0.656284</td>\n",
              "      <td>2</td>\n",
              "    </tr>\n",
              "  </tbody>\n",
              "</table>\n",
              "<p>3147 rows × 4 columns</p>\n",
              "</div>\n",
              "      <button class=\"colab-df-convert\" onclick=\"convertToInteractive('df-5529853d-2008-4654-8551-26016c591be3')\"\n",
              "              title=\"Convert this dataframe to an interactive table.\"\n",
              "              style=\"display:none;\">\n",
              "        \n",
              "  <svg xmlns=\"http://www.w3.org/2000/svg\" height=\"24px\"viewBox=\"0 0 24 24\"\n",
              "       width=\"24px\">\n",
              "    <path d=\"M0 0h24v24H0V0z\" fill=\"none\"/>\n",
              "    <path d=\"M18.56 5.44l.94 2.06.94-2.06 2.06-.94-2.06-.94-.94-2.06-.94 2.06-2.06.94zm-11 1L8.5 8.5l.94-2.06 2.06-.94-2.06-.94L8.5 2.5l-.94 2.06-2.06.94zm10 10l.94 2.06.94-2.06 2.06-.94-2.06-.94-.94-2.06-.94 2.06-2.06.94z\"/><path d=\"M17.41 7.96l-1.37-1.37c-.4-.4-.92-.59-1.43-.59-.52 0-1.04.2-1.43.59L10.3 9.45l-7.72 7.72c-.78.78-.78 2.05 0 2.83L4 21.41c.39.39.9.59 1.41.59.51 0 1.02-.2 1.41-.59l7.78-7.78 2.81-2.81c.8-.78.8-2.07 0-2.86zM5.41 20L4 18.59l7.72-7.72 1.47 1.35L5.41 20z\"/>\n",
              "  </svg>\n",
              "      </button>\n",
              "      \n",
              "  <style>\n",
              "    .colab-df-container {\n",
              "      display:flex;\n",
              "      flex-wrap:wrap;\n",
              "      gap: 12px;\n",
              "    }\n",
              "\n",
              "    .colab-df-convert {\n",
              "      background-color: #E8F0FE;\n",
              "      border: none;\n",
              "      border-radius: 50%;\n",
              "      cursor: pointer;\n",
              "      display: none;\n",
              "      fill: #1967D2;\n",
              "      height: 32px;\n",
              "      padding: 0 0 0 0;\n",
              "      width: 32px;\n",
              "    }\n",
              "\n",
              "    .colab-df-convert:hover {\n",
              "      background-color: #E2EBFA;\n",
              "      box-shadow: 0px 1px 2px rgba(60, 64, 67, 0.3), 0px 1px 3px 1px rgba(60, 64, 67, 0.15);\n",
              "      fill: #174EA6;\n",
              "    }\n",
              "\n",
              "    [theme=dark] .colab-df-convert {\n",
              "      background-color: #3B4455;\n",
              "      fill: #D2E3FC;\n",
              "    }\n",
              "\n",
              "    [theme=dark] .colab-df-convert:hover {\n",
              "      background-color: #434B5C;\n",
              "      box-shadow: 0px 1px 3px 1px rgba(0, 0, 0, 0.15);\n",
              "      filter: drop-shadow(0px 1px 2px rgba(0, 0, 0, 0.3));\n",
              "      fill: #FFFFFF;\n",
              "    }\n",
              "  </style>\n",
              "\n",
              "      <script>\n",
              "        const buttonEl =\n",
              "          document.querySelector('#df-5529853d-2008-4654-8551-26016c591be3 button.colab-df-convert');\n",
              "        buttonEl.style.display =\n",
              "          google.colab.kernel.accessAllowed ? 'block' : 'none';\n",
              "\n",
              "        async function convertToInteractive(key) {\n",
              "          const element = document.querySelector('#df-5529853d-2008-4654-8551-26016c591be3');\n",
              "          const dataTable =\n",
              "            await google.colab.kernel.invokeFunction('convertToInteractive',\n",
              "                                                     [key], {});\n",
              "          if (!dataTable) return;\n",
              "\n",
              "          const docLinkHtml = 'Like what you see? Visit the ' +\n",
              "            '<a target=\"_blank\" href=https://colab.research.google.com/notebooks/data_table.ipynb>data table notebook</a>'\n",
              "            + ' to learn more about interactive tables.';\n",
              "          element.innerHTML = '';\n",
              "          dataTable['output_type'] = 'display_data';\n",
              "          await google.colab.output.renderOutput(dataTable, element);\n",
              "          const docLink = document.createElement('div');\n",
              "          docLink.innerHTML = docLinkHtml;\n",
              "          element.appendChild(docLink);\n",
              "        }\n",
              "      </script>\n",
              "    </div>\n",
              "  </div>\n",
              "  "
            ]
          },
          "metadata": {},
          "execution_count": 39
        }
      ],
      "source": [
        "lrnr.model.to(\"cpu\")\n",
        "\n",
        "pd.DataFrame(lrnr.model(XX)).assign(y=yy) "
      ]
    },
    {
      "cell_type": "code",
      "execution_count": 40,
      "metadata": {
        "colab": {
          "base_uri": "https://localhost:8080/",
          "height": 424
        },
        "id": "ehX6sUsPbAmV",
        "outputId": "c53fdba3-72ad-4fae-a0d2-6a8fd4628ca7"
      },
      "outputs": [
        {
          "output_type": "execute_result",
          "data": {
            "text/plain": [
              "            0          1         2  y\n",
              "0    0.981043  -9.135092 -1.149270  0\n",
              "1   -0.292905  -4.281692 -0.924575  0\n",
              "2    4.085316  -9.199694 -3.482234  0\n",
              "3    2.484926  -9.336347 -3.127304  0\n",
              "4    3.310040 -12.257785 -2.177761  0\n",
              "..        ...        ...       ... ..\n",
              "975  0.432969  -5.653580 -1.944451  0\n",
              "976  2.685695 -10.254354 -2.466680  0\n",
              "977  2.474842  -9.650204 -2.452746  0\n",
              "978  1.268743  -6.928779 -1.419695  0\n",
              "979  4.371464  -8.959077 -4.056257  0\n",
              "\n",
              "[980 rows x 4 columns]"
            ],
            "text/html": [
              "\n",
              "  <div id=\"df-f0513c3b-9af7-4442-955d-ec3737f641e9\">\n",
              "    <div class=\"colab-df-container\">\n",
              "      <div>\n",
              "<style scoped>\n",
              "    .dataframe tbody tr th:only-of-type {\n",
              "        vertical-align: middle;\n",
              "    }\n",
              "\n",
              "    .dataframe tbody tr th {\n",
              "        vertical-align: top;\n",
              "    }\n",
              "\n",
              "    .dataframe thead th {\n",
              "        text-align: right;\n",
              "    }\n",
              "</style>\n",
              "<table border=\"1\" class=\"dataframe\">\n",
              "  <thead>\n",
              "    <tr style=\"text-align: right;\">\n",
              "      <th></th>\n",
              "      <th>0</th>\n",
              "      <th>1</th>\n",
              "      <th>2</th>\n",
              "      <th>y</th>\n",
              "    </tr>\n",
              "  </thead>\n",
              "  <tbody>\n",
              "    <tr>\n",
              "      <th>0</th>\n",
              "      <td>0.981043</td>\n",
              "      <td>-9.135092</td>\n",
              "      <td>-1.149270</td>\n",
              "      <td>0</td>\n",
              "    </tr>\n",
              "    <tr>\n",
              "      <th>1</th>\n",
              "      <td>-0.292905</td>\n",
              "      <td>-4.281692</td>\n",
              "      <td>-0.924575</td>\n",
              "      <td>0</td>\n",
              "    </tr>\n",
              "    <tr>\n",
              "      <th>2</th>\n",
              "      <td>4.085316</td>\n",
              "      <td>-9.199694</td>\n",
              "      <td>-3.482234</td>\n",
              "      <td>0</td>\n",
              "    </tr>\n",
              "    <tr>\n",
              "      <th>3</th>\n",
              "      <td>2.484926</td>\n",
              "      <td>-9.336347</td>\n",
              "      <td>-3.127304</td>\n",
              "      <td>0</td>\n",
              "    </tr>\n",
              "    <tr>\n",
              "      <th>4</th>\n",
              "      <td>3.310040</td>\n",
              "      <td>-12.257785</td>\n",
              "      <td>-2.177761</td>\n",
              "      <td>0</td>\n",
              "    </tr>\n",
              "    <tr>\n",
              "      <th>...</th>\n",
              "      <td>...</td>\n",
              "      <td>...</td>\n",
              "      <td>...</td>\n",
              "      <td>...</td>\n",
              "    </tr>\n",
              "    <tr>\n",
              "      <th>975</th>\n",
              "      <td>0.432969</td>\n",
              "      <td>-5.653580</td>\n",
              "      <td>-1.944451</td>\n",
              "      <td>0</td>\n",
              "    </tr>\n",
              "    <tr>\n",
              "      <th>976</th>\n",
              "      <td>2.685695</td>\n",
              "      <td>-10.254354</td>\n",
              "      <td>-2.466680</td>\n",
              "      <td>0</td>\n",
              "    </tr>\n",
              "    <tr>\n",
              "      <th>977</th>\n",
              "      <td>2.474842</td>\n",
              "      <td>-9.650204</td>\n",
              "      <td>-2.452746</td>\n",
              "      <td>0</td>\n",
              "    </tr>\n",
              "    <tr>\n",
              "      <th>978</th>\n",
              "      <td>1.268743</td>\n",
              "      <td>-6.928779</td>\n",
              "      <td>-1.419695</td>\n",
              "      <td>0</td>\n",
              "    </tr>\n",
              "    <tr>\n",
              "      <th>979</th>\n",
              "      <td>4.371464</td>\n",
              "      <td>-8.959077</td>\n",
              "      <td>-4.056257</td>\n",
              "      <td>0</td>\n",
              "    </tr>\n",
              "  </tbody>\n",
              "</table>\n",
              "<p>980 rows × 4 columns</p>\n",
              "</div>\n",
              "      <button class=\"colab-df-convert\" onclick=\"convertToInteractive('df-f0513c3b-9af7-4442-955d-ec3737f641e9')\"\n",
              "              title=\"Convert this dataframe to an interactive table.\"\n",
              "              style=\"display:none;\">\n",
              "        \n",
              "  <svg xmlns=\"http://www.w3.org/2000/svg\" height=\"24px\"viewBox=\"0 0 24 24\"\n",
              "       width=\"24px\">\n",
              "    <path d=\"M0 0h24v24H0V0z\" fill=\"none\"/>\n",
              "    <path d=\"M18.56 5.44l.94 2.06.94-2.06 2.06-.94-2.06-.94-.94-2.06-.94 2.06-2.06.94zm-11 1L8.5 8.5l.94-2.06 2.06-.94-2.06-.94L8.5 2.5l-.94 2.06-2.06.94zm10 10l.94 2.06.94-2.06 2.06-.94-2.06-.94-.94-2.06-.94 2.06-2.06.94z\"/><path d=\"M17.41 7.96l-1.37-1.37c-.4-.4-.92-.59-1.43-.59-.52 0-1.04.2-1.43.59L10.3 9.45l-7.72 7.72c-.78.78-.78 2.05 0 2.83L4 21.41c.39.39.9.59 1.41.59.51 0 1.02-.2 1.41-.59l7.78-7.78 2.81-2.81c.8-.78.8-2.07 0-2.86zM5.41 20L4 18.59l7.72-7.72 1.47 1.35L5.41 20z\"/>\n",
              "  </svg>\n",
              "      </button>\n",
              "      \n",
              "  <style>\n",
              "    .colab-df-container {\n",
              "      display:flex;\n",
              "      flex-wrap:wrap;\n",
              "      gap: 12px;\n",
              "    }\n",
              "\n",
              "    .colab-df-convert {\n",
              "      background-color: #E8F0FE;\n",
              "      border: none;\n",
              "      border-radius: 50%;\n",
              "      cursor: pointer;\n",
              "      display: none;\n",
              "      fill: #1967D2;\n",
              "      height: 32px;\n",
              "      padding: 0 0 0 0;\n",
              "      width: 32px;\n",
              "    }\n",
              "\n",
              "    .colab-df-convert:hover {\n",
              "      background-color: #E2EBFA;\n",
              "      box-shadow: 0px 1px 2px rgba(60, 64, 67, 0.3), 0px 1px 3px 1px rgba(60, 64, 67, 0.15);\n",
              "      fill: #174EA6;\n",
              "    }\n",
              "\n",
              "    [theme=dark] .colab-df-convert {\n",
              "      background-color: #3B4455;\n",
              "      fill: #D2E3FC;\n",
              "    }\n",
              "\n",
              "    [theme=dark] .colab-df-convert:hover {\n",
              "      background-color: #434B5C;\n",
              "      box-shadow: 0px 1px 3px 1px rgba(0, 0, 0, 0.15);\n",
              "      filter: drop-shadow(0px 1px 2px rgba(0, 0, 0, 0.3));\n",
              "      fill: #FFFFFF;\n",
              "    }\n",
              "  </style>\n",
              "\n",
              "      <script>\n",
              "        const buttonEl =\n",
              "          document.querySelector('#df-f0513c3b-9af7-4442-955d-ec3737f641e9 button.colab-df-convert');\n",
              "        buttonEl.style.display =\n",
              "          google.colab.kernel.accessAllowed ? 'block' : 'none';\n",
              "\n",
              "        async function convertToInteractive(key) {\n",
              "          const element = document.querySelector('#df-f0513c3b-9af7-4442-955d-ec3737f641e9');\n",
              "          const dataTable =\n",
              "            await google.colab.kernel.invokeFunction('convertToInteractive',\n",
              "                                                     [key], {});\n",
              "          if (!dataTable) return;\n",
              "\n",
              "          const docLinkHtml = 'Like what you see? Visit the ' +\n",
              "            '<a target=\"_blank\" href=https://colab.research.google.com/notebooks/data_table.ipynb>data table notebook</a>'\n",
              "            + ' to learn more about interactive tables.';\n",
              "          element.innerHTML = '';\n",
              "          dataTable['output_type'] = 'display_data';\n",
              "          await google.colab.output.renderOutput(dataTable, element);\n",
              "          const docLink = document.createElement('div');\n",
              "          docLink.innerHTML = docLinkHtml;\n",
              "          element.appendChild(docLink);\n",
              "        }\n",
              "      </script>\n",
              "    </div>\n",
              "  </div>\n",
              "  "
            ]
          },
          "metadata": {},
          "execution_count": 40
        }
      ],
      "source": [
        "pd.DataFrame(lrnr.model(XX)).assign(y=yy).query('y==0')"
      ]
    },
    {
      "cell_type": "markdown",
      "metadata": {
        "id": "omUeI-IMbFT-"
      },
      "source": [
        "- 0으로 분류한 것들은 첫번째 열(0)의 값이 가장 큼 "
      ]
    },
    {
      "cell_type": "markdown",
      "metadata": {
        "id": "CocTiZLRcZJP"
      },
      "source": [
        "### 소프트맥스와 시그모이드"
      ]
    },
    {
      "cell_type": "markdown",
      "metadata": {
        "id": "lEe0i13yccKD"
      },
      "source": [
        "- 이진 분류시에는 소프트맥스와 시그모이드 모두 activation function으로 사용할 수 있지만 소프트맥스를 사용하면 출력층이 2개가 되므로 파라미터 낭비가 심해진다.\n",
        "- 이진 분류시에는 시그모이드를 사용하는 것이 적합함.\n",
        "- 소프트맥스는 3개 이상을 분류해야 할 경우에 사용하면 됨"
      ]
    },
    {
      "cell_type": "markdown",
      "source": [
        "### 메트릭이용\n",
        "- fastai에서 지원\n",
        "- fastai를 사용해 학습(lrnr.fit())을 할때 loss_value만 나오는 것이 아니라 error_rate과 정확도가 나오게 할 수 있는 옵션\n",
        "- y의 형태를 주의해서 사용해야 함\n",
        "  - 앞서 말한 것처럼 두 가지 타입이 있음\n",
        "    - vector + int\n",
        "    - one-hot encoded vector + float"
      ],
      "metadata": {
        "id": "MyzCR3DkiGfR"
      }
    },
    {
      "cell_type": "markdown",
      "source": [
        "type 1) y의 형태가 vector + int일 때\n",
        "- metrics = accuracy를 사용해야 함"
      ],
      "metadata": {
        "id": "KN13CV2klEVC"
      }
    },
    {
      "cell_type": "code",
      "source": [
        "# train\n",
        "X0 = torch.stack([torchvision.io.read_image(str(fname)) for fname in (path/'training/0').ls()])\n",
        "X1 = torch.stack([torchvision.io.read_image(str(fname)) for fname in (path/'training/1').ls()])\n",
        "X = torch.concat([X0,X1])/255"
      ],
      "metadata": {
        "id": "3YPvQc7vmD2O"
      },
      "execution_count": 48,
      "outputs": []
    },
    {
      "cell_type": "code",
      "source": [
        "y = torch.tensor([0.0]*len(X0) + [1.0]*len(X1)).reshape(-1,1)\n",
        "y.to(torch.int64).reshape(-1)"
      ],
      "metadata": {
        "colab": {
          "base_uri": "https://localhost:8080/"
        },
        "id": "P0zg1JS7mVjq",
        "outputId": "17e8117e-5ed3-4326-ea96-922f0b177b77"
      },
      "execution_count": 49,
      "outputs": [
        {
          "output_type": "execute_result",
          "data": {
            "text/plain": [
              "tensor([0, 0, 0,  ..., 1, 1, 1])"
            ]
          },
          "metadata": {},
          "execution_count": 49
        }
      ]
    },
    {
      "cell_type": "code",
      "source": [
        "# test\n",
        "X0 = torch.stack([torchvision.io.read_image(str(fname)) for fname in (path/'testing/0').ls()])\n",
        "X1 = torch.stack([torchvision.io.read_image(str(fname)) for fname in (path/'testing/1').ls()])\n",
        "XX = torch.concat([X0,X1])/255"
      ],
      "metadata": {
        "id": "T35Ce7r1mEbU"
      },
      "execution_count": 50,
      "outputs": []
    },
    {
      "cell_type": "code",
      "source": [
        "yy = torch.tensor([0.0]*len(X0) + [1.0]*len(X1)).reshape(-1,1)\n",
        "yy.to(torch.int64).reshape(-1)"
      ],
      "metadata": {
        "colab": {
          "base_uri": "https://localhost:8080/"
        },
        "id": "V7OSliNqkm_T",
        "outputId": "dbe3c1ce-6875-4d56-f6e6-b8c3121642ea"
      },
      "execution_count": 51,
      "outputs": [
        {
          "output_type": "execute_result",
          "data": {
            "text/plain": [
              "tensor([0, 0, 0,  ..., 1, 1, 1])"
            ]
          },
          "metadata": {},
          "execution_count": 51
        }
      ]
    },
    {
      "cell_type": "code",
      "source": [
        "ds1 = torch.utils.data.TensorDataset(X,y.to(torch.int64).reshape(-1))\n",
        "ds2 = torch.utils.data.TensorDataset(XX,yy.to(torch.int64).reshape(-1))\n",
        "\n",
        "dl1 = torch.utils.data.DataLoader(ds1,batch_size=1266) \n",
        "dl2 = torch.utils.data.DataLoader(ds2,batch_size=2115) \n",
        "\n",
        "dls = DataLoaders(dl1,dl2) "
      ],
      "metadata": {
        "id": "5Ar25PV_lQvV"
      },
      "execution_count": 53,
      "outputs": []
    },
    {
      "cell_type": "code",
      "source": [
        "net = torch.nn.Sequential(\n",
        "    torch.nn.Conv2d(1,16,(5,5)),\n",
        "    torch.nn.ReLU(),\n",
        "    torch.nn.MaxPool2d((2,2)),\n",
        "    torch.nn.Flatten(),\n",
        "    torch.nn.Linear(2304,2)\n",
        ")\n",
        "loss_fn = torch.nn.CrossEntropyLoss() \n",
        "lrnr = Learner(dls,net,loss_fn,metrics=[accuracy,error_rate])"
      ],
      "metadata": {
        "id": "7bfOw4Y-l5zl"
      },
      "execution_count": 59,
      "outputs": []
    },
    {
      "cell_type": "code",
      "source": [
        "lrnr.fit(10)"
      ],
      "metadata": {
        "colab": {
          "base_uri": "https://localhost:8080/",
          "height": 363
        },
        "id": "Yr3LsM1xmfuD",
        "outputId": "f137278e-c085-449f-8404-d96f03741c40"
      },
      "execution_count": 60,
      "outputs": [
        {
          "output_type": "display_data",
          "data": {
            "text/plain": [
              "<IPython.core.display.HTML object>"
            ],
            "text/html": [
              "\n",
              "<style>\n",
              "    /* Turns off some styling */\n",
              "    progress {\n",
              "        /* gets rid of default border in Firefox and Opera. */\n",
              "        border: none;\n",
              "        /* Needs to be in here for Safari polyfill so background images work as expected. */\n",
              "        background-size: auto;\n",
              "    }\n",
              "    progress:not([value]), progress:not([value])::-webkit-progress-bar {\n",
              "        background: repeating-linear-gradient(45deg, #7e7e7e, #7e7e7e 10px, #5c5c5c 10px, #5c5c5c 20px);\n",
              "    }\n",
              "    .progress-bar-interrupted, .progress-bar-interrupted::-webkit-progress-bar {\n",
              "        background: #F44336;\n",
              "    }\n",
              "</style>\n"
            ]
          },
          "metadata": {}
        },
        {
          "output_type": "display_data",
          "data": {
            "text/plain": [
              "<IPython.core.display.HTML object>"
            ],
            "text/html": [
              "<table border=\"1\" class=\"dataframe\">\n",
              "  <thead>\n",
              "    <tr style=\"text-align: left;\">\n",
              "      <th>epoch</th>\n",
              "      <th>train_loss</th>\n",
              "      <th>valid_loss</th>\n",
              "      <th>accuracy</th>\n",
              "      <th>error_rate</th>\n",
              "      <th>time</th>\n",
              "    </tr>\n",
              "  </thead>\n",
              "  <tbody>\n",
              "    <tr>\n",
              "      <td>0</td>\n",
              "      <td>1.128365</td>\n",
              "      <td>0.601474</td>\n",
              "      <td>0.463357</td>\n",
              "      <td>0.536643</td>\n",
              "      <td>00:00</td>\n",
              "    </tr>\n",
              "    <tr>\n",
              "      <td>1</td>\n",
              "      <td>0.684630</td>\n",
              "      <td>0.304262</td>\n",
              "      <td>0.975414</td>\n",
              "      <td>0.024586</td>\n",
              "      <td>00:00</td>\n",
              "    </tr>\n",
              "    <tr>\n",
              "      <td>2</td>\n",
              "      <td>0.503124</td>\n",
              "      <td>0.144147</td>\n",
              "      <td>0.989598</td>\n",
              "      <td>0.010402</td>\n",
              "      <td>00:00</td>\n",
              "    </tr>\n",
              "    <tr>\n",
              "      <td>3</td>\n",
              "      <td>0.373899</td>\n",
              "      <td>0.068306</td>\n",
              "      <td>0.996217</td>\n",
              "      <td>0.003783</td>\n",
              "      <td>00:00</td>\n",
              "    </tr>\n",
              "    <tr>\n",
              "      <td>4</td>\n",
              "      <td>0.281332</td>\n",
              "      <td>0.040790</td>\n",
              "      <td>0.996217</td>\n",
              "      <td>0.003783</td>\n",
              "      <td>00:00</td>\n",
              "    </tr>\n",
              "    <tr>\n",
              "      <td>5</td>\n",
              "      <td>0.215743</td>\n",
              "      <td>0.026980</td>\n",
              "      <td>0.996690</td>\n",
              "      <td>0.003310</td>\n",
              "      <td>00:00</td>\n",
              "    </tr>\n",
              "    <tr>\n",
              "      <td>6</td>\n",
              "      <td>0.168349</td>\n",
              "      <td>0.019467</td>\n",
              "      <td>0.996690</td>\n",
              "      <td>0.003310</td>\n",
              "      <td>00:00</td>\n",
              "    </tr>\n",
              "    <tr>\n",
              "      <td>7</td>\n",
              "      <td>0.133313</td>\n",
              "      <td>0.014856</td>\n",
              "      <td>0.998109</td>\n",
              "      <td>0.001891</td>\n",
              "      <td>00:00</td>\n",
              "    </tr>\n",
              "    <tr>\n",
              "      <td>8</td>\n",
              "      <td>0.106776</td>\n",
              "      <td>0.011745</td>\n",
              "      <td>0.998109</td>\n",
              "      <td>0.001891</td>\n",
              "      <td>00:00</td>\n",
              "    </tr>\n",
              "    <tr>\n",
              "      <td>9</td>\n",
              "      <td>0.086275</td>\n",
              "      <td>0.009553</td>\n",
              "      <td>0.999054</td>\n",
              "      <td>0.000946</td>\n",
              "      <td>00:00</td>\n",
              "    </tr>\n",
              "  </tbody>\n",
              "</table>"
            ]
          },
          "metadata": {}
        }
      ]
    },
    {
      "cell_type": "markdown",
      "source": [
        "type 2) y의 형태가 one-hot encoded vector + float일 때\n",
        "- metrics = accuracy_multi를 사용해야 함\n",
        "- error_rate는 사용못함"
      ],
      "metadata": {
        "id": "Jg7_JcIpngX9"
      }
    },
    {
      "cell_type": "code",
      "source": [
        "y_onehot = torch.tensor(list(map(lambda x: [1.0,0.0] if x==0 else [0.0,1.0], y)))\n",
        "yy_onehot = torch.tensor(list(map(lambda x: [1.0,0.0] if x==0 else [0.0,1.0], yy)))"
      ],
      "metadata": {
        "id": "CUYOEio_nr_Y"
      },
      "execution_count": null,
      "outputs": []
    },
    {
      "cell_type": "code",
      "source": [
        "y_onehot = torch.nn.functional.one_hot(y.reshape(-1).to(torch.int64)).to(torch.float32)\n",
        "yy_onehot = torch.nn.functional.one_hot(yy.reshape(-1).to(torch.int64)).to(torch.float32)"
      ],
      "metadata": {
        "id": "6L6KzLFUohJY"
      },
      "execution_count": 61,
      "outputs": []
    },
    {
      "cell_type": "markdown",
      "source": [
        "- torch.nn.functional.one_hot() 함수 조건\n",
        "  - 기본적으로 크기가 n인 벡터가 들어오길 기대 \n",
        "  - 정수가 들어오는 것을 기대\n",
        "- 하지만 원-핫 인코딩을 사용할 때에는 실수형으로 저장 되어야 하므로 마지막에 실수형으로 바꿔줘야 함"
      ],
      "metadata": {
        "id": "mb2yE-sBnyCH"
      }
    },
    {
      "cell_type": "code",
      "source": [
        "ds1 = torch.utils.data.TensorDataset(X,y_onehot)\n",
        "ds2 = torch.utils.data.TensorDataset(XX,yy_onehot)\n",
        "dl1 = torch.utils.data.DataLoader(ds1,batch_size=1266) \n",
        "dl2 = torch.utils.data.DataLoader(ds2,batch_size=2115) \n",
        "dls = DataLoaders(dl1,dl2) "
      ],
      "metadata": {
        "id": "PsBhQE-goX27"
      },
      "execution_count": 62,
      "outputs": []
    },
    {
      "cell_type": "code",
      "source": [
        "net = torch.nn.Sequential(\n",
        "    torch.nn.Conv2d(1,16,(5,5)),\n",
        "    torch.nn.ReLU(),\n",
        "    torch.nn.MaxPool2d((2,2)),\n",
        "    torch.nn.Flatten(),\n",
        "    torch.nn.Linear(2304,2),\n",
        "    #torch.nn.Softmax()\n",
        ")\n",
        "loss_fn = torch.nn.CrossEntropyLoss() \n",
        "lrnr = Learner(dls,net,loss_fn,metrics=[accuracy_multi])"
      ],
      "metadata": {
        "id": "NsA-q2eYoh9X"
      },
      "execution_count": 63,
      "outputs": []
    },
    {
      "cell_type": "code",
      "source": [
        "lrnr.fit(10)"
      ],
      "metadata": {
        "colab": {
          "base_uri": "https://localhost:8080/",
          "height": 363
        },
        "id": "LU3wxzcTolHV",
        "outputId": "26dd0d44-0263-4ab8-bd30-08ecab7aebdf"
      },
      "execution_count": 64,
      "outputs": [
        {
          "output_type": "display_data",
          "data": {
            "text/plain": [
              "<IPython.core.display.HTML object>"
            ],
            "text/html": [
              "\n",
              "<style>\n",
              "    /* Turns off some styling */\n",
              "    progress {\n",
              "        /* gets rid of default border in Firefox and Opera. */\n",
              "        border: none;\n",
              "        /* Needs to be in here for Safari polyfill so background images work as expected. */\n",
              "        background-size: auto;\n",
              "    }\n",
              "    progress:not([value]), progress:not([value])::-webkit-progress-bar {\n",
              "        background: repeating-linear-gradient(45deg, #7e7e7e, #7e7e7e 10px, #5c5c5c 10px, #5c5c5c 20px);\n",
              "    }\n",
              "    .progress-bar-interrupted, .progress-bar-interrupted::-webkit-progress-bar {\n",
              "        background: #F44336;\n",
              "    }\n",
              "</style>\n"
            ]
          },
          "metadata": {}
        },
        {
          "output_type": "display_data",
          "data": {
            "text/plain": [
              "<IPython.core.display.HTML object>"
            ],
            "text/html": [
              "<table border=\"1\" class=\"dataframe\">\n",
              "  <thead>\n",
              "    <tr style=\"text-align: left;\">\n",
              "      <th>epoch</th>\n",
              "      <th>train_loss</th>\n",
              "      <th>valid_loss</th>\n",
              "      <th>accuracy_multi</th>\n",
              "      <th>time</th>\n",
              "    </tr>\n",
              "  </thead>\n",
              "  <tbody>\n",
              "    <tr>\n",
              "      <td>0</td>\n",
              "      <td>1.213650</td>\n",
              "      <td>0.647844</td>\n",
              "      <td>0.463357</td>\n",
              "      <td>00:00</td>\n",
              "    </tr>\n",
              "    <tr>\n",
              "      <td>1</td>\n",
              "      <td>0.744869</td>\n",
              "      <td>0.384000</td>\n",
              "      <td>0.933570</td>\n",
              "      <td>00:00</td>\n",
              "    </tr>\n",
              "    <tr>\n",
              "      <td>2</td>\n",
              "      <td>0.571879</td>\n",
              "      <td>0.187119</td>\n",
              "      <td>0.986525</td>\n",
              "      <td>00:00</td>\n",
              "    </tr>\n",
              "    <tr>\n",
              "      <td>3</td>\n",
              "      <td>0.432096</td>\n",
              "      <td>0.090841</td>\n",
              "      <td>0.994563</td>\n",
              "      <td>00:00</td>\n",
              "    </tr>\n",
              "    <tr>\n",
              "      <td>4</td>\n",
              "      <td>0.326718</td>\n",
              "      <td>0.048868</td>\n",
              "      <td>0.995508</td>\n",
              "      <td>00:00</td>\n",
              "    </tr>\n",
              "    <tr>\n",
              "      <td>5</td>\n",
              "      <td>0.250235</td>\n",
              "      <td>0.028477</td>\n",
              "      <td>0.996217</td>\n",
              "      <td>00:00</td>\n",
              "    </tr>\n",
              "    <tr>\n",
              "      <td>6</td>\n",
              "      <td>0.194605</td>\n",
              "      <td>0.018616</td>\n",
              "      <td>0.996454</td>\n",
              "      <td>00:00</td>\n",
              "    </tr>\n",
              "    <tr>\n",
              "      <td>7</td>\n",
              "      <td>0.153338</td>\n",
              "      <td>0.013278</td>\n",
              "      <td>0.996927</td>\n",
              "      <td>00:00</td>\n",
              "    </tr>\n",
              "    <tr>\n",
              "      <td>8</td>\n",
              "      <td>0.122056</td>\n",
              "      <td>0.010130</td>\n",
              "      <td>0.997872</td>\n",
              "      <td>00:00</td>\n",
              "    </tr>\n",
              "    <tr>\n",
              "      <td>9</td>\n",
              "      <td>0.097957</td>\n",
              "      <td>0.008112</td>\n",
              "      <td>0.998109</td>\n",
              "      <td>00:00</td>\n",
              "    </tr>\n",
              "  </tbody>\n",
              "</table>"
            ]
          },
          "metadata": {}
        }
      ]
    }
  ],
  "metadata": {
    "accelerator": "GPU",
    "colab": {
      "collapsed_sections": [],
      "provenance": []
    },
    "kernelspec": {
      "display_name": "Python 3",
      "name": "python3"
    },
    "language_info": {
      "name": "python"
    }
  },
  "nbformat": 4,
  "nbformat_minor": 0
}