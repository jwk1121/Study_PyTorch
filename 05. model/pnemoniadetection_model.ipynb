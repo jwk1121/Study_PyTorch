{
 "cells": [
  {
   "cell_type": "markdown",
   "id": "2e0f0260",
   "metadata": {
    "_cell_guid": "9d6386e9-ed13-442a-a04c-efdb8250e590",
    "_uuid": "d925041b-416d-40fa-a8c6-ae9ca01c9431",
    "papermill": {
     "duration": 0.009576,
     "end_time": "2022-09-22T05:28:13.949182",
     "exception": false,
     "start_time": "2022-09-22T05:28:13.939606",
     "status": "completed"
    },
    "tags": []
   },
   "source": [
    "# Detection model"
   ]
  },
  {
   "cell_type": "markdown",
   "id": "e1d80044",
   "metadata": {
    "_cell_guid": "1d579f8a-8d95-4369-8749-0241f5f3b998",
    "_uuid": "88103eab-bb0b-4770-b70d-1e66de26f0e3",
    "jp-MarkdownHeadingCollapsed": true,
    "papermill": {
     "duration": 0.00814,
     "end_time": "2022-09-22T05:28:13.965910",
     "exception": false,
     "start_time": "2022-09-22T05:28:13.957770",
     "status": "completed"
    },
    "tags": []
   },
   "source": [
    "## 순서\n",
    "1. [Import Module](#Impor-Module)\n",
    "2. [데이터 확인](#데이터-확인)\n",
    "3. [데이터 전처리](#데이터-전처리)\n",
    "4. [model 만들기](#model-만들기)"
   ]
  },
  {
   "cell_type": "markdown",
   "id": "4ef5bb85",
   "metadata": {
    "_cell_guid": "1bd3c1d9-ea88-42e3-8971-093d425a27c6",
    "_uuid": "5cdb8f68-fefc-49e3-b9b9-0e3f64bb7a33",
    "papermill": {
     "duration": 0.009671,
     "end_time": "2022-09-22T05:28:13.984111",
     "exception": false,
     "start_time": "2022-09-22T05:28:13.974440",
     "status": "completed"
    },
    "tags": []
   },
   "source": [
    "## Import Module"
   ]
  },
  {
   "cell_type": "code",
   "execution_count": 1,
   "id": "ddb8e4b1",
   "metadata": {
    "_cell_guid": "ec1b888a-3053-46e6-9aec-6f5d49ce0673",
    "_uuid": "5ed1f413-3f32-41a6-b8dc-9735c01cd6ae",
    "collapsed": false,
    "execution": {
     "iopub.execute_input": "2022-09-22T05:28:14.003416Z",
     "iopub.status.busy": "2022-09-22T05:28:14.002580Z",
     "iopub.status.idle": "2022-09-22T05:28:16.249160Z",
     "shell.execute_reply": "2022-09-22T05:28:16.248148Z"
    },
    "jupyter": {
     "outputs_hidden": false
    },
    "papermill": {
     "duration": 2.259343,
     "end_time": "2022-09-22T05:28:16.251932",
     "exception": false,
     "start_time": "2022-09-22T05:28:13.992589",
     "status": "completed"
    },
    "tags": []
   },
   "outputs": [],
   "source": [
    "import numpy as np \n",
    "import pandas as pd\n",
    "\n",
    "# Deeplearning\n",
    "import torch\n",
    "import torchvision\n",
    "import torch.nn as nn\n",
    "import matplotlib.pyplot as plt\n",
    "from PIL import Image\n",
    "\n",
    "# Data load\n",
    "import os\n",
    "import cv2\n",
    "import glob\n",
    "import random\n",
    "from torch.utils.data import TensorDataset, Dataset # 텐서데이터셋\n",
    "from torch.utils.data import DataLoader # 데이터로더\n",
    "from torchvision import datasets, transforms"
   ]
  },
  {
   "cell_type": "code",
   "execution_count": 2,
   "id": "5439a112",
   "metadata": {
    "_cell_guid": "d81d4480-0d0a-4c2e-b39d-7abce5ec83a9",
    "_uuid": "a9cecc89-f52e-47ab-8d2e-e88841ad9ef0",
    "collapsed": false,
    "execution": {
     "iopub.execute_input": "2022-09-22T05:28:16.271140Z",
     "iopub.status.busy": "2022-09-22T05:28:16.270143Z",
     "iopub.status.idle": "2022-09-22T05:28:16.338651Z",
     "shell.execute_reply": "2022-09-22T05:28:16.337644Z"
    },
    "jupyter": {
     "outputs_hidden": false
    },
    "papermill": {
     "duration": 0.080813,
     "end_time": "2022-09-22T05:28:16.341595",
     "exception": false,
     "start_time": "2022-09-22T05:28:16.260782",
     "status": "completed"
    },
    "tags": []
   },
   "outputs": [
    {
     "name": "stdout",
     "output_type": "stream",
     "text": [
      "cuda\n"
     ]
    }
   ],
   "source": [
    "device = 'cuda' if torch.cuda.is_available() else 'cpu'\n",
    "print(device)"
   ]
  },
  {
   "cell_type": "markdown",
   "id": "b1df6fd4",
   "metadata": {
    "_cell_guid": "aca0e8a3-2d5c-4f5e-8cd9-e62dc9d4ae3c",
    "_uuid": "8c1cfc59-dbe6-41bf-b1ed-6b2aa6ba35d2",
    "papermill": {
     "duration": 0.008287,
     "end_time": "2022-09-22T05:28:16.359388",
     "exception": false,
     "start_time": "2022-09-22T05:28:16.351101",
     "status": "completed"
    },
    "tags": []
   },
   "source": [
    "## 데이터 확인"
   ]
  },
  {
   "cell_type": "code",
   "execution_count": 3,
   "id": "0ec49a5d",
   "metadata": {
    "_cell_guid": "5158d5df-2cdf-451f-8bc1-0e169ec944b1",
    "_uuid": "30bd2b29-1f4e-4b9e-9be5-2c5addbb0f48",
    "collapsed": false,
    "execution": {
     "iopub.execute_input": "2022-09-22T05:28:16.377391Z",
     "iopub.status.busy": "2022-09-22T05:28:16.377097Z",
     "iopub.status.idle": "2022-09-22T05:28:16.430432Z",
     "shell.execute_reply": "2022-09-22T05:28:16.429405Z"
    },
    "jupyter": {
     "outputs_hidden": false
    },
    "papermill": {
     "duration": 0.065156,
     "end_time": "2022-09-22T05:28:16.432963",
     "exception": false,
     "start_time": "2022-09-22T05:28:16.367807",
     "status": "completed"
    },
    "tags": []
   },
   "outputs": [
    {
     "data": {
      "text/html": [
       "<div>\n",
       "<style scoped>\n",
       "    .dataframe tbody tr th:only-of-type {\n",
       "        vertical-align: middle;\n",
       "    }\n",
       "\n",
       "    .dataframe tbody tr th {\n",
       "        vertical-align: top;\n",
       "    }\n",
       "\n",
       "    .dataframe thead th {\n",
       "        text-align: right;\n",
       "    }\n",
       "</style>\n",
       "<table border=\"1\" class=\"dataframe\">\n",
       "  <thead>\n",
       "    <tr style=\"text-align: right;\">\n",
       "      <th></th>\n",
       "      <th>X_ray_image_name</th>\n",
       "      <th>Label</th>\n",
       "      <th>Dataset_type</th>\n",
       "      <th>Label_2_Virus_category</th>\n",
       "      <th>Label_1_Virus_category</th>\n",
       "    </tr>\n",
       "  </thead>\n",
       "  <tbody>\n",
       "    <tr>\n",
       "      <th>0</th>\n",
       "      <td>IM-0128-0001.jpeg</td>\n",
       "      <td>Normal</td>\n",
       "      <td>TRAIN</td>\n",
       "      <td>NaN</td>\n",
       "      <td>NaN</td>\n",
       "    </tr>\n",
       "    <tr>\n",
       "      <th>1</th>\n",
       "      <td>IM-0127-0001.jpeg</td>\n",
       "      <td>Normal</td>\n",
       "      <td>TRAIN</td>\n",
       "      <td>NaN</td>\n",
       "      <td>NaN</td>\n",
       "    </tr>\n",
       "    <tr>\n",
       "      <th>2</th>\n",
       "      <td>IM-0125-0001.jpeg</td>\n",
       "      <td>Normal</td>\n",
       "      <td>TRAIN</td>\n",
       "      <td>NaN</td>\n",
       "      <td>NaN</td>\n",
       "    </tr>\n",
       "    <tr>\n",
       "      <th>3</th>\n",
       "      <td>IM-0122-0001.jpeg</td>\n",
       "      <td>Normal</td>\n",
       "      <td>TRAIN</td>\n",
       "      <td>NaN</td>\n",
       "      <td>NaN</td>\n",
       "    </tr>\n",
       "    <tr>\n",
       "      <th>4</th>\n",
       "      <td>IM-0119-0001.jpeg</td>\n",
       "      <td>Normal</td>\n",
       "      <td>TRAIN</td>\n",
       "      <td>NaN</td>\n",
       "      <td>NaN</td>\n",
       "    </tr>\n",
       "  </tbody>\n",
       "</table>\n",
       "</div>"
      ],
      "text/plain": [
       "    X_ray_image_name   Label Dataset_type Label_2_Virus_category  \\\n",
       "0  IM-0128-0001.jpeg  Normal        TRAIN                    NaN   \n",
       "1  IM-0127-0001.jpeg  Normal        TRAIN                    NaN   \n",
       "2  IM-0125-0001.jpeg  Normal        TRAIN                    NaN   \n",
       "3  IM-0122-0001.jpeg  Normal        TRAIN                    NaN   \n",
       "4  IM-0119-0001.jpeg  Normal        TRAIN                    NaN   \n",
       "\n",
       "  Label_1_Virus_category  \n",
       "0                    NaN  \n",
       "1                    NaN  \n",
       "2                    NaN  \n",
       "3                    NaN  \n",
       "4                    NaN  "
      ]
     },
     "execution_count": 3,
     "metadata": {},
     "output_type": "execute_result"
    }
   ],
   "source": [
    "df_meta=pd.read_csv(\"/kaggle/input/coronahack-chest-xraydataset/Chest_xray_Corona_Metadata.csv\",index_col=0)\n",
    "df_meta.head()"
   ]
  },
  {
   "cell_type": "code",
   "execution_count": 4,
   "id": "459e541b",
   "metadata": {
    "_cell_guid": "25adbe27-64a3-4ffa-9ad2-c54fa0df7ab0",
    "_uuid": "72a0f991-091f-4fdb-aafe-d4e00d52c2c5",
    "collapsed": false,
    "execution": {
     "iopub.execute_input": "2022-09-22T05:28:16.451877Z",
     "iopub.status.busy": "2022-09-22T05:28:16.450993Z",
     "iopub.status.idle": "2022-09-22T05:28:16.463925Z",
     "shell.execute_reply": "2022-09-22T05:28:16.462396Z"
    },
    "jupyter": {
     "outputs_hidden": false
    },
    "papermill": {
     "duration": 0.024879,
     "end_time": "2022-09-22T05:28:16.466483",
     "exception": false,
     "start_time": "2022-09-22T05:28:16.441604",
     "status": "completed"
    },
    "tags": []
   },
   "outputs": [
    {
     "name": "stdout",
     "output_type": "stream",
     "text": [
      "<bound method Series.unique of 0         Normal\n",
      "1         Normal\n",
      "2         Normal\n",
      "3         Normal\n",
      "4         Normal\n",
      "          ...   \n",
      "5928    Pnemonia\n",
      "5929    Pnemonia\n",
      "5930    Pnemonia\n",
      "5931    Pnemonia\n",
      "5932    Pnemonia\n",
      "Name: Label, Length: 5910, dtype: category\n",
      "Categories (2, object): ['Normal', 'Pnemonia']>\n"
     ]
    }
   ],
   "source": [
    "print(df_meta[\"Label\"].astype('category').unique)"
   ]
  },
  {
   "cell_type": "markdown",
   "id": "a10bdae7",
   "metadata": {
    "_cell_guid": "b1af2b57-f975-47c9-84ce-0079916bf034",
    "_uuid": "6087ffc2-6d0d-4a1e-a974-bdbcb23619b6",
    "papermill": {
     "duration": 0.008781,
     "end_time": "2022-09-22T05:28:16.484423",
     "exception": false,
     "start_time": "2022-09-22T05:28:16.475642",
     "status": "completed"
    },
    "tags": []
   },
   "source": [
    "데이터의 클래스가 'Normal', 'Pnemonia'임을 알 수 있음 \n",
    "\n",
    "----------\n",
    "\n",
    "### 이미지 별 채널수 확인"
   ]
  },
  {
   "cell_type": "code",
   "execution_count": 5,
   "id": "7595eff2",
   "metadata": {
    "_cell_guid": "9ea5e68c-8317-4c7d-b5ee-677b5526551d",
    "_uuid": "246d4105-4c23-432f-8ca8-c25777970c96",
    "collapsed": false,
    "execution": {
     "iopub.execute_input": "2022-09-22T05:28:16.503385Z",
     "iopub.status.busy": "2022-09-22T05:28:16.503063Z",
     "iopub.status.idle": "2022-09-22T05:28:16.544718Z",
     "shell.execute_reply": "2022-09-22T05:28:16.543876Z"
    },
    "jupyter": {
     "outputs_hidden": false
    },
    "papermill": {
     "duration": 0.053692,
     "end_time": "2022-09-22T05:28:16.546875",
     "exception": false,
     "start_time": "2022-09-22T05:28:16.493183",
     "status": "completed"
    },
    "tags": []
   },
   "outputs": [
    {
     "data": {
      "text/plain": [
       "(362, 439, 3)"
      ]
     },
     "execution_count": 5,
     "metadata": {},
     "output_type": "execute_result"
    }
   ],
   "source": [
    "path = '../input/coronahack-chest-xraydataset/Coronahack-Chest-XRay-Dataset/Coronahack-Chest-XRay-Dataset/train/1-s2.0-S1684118220300682-main.pdf-002-a1.png'\n",
    "train = cv2.imread(path)\n",
    "train.shape"
   ]
  },
  {
   "cell_type": "markdown",
   "id": "6a6e326a",
   "metadata": {
    "_cell_guid": "923ccf9a-f8a2-49f1-9638-3791ed6dada7",
    "_uuid": "a4d94db9-df9c-47fe-a89a-06d108c4fe3d",
    "execution": {
     "iopub.execute_input": "2022-09-16T14:59:10.042600Z",
     "iopub.status.busy": "2022-09-16T14:59:10.040912Z",
     "iopub.status.idle": "2022-09-16T14:59:10.075074Z",
     "shell.execute_reply": "2022-09-16T14:59:10.073737Z",
     "shell.execute_reply.started": "2022-09-16T14:59:10.042530Z"
    },
    "jupyter": {
     "outputs_hidden": false
    },
    "papermill": {
     "duration": 0.008405,
     "end_time": "2022-09-22T05:28:16.564193",
     "exception": false,
     "start_time": "2022-09-22T05:28:16.555788",
     "status": "completed"
    },
    "tags": []
   },
   "source": [
    "images=glob.glob(\"../input/coronahack-chest-xraydataset/Coronahack-Chest-XRay-Dataset/Coronahack-Chest-XRay-Dataset/train/*\")\n",
    "print(len(images),'\\n')\n",
    "\n",
    "temp = []\n",
    "for i in range(len(images)):\n",
    "    image = cv2.imread(images[i])\n",
    "    temp.append(image.shape[2])\n",
    "    \n",
    "temp = pd.DataFrame(temp)\n",
    "print(temp.value_counts())"
   ]
  },
  {
   "cell_type": "markdown",
   "id": "f70a3018",
   "metadata": {
    "_cell_guid": "e10ca4ba-e1b2-4555-8494-d3a0f4490657",
    "_uuid": "58e67229-1b2b-4171-969c-6170fa5556b9",
    "papermill": {
     "duration": 0.010124,
     "end_time": "2022-09-22T05:28:16.583237",
     "exception": false,
     "start_time": "2022-09-22T05:28:16.573113",
     "status": "completed"
    },
    "tags": []
   },
   "source": [
    "### 데이터 분포 확인"
   ]
  },
  {
   "cell_type": "code",
   "execution_count": 6,
   "id": "9d86eaac",
   "metadata": {
    "_cell_guid": "1bec4fb1-929e-4172-bb84-c93fd73b05fe",
    "_uuid": "ce404f4e-f6fa-4db9-ad94-884407d9cd2d",
    "collapsed": false,
    "execution": {
     "iopub.execute_input": "2022-09-22T05:28:16.608471Z",
     "iopub.status.busy": "2022-09-22T05:28:16.607794Z",
     "iopub.status.idle": "2022-09-22T05:28:16.617302Z",
     "shell.execute_reply": "2022-09-22T05:28:16.616636Z"
    },
    "jupyter": {
     "outputs_hidden": false
    },
    "papermill": {
     "duration": 0.02387,
     "end_time": "2022-09-22T05:28:16.619056",
     "exception": false,
     "start_time": "2022-09-22T05:28:16.595186",
     "status": "completed"
    },
    "tags": []
   },
   "outputs": [
    {
     "data": {
      "text/plain": [
       "Pnemonia    3944\n",
       "Normal      1342\n",
       "Name: Label, dtype: int64"
      ]
     },
     "execution_count": 6,
     "metadata": {},
     "output_type": "execute_result"
    }
   ],
   "source": [
    "df_meta[df_meta[\"Dataset_type\"]==\"TRAIN\"][\"Label\"].value_counts()"
   ]
  },
  {
   "cell_type": "code",
   "execution_count": 7,
   "id": "12e1312a",
   "metadata": {
    "_cell_guid": "26062233-5e74-44c4-8413-6b3fa67493da",
    "_uuid": "ef377794-f8bb-4c61-8dae-0107d8802b56",
    "collapsed": false,
    "execution": {
     "iopub.execute_input": "2022-09-22T05:28:16.638169Z",
     "iopub.status.busy": "2022-09-22T05:28:16.637395Z",
     "iopub.status.idle": "2022-09-22T05:28:16.857531Z",
     "shell.execute_reply": "2022-09-22T05:28:16.856690Z"
    },
    "jupyter": {
     "outputs_hidden": false
    },
    "papermill": {
     "duration": 0.231941,
     "end_time": "2022-09-22T05:28:16.859732",
     "exception": false,
     "start_time": "2022-09-22T05:28:16.627791",
     "status": "completed"
    },
    "tags": []
   },
   "outputs": [
    {
     "data": {
      "text/plain": [
       "<AxesSubplot:>"
      ]
     },
     "execution_count": 7,
     "metadata": {},
     "output_type": "execute_result"
    },
    {
     "data": {
      "image/png": "[encoded data removed]",
      "text/plain": [
       "<Figure size 432x288 with 1 Axes>"
      ]
     },
     "metadata": {
      "needs_background": "light"
     },
     "output_type": "display_data"
    }
   ],
   "source": [
    "df_meta[df_meta[\"Dataset_type\"]==\"TRAIN\"][\"Label\"].value_counts().plot.bar(rot=0)"
   ]
  },
  {
   "cell_type": "markdown",
   "id": "c6a78356",
   "metadata": {
    "_cell_guid": "aa6a7244-adae-4f98-8465-e26e939a1191",
    "_uuid": "9e324d15-6d8a-4de9-b08b-9629b7548bd5",
    "papermill": {
     "duration": 0.008931,
     "end_time": "2022-09-22T05:28:16.878097",
     "exception": false,
     "start_time": "2022-09-22T05:28:16.869166",
     "status": "completed"
    },
    "tags": []
   },
   "source": [
    "클래스의 분포가 위와 같음을 알 수 있음"
   ]
  },
  {
   "cell_type": "code",
   "execution_count": 8,
   "id": "e17ca308",
   "metadata": {
    "_cell_guid": "eeddc54f-5a66-4be5-8d08-f244425ec734",
    "_uuid": "9d50d616-3d33-4fdf-a7e5-060845a68b33",
    "collapsed": false,
    "execution": {
     "iopub.execute_input": "2022-09-22T05:28:16.898141Z",
     "iopub.status.busy": "2022-09-22T05:28:16.897341Z",
     "iopub.status.idle": "2022-09-22T05:28:17.081099Z",
     "shell.execute_reply": "2022-09-22T05:28:17.079455Z"
    },
    "jupyter": {
     "outputs_hidden": false
    },
    "papermill": {
     "duration": 0.195971,
     "end_time": "2022-09-22T05:28:17.083327",
     "exception": false,
     "start_time": "2022-09-22T05:28:16.887356",
     "status": "completed"
    },
    "tags": []
   },
   "outputs": [
    {
     "name": "stdout",
     "output_type": "stream",
     "text": [
      "AxesSubplot(0.125,0.125;0.775x0.755)\n"
     ]
    },
    {
     "data": {
      "image/png": "[encoded data removed]",
      "text/plain": [
       "<Figure size 432x288 with 1 Axes>"
      ]
     },
     "metadata": {
      "needs_background": "light"
     },
     "output_type": "display_data"
    }
   ],
   "source": [
    "df_pne = df_meta[df_meta[\"Label\"]=='Pnemonia']\n",
    "\n",
    "print(df_pne[\"Label_2_Virus_category\"].value_counts().plot.bar(rot=0))"
   ]
  },
  {
   "cell_type": "code",
   "execution_count": 9,
   "id": "5a60746d",
   "metadata": {
    "_cell_guid": "5877a107-4f1d-4411-9027-066b3da0fb13",
    "_uuid": "c496c3bb-18b6-4bb0-83e7-c802df3d30e7",
    "collapsed": false,
    "execution": {
     "iopub.execute_input": "2022-09-22T05:28:17.105631Z",
     "iopub.status.busy": "2022-09-22T05:28:17.104777Z",
     "iopub.status.idle": "2022-09-22T05:28:17.282113Z",
     "shell.execute_reply": "2022-09-22T05:28:17.281234Z"
    },
    "jupyter": {
     "outputs_hidden": false
    },
    "papermill": {
     "duration": 0.190233,
     "end_time": "2022-09-22T05:28:17.284333",
     "exception": false,
     "start_time": "2022-09-22T05:28:17.094100",
     "status": "completed"
    },
    "tags": []
   },
   "outputs": [
    {
     "name": "stdout",
     "output_type": "stream",
     "text": [
      "AxesSubplot(0.125,0.125;0.775x0.755)\n"
     ]
    },
    {
     "data": {
      "image/png": "[encoded data removed]",
      "text/plain": [
       "<Figure size 432x288 with 1 Axes>"
      ]
     },
     "metadata": {
      "needs_background": "light"
     },
     "output_type": "display_data"
    }
   ],
   "source": [
    "print(df_pne[\"Label_1_Virus_category\"].value_counts().plot.bar(rot=0))"
   ]
  },
  {
   "cell_type": "markdown",
   "id": "04ae01d1",
   "metadata": {
    "_cell_guid": "0dda5cfe-ce4e-4dbd-be46-a1b37973fc00",
    "_uuid": "edfcc0e7-e0de-4846-83cb-5805c2d4f060",
    "papermill": {
     "duration": 0.009805,
     "end_time": "2022-09-22T05:28:17.304297",
     "exception": false,
     "start_time": "2022-09-22T05:28:17.294492",
     "status": "completed"
    },
    "tags": []
   },
   "source": [
    "### 클래스별 이미지 확인하기"
   ]
  },
  {
   "cell_type": "code",
   "execution_count": 10,
   "id": "8f4b5b51",
   "metadata": {
    "_cell_guid": "f05d246a-e24b-43dd-a483-a9c4fb33b4ca",
    "_uuid": "18e91a08-6035-4f49-a474-4f504cfe3460",
    "collapsed": false,
    "execution": {
     "iopub.execute_input": "2022-09-22T05:28:17.326734Z",
     "iopub.status.busy": "2022-09-22T05:28:17.325188Z",
     "iopub.status.idle": "2022-09-22T05:28:17.330836Z",
     "shell.execute_reply": "2022-09-22T05:28:17.329994Z"
    },
    "jupyter": {
     "outputs_hidden": false
    },
    "papermill": {
     "duration": 0.018893,
     "end_time": "2022-09-22T05:28:17.333260",
     "exception": false,
     "start_time": "2022-09-22T05:28:17.314367",
     "status": "completed"
    },
    "tags": []
   },
   "outputs": [],
   "source": [
    "path = '../input/coronahack-chest-xraydataset/Coronahack-Chest-XRay-Dataset/Coronahack-Chest-XRay-Dataset/train/'"
   ]
  },
  {
   "cell_type": "markdown",
   "id": "d32563e5",
   "metadata": {
    "_cell_guid": "d3706442-3a86-4dce-ae7b-63f74c892f6c",
    "_uuid": "2d425515-1ac1-447f-a740-9e9a749fb84a",
    "papermill": {
     "duration": 0.009963,
     "end_time": "2022-09-22T05:28:17.353200",
     "exception": false,
     "start_time": "2022-09-22T05:28:17.343237",
     "status": "completed"
    },
    "tags": []
   },
   "source": [
    "정상 이미지 출력"
   ]
  },
  {
   "cell_type": "code",
   "execution_count": 11,
   "id": "64a14ae7",
   "metadata": {
    "_cell_guid": "26fef5ad-0831-4a21-8db8-4d0158cf5fb7",
    "_uuid": "86378a99-6484-45b3-8d9e-fc1ab51a9b49",
    "collapsed": false,
    "execution": {
     "iopub.execute_input": "2022-09-22T05:28:17.374363Z",
     "iopub.status.busy": "2022-09-22T05:28:17.374082Z",
     "iopub.status.idle": "2022-09-22T05:28:17.891497Z",
     "shell.execute_reply": "2022-09-22T05:28:17.888953Z"
    },
    "jupyter": {
     "outputs_hidden": false
    },
    "papermill": {
     "duration": 0.530582,
     "end_time": "2022-09-22T05:28:17.893870",
     "exception": false,
     "start_time": "2022-09-22T05:28:17.363288",
     "status": "completed"
    },
    "tags": []
   },
   "outputs": [
    {
     "name": "stdout",
     "output_type": "stream",
     "text": [
      "normal\n",
      "이미지 크기:  (1013, 1528, 3)\n"
     ]
    },
    {
     "data": {
      "image/png": "[encoded data removed]",
      "text/plain": [
       "<Figure size 432x288 with 1 Axes>"
      ]
     },
     "metadata": {
      "needs_background": "light"
     },
     "output_type": "display_data"
    }
   ],
   "source": [
    "normal = df_meta[df_meta[\"Label\"]==\"Normal\"]\n",
    "image = cv2.imread(path + normal.iloc[0]['X_ray_image_name'])\n",
    "image = cv2.cvtColor(image,cv2.COLOR_BGR2RGB) \n",
    "plt.imshow(image)\n",
    "print('normal')\n",
    "print('이미지 크기: ',image.shape)"
   ]
  },
  {
   "cell_type": "markdown",
   "id": "d8f770a7",
   "metadata": {
    "_cell_guid": "efa74776-d6fa-455b-9c3c-6ee9d0b4e4b9",
    "_uuid": "b92d6c82-9f3c-44ac-8cea-c627ac754837",
    "papermill": {
     "duration": 0.010831,
     "end_time": "2022-09-22T05:28:17.916299",
     "exception": false,
     "start_time": "2022-09-22T05:28:17.905468",
     "status": "completed"
    },
    "tags": []
   },
   "source": [
    "--------------------\n",
    "폐렴(Pnemonia(corona)) 이미지 출력"
   ]
  },
  {
   "cell_type": "code",
   "execution_count": 12,
   "id": "a5712332",
   "metadata": {
    "_cell_guid": "b5ccd4f3-4f58-4e2c-96ce-68a011eb9ccb",
    "_uuid": "8b01950b-48eb-4f6f-92d8-19c8b852f3da",
    "collapsed": false,
    "execution": {
     "iopub.execute_input": "2022-09-22T05:28:17.938991Z",
     "iopub.status.busy": "2022-09-22T05:28:17.938683Z",
     "iopub.status.idle": "2022-09-22T05:28:18.656516Z",
     "shell.execute_reply": "2022-09-22T05:28:18.654737Z"
    },
    "jupyter": {
     "outputs_hidden": false
    },
    "papermill": {
     "duration": 0.732847,
     "end_time": "2022-09-22T05:28:18.659991",
     "exception": false,
     "start_time": "2022-09-22T05:28:17.927144",
     "status": "completed"
    },
    "tags": []
   },
   "outputs": [
    {
     "name": "stdout",
     "output_type": "stream",
     "text": [
      "pnemonia\n",
      "이미지 크기:  (1752, 1736, 3)\n"
     ]
    },
    {
     "data": {
      "image/png": "[encoded data removed]",
      "text/plain": [
       "<Figure size 432x288 with 1 Axes>"
      ]
     },
     "metadata": {
      "needs_background": "light"
     },
     "output_type": "display_data"
    }
   ],
   "source": [
    "pnemonia=df_meta[df_meta[\"Label\"]==\"Pnemonia\"]\n",
    "image = cv2.imread(path + pnemonia.iloc[0]['X_ray_image_name'])\n",
    "image = cv2.cvtColor(image,cv2.COLOR_BGR2RGB)\n",
    "plt.imshow(image)\n",
    "print('pnemonia')\n",
    "print('이미지 크기: ',image.shape)"
   ]
  },
  {
   "cell_type": "markdown",
   "id": "84e45c27",
   "metadata": {
    "_cell_guid": "ed49afce-8ccb-4457-acaf-e7fa9e0418c2",
    "_uuid": "8ef980e2-b386-4f78-ba4a-2c786f67fcb8",
    "papermill": {
     "duration": 0.011792,
     "end_time": "2022-09-22T05:28:18.684806",
     "exception": false,
     "start_time": "2022-09-22T05:28:18.673014",
     "status": "completed"
    },
    "tags": []
   },
   "source": [
    "-----------------------\n",
    "### 이미지 파일 확인"
   ]
  },
  {
   "cell_type": "code",
   "execution_count": 13,
   "id": "d20b6479",
   "metadata": {
    "_cell_guid": "b522315b-df2c-497b-ab1f-c4ab2774f3d8",
    "_uuid": "1b1f3458-485e-4ffb-a623-0054b721e7f0",
    "collapsed": false,
    "execution": {
     "iopub.execute_input": "2022-09-22T05:28:18.710292Z",
     "iopub.status.busy": "2022-09-22T05:28:18.709454Z",
     "iopub.status.idle": "2022-09-22T05:28:19.053341Z",
     "shell.execute_reply": "2022-09-22T05:28:19.052177Z"
    },
    "jupyter": {
     "outputs_hidden": false
    },
    "papermill": {
     "duration": 0.359146,
     "end_time": "2022-09-22T05:28:19.055700",
     "exception": false,
     "start_time": "2022-09-22T05:28:18.696554",
     "status": "completed"
    },
    "tags": []
   },
   "outputs": [
    {
     "name": "stdout",
     "output_type": "stream",
     "text": [
      "train 이미지 파일 개수:  5309\n"
     ]
    }
   ],
   "source": [
    "images=glob.glob(\"../input/coronahack-chest-xraydataset/Coronahack-Chest-XRay-Dataset/Coronahack-Chest-XRay-Dataset/train/*\")\n",
    "images=pd.Series(images)\n",
    "print(\"train 이미지 파일 개수: \",len(images))"
   ]
  },
  {
   "cell_type": "code",
   "execution_count": 14,
   "id": "f691c6fa",
   "metadata": {
    "_cell_guid": "58d19f05-c3ae-47c3-96fd-5fc39540ae65",
    "_uuid": "ab8d26bb-1258-4c8f-97cc-519c605096f4",
    "collapsed": false,
    "execution": {
     "iopub.execute_input": "2022-09-22T05:28:19.082795Z",
     "iopub.status.busy": "2022-09-22T05:28:19.082469Z",
     "iopub.status.idle": "2022-09-22T05:28:19.124932Z",
     "shell.execute_reply": "2022-09-22T05:28:19.123529Z"
    },
    "jupyter": {
     "outputs_hidden": false
    },
    "papermill": {
     "duration": 0.058952,
     "end_time": "2022-09-22T05:28:19.127064",
     "exception": false,
     "start_time": "2022-09-22T05:28:19.068112",
     "status": "completed"
    },
    "tags": []
   },
   "outputs": [
    {
     "name": "stdout",
     "output_type": "stream",
     "text": [
      "jpg 파일 개수:  37 \n",
      "\n",
      "jpeg 파일 개수:  5264 \n",
      "\n",
      "png 파일 개수:  8\n"
     ]
    }
   ],
   "source": [
    "image_jpg=glob.glob(\"../input/coronahack-chest-xraydataset/Coronahack-Chest-XRay-Dataset/Coronahack-Chest-XRay-Dataset/train/*.jpg\")\n",
    "image_jpg=pd.Series(image_jpg)\n",
    "print(\"jpg 파일 개수: \",len(image_jpg),'\\n')\n",
    "\n",
    "image_jpeg=glob.glob(\"../input/coronahack-chest-xraydataset/Coronahack-Chest-XRay-Dataset/Coronahack-Chest-XRay-Dataset/train/*.jpeg\")\n",
    "image_jpeg=pd.Series(image_jpeg)\n",
    "print(\"jpeg 파일 개수: \",len(image_jpeg),'\\n')\n",
    "\n",
    "image_png=glob.glob(\"../input/coronahack-chest-xraydataset/Coronahack-Chest-XRay-Dataset/Coronahack-Chest-XRay-Dataset/train/*.png\")\n",
    "image_png=pd.Series(image_png)\n",
    "print(\"png 파일 개수: \", len(image_png))"
   ]
  },
  {
   "cell_type": "code",
   "execution_count": 15,
   "id": "8fa351df",
   "metadata": {
    "_cell_guid": "f667c5dc-dcdd-4dae-971f-2e52ede4fd79",
    "_uuid": "f031d80e-f808-4b3f-bf54-e43b670538d9",
    "collapsed": false,
    "execution": {
     "iopub.execute_input": "2022-09-22T05:28:19.153348Z",
     "iopub.status.busy": "2022-09-22T05:28:19.153073Z",
     "iopub.status.idle": "2022-09-22T05:28:19.159396Z",
     "shell.execute_reply": "2022-09-22T05:28:19.158469Z"
    },
    "jupyter": {
     "outputs_hidden": false
    },
    "papermill": {
     "duration": 0.022206,
     "end_time": "2022-09-22T05:28:19.161423",
     "exception": false,
     "start_time": "2022-09-22T05:28:19.139217",
     "status": "completed"
    },
    "tags": []
   },
   "outputs": [
    {
     "data": {
      "text/plain": [
       "True"
      ]
     },
     "execution_count": 15,
     "metadata": {},
     "output_type": "execute_result"
    }
   ],
   "source": [
    "# image파일의 종류는 png와 jpeg, jpg인 것을 확인\n",
    "len(images)==len(image_png)+len(image_jpeg)+len(image_jpg)"
   ]
  },
  {
   "cell_type": "markdown",
   "id": "f58eee7b",
   "metadata": {
    "_cell_guid": "15daeee4-c8ea-40d3-9727-031c33cbeb15",
    "_uuid": "509c104c-e542-4495-a314-af13201b378e",
    "papermill": {
     "duration": 0.011864,
     "end_time": "2022-09-22T05:28:19.185582",
     "exception": false,
     "start_time": "2022-09-22T05:28:19.173718",
     "status": "completed"
    },
    "tags": []
   },
   "source": [
    "> 데이터를 확인해보니 이미지는 3개의 형식(jpg, jpeg, png)으로 저장되어있고 이미지들은 모두 다른 shape를 갖고 있었다.  \n",
    "이는 데이터 전처리과정에서 이미지의 크기를 모두 통일시키는 방향으로 문제를 해결해야 할 것 같다.  \n",
    "또한 label1과 2를 사용해 데이터를 분류해보았을때 코로나 환자의 이미지는 총 train data의 1%밖에 안되는 것을 확인할 수 있었다.  \n",
    "그래서 우리는 폐렴을 detect하는 model을 만드는 것으로 프로젝트 방향을 바꾸기로 하였다."
   ]
  },
  {
   "cell_type": "markdown",
   "id": "f8f24f3c",
   "metadata": {
    "_cell_guid": "14fd8afa-450b-4ec6-81f5-9d6994efed14",
    "_uuid": "c4ae2f0a-835b-4d7e-85d8-f3be136f27f5",
    "papermill": {
     "duration": 0.011679,
     "end_time": "2022-09-22T05:28:19.209235",
     "exception": false,
     "start_time": "2022-09-22T05:28:19.197556",
     "status": "completed"
    },
    "tags": []
   },
   "source": [
    "## 데이터 전처리\n",
    "---\n",
    "당장은 아래와 같은 코드를 만들었지만 [링크](https://greeksharifa.github.io/pytorch/2018/11/10/pytorch-usage-03-How-to-Use-PyTorch/)를 읽어보고 다시 코드를 만들어 볼 것!"
   ]
  },
  {
   "cell_type": "markdown",
   "id": "30193650",
   "metadata": {
    "papermill": {
     "duration": 0.011804,
     "end_time": "2022-09-22T05:28:19.233025",
     "exception": false,
     "start_time": "2022-09-22T05:28:19.221221",
     "status": "completed"
    },
    "tags": []
   },
   "source": [
    "### transforms\n",
    "\n",
    "`>` Resize를 통해 train image data의 size를 맞춰주고 Nomarlize를 통해 픽셀값을 0 ~ 1사이로 맞춰 준다.\n",
    "\n",
    "---\n",
    "\n",
    "`#`  [Batch Nomarlization을 하는 이유](https://sonsnotation.blogspot.com/2020/11/8-normalization.html)"
   ]
  },
  {
   "cell_type": "code",
   "execution_count": 16,
   "id": "cb74fc03",
   "metadata": {
    "execution": {
     "iopub.execute_input": "2022-09-22T05:28:19.259025Z",
     "iopub.status.busy": "2022-09-22T05:28:19.258175Z",
     "iopub.status.idle": "2022-09-22T05:28:19.266078Z",
     "shell.execute_reply": "2022-09-22T05:28:19.265060Z"
    },
    "papermill": {
     "duration": 0.022842,
     "end_time": "2022-09-22T05:28:19.268057",
     "exception": false,
     "start_time": "2022-09-22T05:28:19.245215",
     "status": "completed"
    },
    "tags": []
   },
   "outputs": [
    {
     "data": {
      "text/plain": [
       "Compose(\n",
       "    CenterCrop(size=(224, 224))\n",
       "    ToTensor()\n",
       "    Normalize(mean=(0, 0, 0), std=(1, 1, 1))\n",
       ")"
      ]
     },
     "execution_count": 16,
     "metadata": {},
     "output_type": "execute_result"
    }
   ],
   "source": [
    "input_size = 224\n",
    "transform = transforms.Compose([\n",
    "    transforms.CenterCrop(input_size),\n",
    "    transforms.ToTensor(),\n",
    "    transforms.Normalize(mean = (0,0,0),std=(1,1,1)) #아마 표준화..?\n",
    "])\n",
    "\n",
    "transform"
   ]
  },
  {
   "cell_type": "markdown",
   "id": "70509ad9",
   "metadata": {
    "papermill": {
     "duration": 0.011829,
     "end_time": "2022-09-22T05:28:19.291849",
     "exception": false,
     "start_time": "2022-09-22T05:28:19.280020",
     "status": "completed"
    },
    "tags": []
   },
   "source": [
    "### datasets\n",
    "\n",
    "`>` 앞서 만든 transform을 사용하여 train data를 가공한다. 가공된 데이터들을 모아 datasets을 만든다."
   ]
  },
  {
   "cell_type": "code",
   "execution_count": 17,
   "id": "bf1befd5",
   "metadata": {
    "_cell_guid": "e48a3e40-fac7-41b1-b525-6ef246e0c034",
    "_uuid": "6ef5477b-89ff-45da-a166-e12f41f156b9",
    "collapsed": false,
    "execution": {
     "iopub.execute_input": "2022-09-22T05:28:19.317806Z",
     "iopub.status.busy": "2022-09-22T05:28:19.317083Z",
     "iopub.status.idle": "2022-09-22T05:28:19.321257Z",
     "shell.execute_reply": "2022-09-22T05:28:19.320347Z"
    },
    "jupyter": {
     "outputs_hidden": false
    },
    "papermill": {
     "duration": 0.019173,
     "end_time": "2022-09-22T05:28:19.323342",
     "exception": false,
     "start_time": "2022-09-22T05:28:19.304169",
     "status": "completed"
    },
    "tags": []
   },
   "outputs": [],
   "source": [
    "path = '../input/coronahack-chest-xraydataset/Coronahack-Chest-XRay-Dataset/Coronahack-Chest-XRay-Dataset'"
   ]
  },
  {
   "cell_type": "code",
   "execution_count": 18,
   "id": "f627db86",
   "metadata": {
    "_cell_guid": "12ea258d-b009-46e4-8dba-d9d99aace690",
    "_uuid": "0b62914d-1c10-41a8-a798-77d065a9ae37",
    "collapsed": false,
    "execution": {
     "iopub.execute_input": "2022-09-22T05:28:19.349197Z",
     "iopub.status.busy": "2022-09-22T05:28:19.348476Z",
     "iopub.status.idle": "2022-09-22T05:28:24.522814Z",
     "shell.execute_reply": "2022-09-22T05:28:24.521856Z"
    },
    "jupyter": {
     "outputs_hidden": false
    },
    "papermill": {
     "duration": 5.189844,
     "end_time": "2022-09-22T05:28:24.525341",
     "exception": false,
     "start_time": "2022-09-22T05:28:19.335497",
     "status": "completed"
    },
    "tags": []
   },
   "outputs": [],
   "source": [
    "images_dataset = datasets.ImageFolder(root = path, transform = transform) "
   ]
  },
  {
   "cell_type": "code",
   "execution_count": 19,
   "id": "9ddb6b74",
   "metadata": {
    "execution": {
     "iopub.execute_input": "2022-09-22T05:28:24.553498Z",
     "iopub.status.busy": "2022-09-22T05:28:24.553196Z",
     "iopub.status.idle": "2022-09-22T05:28:24.559314Z",
     "shell.execute_reply": "2022-09-22T05:28:24.558304Z"
    },
    "papermill": {
     "duration": 0.022762,
     "end_time": "2022-09-22T05:28:24.562294",
     "exception": false,
     "start_time": "2022-09-22T05:28:24.539532",
     "status": "completed"
    },
    "tags": []
   },
   "outputs": [
    {
     "data": {
      "text/plain": [
       "5933"
      ]
     },
     "execution_count": 19,
     "metadata": {},
     "output_type": "execute_result"
    }
   ],
   "source": [
    "len(images_dataset)"
   ]
  },
  {
   "cell_type": "markdown",
   "id": "3ad42c20",
   "metadata": {
    "papermill": {
     "duration": 0.011569,
     "end_time": "2022-09-22T05:28:24.585529",
     "exception": false,
     "start_time": "2022-09-22T05:28:24.573960",
     "status": "completed"
    },
    "tags": []
   },
   "source": [
    "### DataLoader\n",
    "\n",
    "`>` dataset에 있는 데이터들을 사용해 dataloader를 만드는데 이때 배치사이즈와 데이터를 섞을지 등을 결정한다."
   ]
  },
  {
   "cell_type": "code",
   "execution_count": 20,
   "id": "8b63d9e5",
   "metadata": {
    "_cell_guid": "bc66ad2e-471e-4403-8ba1-9b18cd463fea",
    "_uuid": "d02177fc-9b40-4dd9-8b0a-bc52887ce333",
    "collapsed": false,
    "execution": {
     "iopub.execute_input": "2022-09-22T05:28:24.610308Z",
     "iopub.status.busy": "2022-09-22T05:28:24.609999Z",
     "iopub.status.idle": "2022-09-22T05:28:24.617325Z",
     "shell.execute_reply": "2022-09-22T05:28:24.615981Z"
    },
    "jupyter": {
     "outputs_hidden": false
    },
    "papermill": {
     "duration": 0.022302,
     "end_time": "2022-09-22T05:28:24.619613",
     "exception": false,
     "start_time": "2022-09-22T05:28:24.597311",
     "status": "completed"
    },
    "tags": []
   },
   "outputs": [
    {
     "name": "stderr",
     "output_type": "stream",
     "text": [
      "/opt/conda/lib/python3.7/site-packages/torch/utils/data/dataloader.py:490: UserWarning: This DataLoader will create 4 worker processes in total. Our suggested max number of worker in current system is 2, which is smaller than what this DataLoader is going to create. Please be aware that excessive worker creation might get DataLoader running slow or even freeze, lower the worker number to avoid potential slowness/freeze if necessary.\n",
      "  cpuset_checked))\n"
     ]
    }
   ],
   "source": [
    "dataloader = DataLoader(images_dataset, batch_size= 50, shuffle=True, num_workers=4)"
   ]
  },
  {
   "cell_type": "markdown",
   "id": "f0ad0afe",
   "metadata": {
    "papermill": {
     "duration": 0.011513,
     "end_time": "2022-09-22T05:28:24.642848",
     "exception": false,
     "start_time": "2022-09-22T05:28:24.631335",
     "status": "completed"
    },
    "tags": []
   },
   "source": [
    "## model 만들기"
   ]
  },
  {
   "cell_type": "markdown",
   "id": "bb523161",
   "metadata": {
    "papermill": {
     "duration": 0.011505,
     "end_time": "2022-09-22T05:28:24.666315",
     "exception": false,
     "start_time": "2022-09-22T05:28:24.654810",
     "status": "completed"
    },
    "tags": []
   },
   "source": [
    "## ResNet50을 사용"
   ]
  },
  {
   "cell_type": "code",
   "execution_count": 21,
   "id": "1245adc7",
   "metadata": {
    "execution": {
     "iopub.execute_input": "2022-09-22T05:28:24.691250Z",
     "iopub.status.busy": "2022-09-22T05:28:24.690964Z",
     "iopub.status.idle": "2022-09-22T05:28:24.701424Z",
     "shell.execute_reply": "2022-09-22T05:28:24.700570Z"
    },
    "papermill": {
     "duration": 0.025319,
     "end_time": "2022-09-22T05:28:24.703355",
     "exception": false,
     "start_time": "2022-09-22T05:28:24.678036",
     "status": "completed"
    },
    "tags": []
   },
   "outputs": [],
   "source": [
    "class CNN(torch.nn.Module):\n",
    "    def __init__(self):\n",
    "        super(CNN, self).__init__()\n",
    "        \n",
    "        # L1 ImgIn shape=(?, 224, 224, 3)\n",
    "        #    Conv     -> (?, 224, 224, 32)\n",
    "        #    Pool     -> (?, 112, 112, 32)\n",
    "        self.layer1 = torch.nn.Sequential(\n",
    "            torch.nn.Conv2d(3, 32, kernel_size=3, stride=1, padding=1),\n",
    "            torch.nn.ReLU(),\n",
    "            torch.nn.MaxPool2d(kernel_size=2, stride=2))\n",
    "        \n",
    "        # L2 ImgIn shape=(?, 112, 112, 32)\n",
    "        #    Conv      ->(?, 112, 112, 64)\n",
    "        #    Pool      ->(?, 56, 56, 64)\n",
    "        self.layer2 = torch.nn.Sequential(\n",
    "            torch.nn.Conv2d(32,64, kernel_size=3, stride=1, padding=1),\n",
    "            torch.nn.ReLU(),\n",
    "            torch.nn.MaxPool2d(kernel_size=2, stride=2))\n",
    "        \n",
    "        \n",
    "        # L3 ImgIn shape=(?, 56, 56, 64)\n",
    "        #    Conv      ->(?, 56, 56, 128)\n",
    "        #    Pool      ->(?, 28, 28, 128)\n",
    "        self.layer3 = torch.nn.Sequential(\n",
    "            torch.nn.Conv2d(64, 128, kernel_size=3, stride=1, padding=1),\n",
    "            torch.nn.ReLU(),\n",
    "            torch.nn.MaxPool2d(kernel_size=2, stride=2))\n",
    "        \n",
    "        self.fc = torch.nn.Linear(28 * 28 * 128, 10, bias=True)\n",
    "        \n",
    "        torch.nn.init.xavier_uniform_(self.fc.weight)\n",
    "        \n",
    "    def forward(self, x):\n",
    "        out = self.layer1(x)\n",
    "        out = self.layer2(out)\n",
    "        out = self.layer3(out)\n",
    "        out = out.view(out.size(0), -1)\n",
    "        out = self.fc(out)\n",
    "        \n",
    "        return out"
   ]
  },
  {
   "cell_type": "code",
   "execution_count": 22,
   "id": "d1f20bf3",
   "metadata": {
    "execution": {
     "iopub.execute_input": "2022-09-22T05:28:24.728081Z",
     "iopub.status.busy": "2022-09-22T05:28:24.727516Z",
     "iopub.status.idle": "2022-09-22T05:28:27.858342Z",
     "shell.execute_reply": "2022-09-22T05:28:27.857387Z"
    },
    "papermill": {
     "duration": 3.145738,
     "end_time": "2022-09-22T05:28:27.860783",
     "exception": false,
     "start_time": "2022-09-22T05:28:24.715045",
     "status": "completed"
    },
    "tags": []
   },
   "outputs": [],
   "source": [
    "model = CNN().to(device)"
   ]
  },
  {
   "cell_type": "code",
   "execution_count": 23,
   "id": "17ecde0c",
   "metadata": {
    "execution": {
     "iopub.execute_input": "2022-09-22T05:28:27.885957Z",
     "iopub.status.busy": "2022-09-22T05:28:27.885648Z",
     "iopub.status.idle": "2022-09-22T05:28:27.889956Z",
     "shell.execute_reply": "2022-09-22T05:28:27.889069Z"
    },
    "papermill": {
     "duration": 0.018832,
     "end_time": "2022-09-22T05:28:27.891762",
     "exception": false,
     "start_time": "2022-09-22T05:28:27.872930",
     "status": "completed"
    },
    "tags": []
   },
   "outputs": [],
   "source": [
    "learning_rate = 0.001\n",
    "epochs = 100\n",
    "batch_size = 10"
   ]
  },
  {
   "cell_type": "code",
   "execution_count": 24,
   "id": "32ca3280",
   "metadata": {
    "execution": {
     "iopub.execute_input": "2022-09-22T05:28:27.916714Z",
     "iopub.status.busy": "2022-09-22T05:28:27.916092Z",
     "iopub.status.idle": "2022-09-22T05:28:27.920906Z",
     "shell.execute_reply": "2022-09-22T05:28:27.919965Z"
    },
    "papermill": {
     "duration": 0.019568,
     "end_time": "2022-09-22T05:28:27.922954",
     "exception": false,
     "start_time": "2022-09-22T05:28:27.903386",
     "status": "completed"
    },
    "tags": []
   },
   "outputs": [],
   "source": [
    "criterion = torch.nn.CrossEntropyLoss().to(device) # 비용 함수에 소프트맥스 함수 포함되어져 있음.\n",
    "optimizer = torch.optim.Adam(model.parameters(), lr=learning_rate)"
   ]
  },
  {
   "cell_type": "code",
   "execution_count": 25,
   "id": "44fde339",
   "metadata": {
    "execution": {
     "iopub.execute_input": "2022-09-22T05:28:27.947321Z",
     "iopub.status.busy": "2022-09-22T05:28:27.947074Z",
     "iopub.status.idle": "2022-09-22T05:28:30.718952Z",
     "shell.execute_reply": "2022-09-22T05:28:30.717666Z"
    },
    "papermill": {
     "duration": 2.786922,
     "end_time": "2022-09-22T05:28:30.721576",
     "exception": false,
     "start_time": "2022-09-22T05:28:27.934654",
     "status": "completed"
    },
    "tags": []
   },
   "outputs": [
    {
     "name": "stdout",
     "output_type": "stream",
     "text": [
      "torch.Size([50, 3, 224, 224])\n"
     ]
    }
   ],
   "source": [
    "for j, [image,label] in enumerate(dataloader):\n",
    "    print(image.shape)\n",
    "    break"
   ]
  },
  {
   "cell_type": "code",
   "execution_count": 26,
   "id": "450bbd54",
   "metadata": {
    "execution": {
     "iopub.execute_input": "2022-09-22T05:28:30.748368Z",
     "iopub.status.busy": "2022-09-22T05:28:30.748042Z",
     "iopub.status.idle": "2022-09-22T06:58:24.988877Z",
     "shell.execute_reply": "2022-09-22T06:58:24.987466Z"
    },
    "papermill": {
     "duration": 5394.257362,
     "end_time": "2022-09-22T06:58:24.991729",
     "exception": false,
     "start_time": "2022-09-22T05:28:30.734367",
     "status": "completed"
    },
    "tags": []
   },
   "outputs": [
    {
     "name": "stdout",
     "output_type": "stream",
     "text": [
      "tensor(2.3312, device='cuda:0', grad_fn=<NllLossBackward0>)\n",
      "tensor(0.4640, device='cuda:0', grad_fn=<NllLossBackward0>)\n",
      "tensor(0.4413, device='cuda:0', grad_fn=<NllLossBackward0>)\n",
      "tensor(0.3669, device='cuda:0', grad_fn=<NllLossBackward0>)\n",
      "tensor(0.3693, device='cuda:0', grad_fn=<NllLossBackward0>)\n",
      "tensor(0.3286, device='cuda:0', grad_fn=<NllLossBackward0>)\n",
      "tensor(0.2964, device='cuda:0', grad_fn=<NllLossBackward0>)\n",
      "tensor(0.2869, device='cuda:0', grad_fn=<NllLossBackward0>)\n",
      "tensor(0.1954, device='cuda:0', grad_fn=<NllLossBackward0>)\n",
      "tensor(0.3802, device='cuda:0', grad_fn=<NllLossBackward0>)\n",
      "tensor(0.4247, device='cuda:0', grad_fn=<NllLossBackward0>)\n",
      "tensor(0.3707, device='cuda:0', grad_fn=<NllLossBackward0>)\n",
      "tensor(0.4823, device='cuda:0', grad_fn=<NllLossBackward0>)\n",
      "tensor(0.4201, device='cuda:0', grad_fn=<NllLossBackward0>)\n",
      "tensor(0.3310, device='cuda:0', grad_fn=<NllLossBackward0>)\n",
      "tensor(0.2448, device='cuda:0', grad_fn=<NllLossBackward0>)\n",
      "tensor(0.3653, device='cuda:0', grad_fn=<NllLossBackward0>)\n",
      "tensor(0.3740, device='cuda:0', grad_fn=<NllLossBackward0>)\n",
      "tensor(0.4164, device='cuda:0', grad_fn=<NllLossBackward0>)\n",
      "tensor(0.3287, device='cuda:0', grad_fn=<NllLossBackward0>)\n",
      "tensor(0.3386, device='cuda:0', grad_fn=<NllLossBackward0>)\n",
      "tensor(0.2050, device='cuda:0', grad_fn=<NllLossBackward0>)\n",
      "tensor(0.2336, device='cuda:0', grad_fn=<NllLossBackward0>)\n",
      "tensor(0.3706, device='cuda:0', grad_fn=<NllLossBackward0>)\n",
      "tensor(0.3417, device='cuda:0', grad_fn=<NllLossBackward0>)\n",
      "tensor(0.4656, device='cuda:0', grad_fn=<NllLossBackward0>)\n",
      "tensor(0.3482, device='cuda:0', grad_fn=<NllLossBackward0>)\n",
      "tensor(0.4983, device='cuda:0', grad_fn=<NllLossBackward0>)\n",
      "tensor(0.3622, device='cuda:0', grad_fn=<NllLossBackward0>)\n",
      "tensor(0.1695, device='cuda:0', grad_fn=<NllLossBackward0>)\n",
      "tensor(0.2013, device='cuda:0', grad_fn=<NllLossBackward0>)\n",
      "tensor(0.3688, device='cuda:0', grad_fn=<NllLossBackward0>)\n",
      "tensor(0.3280, device='cuda:0', grad_fn=<NllLossBackward0>)\n",
      "tensor(0.4061, device='cuda:0', grad_fn=<NllLossBackward0>)\n",
      "tensor(0.4604, device='cuda:0', grad_fn=<NllLossBackward0>)\n",
      "tensor(0.3252, device='cuda:0', grad_fn=<NllLossBackward0>)\n",
      "tensor(0.4984, device='cuda:0', grad_fn=<NllLossBackward0>)\n",
      "tensor(0.3770, device='cuda:0', grad_fn=<NllLossBackward0>)\n",
      "tensor(0.3259, device='cuda:0', grad_fn=<NllLossBackward0>)\n",
      "tensor(0.3277, device='cuda:0', grad_fn=<NllLossBackward0>)\n",
      "tensor(0.3673, device='cuda:0', grad_fn=<NllLossBackward0>)\n",
      "tensor(0.4067, device='cuda:0', grad_fn=<NllLossBackward0>)\n",
      "tensor(0.4091, device='cuda:0', grad_fn=<NllLossBackward0>)\n",
      "tensor(0.3770, device='cuda:0', grad_fn=<NllLossBackward0>)\n",
      "tensor(0.2969, device='cuda:0', grad_fn=<NllLossBackward0>)\n",
      "tensor(0.3681, device='cuda:0', grad_fn=<NllLossBackward0>)\n",
      "tensor(0.3256, device='cuda:0', grad_fn=<NllLossBackward0>)\n",
      "tensor(0.3703, device='cuda:0', grad_fn=<NllLossBackward0>)\n",
      "tensor(0.1750, device='cuda:0', grad_fn=<NllLossBackward0>)\n",
      "tensor(0.3251, device='cuda:0', grad_fn=<NllLossBackward0>)\n",
      "tensor(0.2923, device='cuda:0', grad_fn=<NllLossBackward0>)\n",
      "tensor(0.3259, device='cuda:0', grad_fn=<NllLossBackward0>)\n",
      "tensor(0.3678, device='cuda:0', grad_fn=<NllLossBackward0>)\n",
      "tensor(0.3805, device='cuda:0', grad_fn=<NllLossBackward0>)\n",
      "tensor(0.3249, device='cuda:0', grad_fn=<NllLossBackward0>)\n",
      "tensor(0.4503, device='cuda:0', grad_fn=<NllLossBackward0>)\n",
      "tensor(0.5787, device='cuda:0', grad_fn=<NllLossBackward0>)\n",
      "tensor(0.5104, device='cuda:0', grad_fn=<NllLossBackward0>)\n",
      "tensor(0.4677, device='cuda:0', grad_fn=<NllLossBackward0>)\n",
      "tensor(0.2789, device='cuda:0', grad_fn=<NllLossBackward0>)\n",
      "tensor(0.2828, device='cuda:0', grad_fn=<NllLossBackward0>)\n",
      "tensor(0.2822, device='cuda:0', grad_fn=<NllLossBackward0>)\n",
      "tensor(0.3253, device='cuda:0', grad_fn=<NllLossBackward0>)\n",
      "tensor(0.3261, device='cuda:0', grad_fn=<NllLossBackward0>)\n",
      "tensor(0.3582, device='cuda:0', grad_fn=<NllLossBackward0>)\n",
      "tensor(0.3272, device='cuda:0', grad_fn=<NllLossBackward0>)\n",
      "tensor(0.3482, device='cuda:0', grad_fn=<NllLossBackward0>)\n",
      "tensor(0.2011, device='cuda:0', grad_fn=<NllLossBackward0>)\n",
      "tensor(0.2792, device='cuda:0', grad_fn=<NllLossBackward0>)\n",
      "tensor(0.4025, device='cuda:0', grad_fn=<NllLossBackward0>)\n",
      "tensor(0.2848, device='cuda:0', grad_fn=<NllLossBackward0>)\n",
      "tensor(0.3252, device='cuda:0', grad_fn=<NllLossBackward0>)\n",
      "tensor(0.4099, device='cuda:0', grad_fn=<NllLossBackward0>)\n",
      "tensor(0.2446, device='cuda:0', grad_fn=<NllLossBackward0>)\n",
      "tensor(0.4225, device='cuda:0', grad_fn=<NllLossBackward0>)\n",
      "tensor(0.2943, device='cuda:0', grad_fn=<NllLossBackward0>)\n",
      "tensor(0.3254, device='cuda:0', grad_fn=<NllLossBackward0>)\n",
      "tensor(0.3249, device='cuda:0', grad_fn=<NllLossBackward0>)\n",
      "tensor(0.3264, device='cuda:0', grad_fn=<NllLossBackward0>)\n",
      "tensor(0.4432, device='cuda:0', grad_fn=<NllLossBackward0>)\n",
      "tensor(0.2935, device='cuda:0', grad_fn=<NllLossBackward0>)\n",
      "tensor(0.2302, device='cuda:0', grad_fn=<NllLossBackward0>)\n",
      "tensor(0.3672, device='cuda:0', grad_fn=<NllLossBackward0>)\n",
      "tensor(0.2960, device='cuda:0', grad_fn=<NllLossBackward0>)\n",
      "tensor(0.3200, device='cuda:0', grad_fn=<NllLossBackward0>)\n",
      "tensor(0.3248, device='cuda:0', grad_fn=<NllLossBackward0>)\n",
      "tensor(0.3840, device='cuda:0', grad_fn=<NllLossBackward0>)\n",
      "tensor(0.4026, device='cuda:0', grad_fn=<NllLossBackward0>)\n",
      "tensor(0.3669, device='cuda:0', grad_fn=<NllLossBackward0>)\n",
      "tensor(0.2811, device='cuda:0', grad_fn=<NllLossBackward0>)\n",
      "tensor(0.2850, device='cuda:0', grad_fn=<NllLossBackward0>)\n",
      "tensor(0.3750, device='cuda:0', grad_fn=<NllLossBackward0>)\n",
      "tensor(0.1948, device='cuda:0', grad_fn=<NllLossBackward0>)\n",
      "tensor(0.3072, device='cuda:0', grad_fn=<NllLossBackward0>)\n",
      "tensor(0.3258, device='cuda:0', grad_fn=<NllLossBackward0>)\n",
      "tensor(0.2772, device='cuda:0', grad_fn=<NllLossBackward0>)\n",
      "tensor(0.2305, device='cuda:0', grad_fn=<NllLossBackward0>)\n",
      "tensor(0.3318, device='cuda:0', grad_fn=<NllLossBackward0>)\n",
      "tensor(0.4451, device='cuda:0', grad_fn=<NllLossBackward0>)\n",
      "tensor(0.4423, device='cuda:0', grad_fn=<NllLossBackward0>)\n",
      "tensor(0.2790, device='cuda:0', grad_fn=<NllLossBackward0>)\n",
      "tensor(0.3275, device='cuda:0', grad_fn=<NllLossBackward0>)\n",
      "tensor(0.3680, device='cuda:0', grad_fn=<NllLossBackward0>)\n",
      "tensor(0.3307, device='cuda:0', grad_fn=<NllLossBackward0>)\n",
      "tensor(0.3678, device='cuda:0', grad_fn=<NllLossBackward0>)\n",
      "tensor(0.4699, device='cuda:0', grad_fn=<NllLossBackward0>)\n",
      "tensor(0.2779, device='cuda:0', grad_fn=<NllLossBackward0>)\n",
      "tensor(0.5972, device='cuda:0', grad_fn=<NllLossBackward0>)\n",
      "tensor(0.3272, device='cuda:0', grad_fn=<NllLossBackward0>)\n",
      "tensor(0.3248, device='cuda:0', grad_fn=<NllLossBackward0>)\n",
      "tensor(0.3243, device='cuda:0', grad_fn=<NllLossBackward0>)\n",
      "tensor(0.3676, device='cuda:0', grad_fn=<NllLossBackward0>)\n",
      "tensor(0.1767, device='cuda:0', grad_fn=<NllLossBackward0>)\n",
      "tensor(0.4545, device='cuda:0', grad_fn=<NllLossBackward0>)\n",
      "tensor(0.2041, device='cuda:0', grad_fn=<NllLossBackward0>)\n",
      "tensor(0.3668, device='cuda:0', grad_fn=<NllLossBackward0>)\n",
      "tensor(0.1963, device='cuda:0', grad_fn=<NllLossBackward0>)\n",
      "tensor(0.4794, device='cuda:0', grad_fn=<NllLossBackward0>)\n",
      "tensor(4.2382, device='cuda:0', grad_fn=<NllLossBackward0>)\n",
      "tensor(0.2782, device='cuda:0', grad_fn=<NllLossBackward0>)\n",
      "tensor(0.5277, device='cuda:0', grad_fn=<NllLossBackward0>)\n",
      "tensor(0.1520, device='cuda:0', grad_fn=<NllLossBackward0>)\n",
      "tensor(0.4870, device='cuda:0', grad_fn=<NllLossBackward0>)\n",
      "tensor(0.3681, device='cuda:0', grad_fn=<NllLossBackward0>)\n",
      "tensor(0.4464, device='cuda:0', grad_fn=<NllLossBackward0>)\n",
      "tensor(0.3900, device='cuda:0', grad_fn=<NllLossBackward0>)\n",
      "tensor(0.3520, device='cuda:0', grad_fn=<NllLossBackward0>)\n",
      "tensor(0.2578, device='cuda:0', grad_fn=<NllLossBackward0>)\n",
      "tensor(0.2723, device='cuda:0', grad_fn=<NllLossBackward0>)\n",
      "tensor(0.2948, device='cuda:0', grad_fn=<NllLossBackward0>)\n",
      "tensor(0.2861, device='cuda:0', grad_fn=<NllLossBackward0>)\n",
      "tensor(0.3242, device='cuda:0', grad_fn=<NllLossBackward0>)\n",
      "tensor(0.3335, device='cuda:0', grad_fn=<NllLossBackward0>)\n",
      "tensor(0.2847, device='cuda:0', grad_fn=<NllLossBackward0>)\n",
      "tensor(0.3895, device='cuda:0', grad_fn=<NllLossBackward0>)\n",
      "tensor(0.4232, device='cuda:0', grad_fn=<NllLossBackward0>)\n",
      "tensor(0.2809, device='cuda:0', grad_fn=<NllLossBackward0>)\n",
      "tensor(0.2772, device='cuda:0', grad_fn=<NllLossBackward0>)\n",
      "tensor(0.2614, device='cuda:0', grad_fn=<NllLossBackward0>)\n",
      "tensor(0.2670, device='cuda:0', grad_fn=<NllLossBackward0>)\n",
      "tensor(0.2182, device='cuda:0', grad_fn=<NllLossBackward0>)\n",
      "tensor(0.2533, device='cuda:0', grad_fn=<NllLossBackward0>)\n",
      "tensor(0.3235, device='cuda:0', grad_fn=<NllLossBackward0>)\n",
      "tensor(0.4176, device='cuda:0', grad_fn=<NllLossBackward0>)\n",
      "tensor(0.2441, device='cuda:0', grad_fn=<NllLossBackward0>)\n",
      "tensor(0.3471, device='cuda:0', grad_fn=<NllLossBackward0>)\n",
      "tensor(0.3325, device='cuda:0', grad_fn=<NllLossBackward0>)\n",
      "tensor(0.3686, device='cuda:0', grad_fn=<NllLossBackward0>)\n",
      "tensor(0.2838, device='cuda:0', grad_fn=<NllLossBackward0>)\n",
      "tensor(0.3290, device='cuda:0', grad_fn=<NllLossBackward0>)\n",
      "tensor(0.3728, device='cuda:0', grad_fn=<NllLossBackward0>)\n",
      "tensor(0.1897, device='cuda:0', grad_fn=<NllLossBackward0>)\n",
      "tensor(0.1888, device='cuda:0', grad_fn=<NllLossBackward0>)\n",
      "tensor(0.3206, device='cuda:0', grad_fn=<NllLossBackward0>)\n",
      "tensor(0.2804, device='cuda:0', grad_fn=<NllLossBackward0>)\n",
      "tensor(0.2958, device='cuda:0', grad_fn=<NllLossBackward0>)\n",
      "tensor(0.2797, device='cuda:0', grad_fn=<NllLossBackward0>)\n",
      "tensor(0.3237, device='cuda:0', grad_fn=<NllLossBackward0>)\n",
      "tensor(0.4058, device='cuda:0', grad_fn=<NllLossBackward0>)\n",
      "tensor(0.3245, device='cuda:0', grad_fn=<NllLossBackward0>)\n",
      "tensor(0.2798, device='cuda:0', grad_fn=<NllLossBackward0>)\n",
      "tensor(0.4403, device='cuda:0', grad_fn=<NllLossBackward0>)\n",
      "tensor(0.3255, device='cuda:0', grad_fn=<NllLossBackward0>)\n",
      "tensor(0.4454, device='cuda:0', grad_fn=<NllLossBackward0>)\n",
      "tensor(0.2811, device='cuda:0', grad_fn=<NllLossBackward0>)\n",
      "tensor(0.4805, device='cuda:0', grad_fn=<NllLossBackward0>)\n",
      "tensor(0.2425, device='cuda:0', grad_fn=<NllLossBackward0>)\n",
      "tensor(0.4095, device='cuda:0', grad_fn=<NllLossBackward0>)\n",
      "tensor(0.3251, device='cuda:0', grad_fn=<NllLossBackward0>)\n",
      "tensor(0.4241, device='cuda:0', grad_fn=<NllLossBackward0>)\n",
      "tensor(0.3639, device='cuda:0', grad_fn=<NllLossBackward0>)\n",
      "tensor(0.3257, device='cuda:0', grad_fn=<NllLossBackward0>)\n",
      "tensor(0.3675, device='cuda:0', grad_fn=<NllLossBackward0>)\n",
      "tensor(0.2259, device='cuda:0', grad_fn=<NllLossBackward0>)\n",
      "tensor(0.2306, device='cuda:0', grad_fn=<NllLossBackward0>)\n",
      "tensor(0.3602, device='cuda:0', grad_fn=<NllLossBackward0>)\n",
      "tensor(0.3742, device='cuda:0', grad_fn=<NllLossBackward0>)\n",
      "tensor(0.4412, device='cuda:0', grad_fn=<NllLossBackward0>)\n",
      "tensor(0.4022, device='cuda:0', grad_fn=<NllLossBackward0>)\n",
      "tensor(0.2808, device='cuda:0', grad_fn=<NllLossBackward0>)\n",
      "tensor(0.3670, device='cuda:0', grad_fn=<NllLossBackward0>)\n",
      "tensor(0.3243, device='cuda:0', grad_fn=<NllLossBackward0>)\n",
      "tensor(0.1980, device='cuda:0', grad_fn=<NllLossBackward0>)\n",
      "tensor(0.2427, device='cuda:0', grad_fn=<NllLossBackward0>)\n",
      "tensor(0.3073, device='cuda:0', grad_fn=<NllLossBackward0>)\n",
      "tensor(0.3226, device='cuda:0', grad_fn=<NllLossBackward0>)\n",
      "tensor(0.3224, device='cuda:0', grad_fn=<NllLossBackward0>)\n",
      "tensor(0.4068, device='cuda:0', grad_fn=<NllLossBackward0>)\n",
      "tensor(0.3650, device='cuda:0', grad_fn=<NllLossBackward0>)\n",
      "tensor(0.4687, device='cuda:0', grad_fn=<NllLossBackward0>)\n",
      "tensor(0.3250, device='cuda:0', grad_fn=<NllLossBackward0>)\n",
      "tensor(0.4161, device='cuda:0', grad_fn=<NllLossBackward0>)\n",
      "tensor(0.4093, device='cuda:0', grad_fn=<NllLossBackward0>)\n",
      "tensor(0.4165, device='cuda:0', grad_fn=<NllLossBackward0>)\n",
      "tensor(0.3007, device='cuda:0', grad_fn=<NllLossBackward0>)\n",
      "tensor(0.2774, device='cuda:0', grad_fn=<NllLossBackward0>)\n",
      "tensor(0.3261, device='cuda:0', grad_fn=<NllLossBackward0>)\n",
      "tensor(0.4087, device='cuda:0', grad_fn=<NllLossBackward0>)\n",
      "tensor(0.2832, device='cuda:0', grad_fn=<NllLossBackward0>)\n",
      "tensor(0.0870, device='cuda:0', grad_fn=<NllLossBackward0>)\n",
      "tensor(0.2754, device='cuda:0', grad_fn=<NllLossBackward0>)\n",
      "tensor(0.2117, device='cuda:0', grad_fn=<NllLossBackward0>)\n",
      "tensor(0.4396, device='cuda:0', grad_fn=<NllLossBackward0>)\n",
      "tensor(0.2440, device='cuda:0', grad_fn=<NllLossBackward0>)\n",
      "tensor(0.4143, device='cuda:0', grad_fn=<NllLossBackward0>)\n",
      "tensor(0.2350, device='cuda:0', grad_fn=<NllLossBackward0>)\n",
      "tensor(0.1724, device='cuda:0', grad_fn=<NllLossBackward0>)\n",
      "tensor(0.3761, device='cuda:0', grad_fn=<NllLossBackward0>)\n",
      "tensor(0.2849, device='cuda:0', grad_fn=<NllLossBackward0>)\n",
      "tensor(0.3252, device='cuda:0', grad_fn=<NllLossBackward0>)\n",
      "tensor(0.1343, device='cuda:0', grad_fn=<NllLossBackward0>)\n",
      "tensor(0.3250, device='cuda:0', grad_fn=<NllLossBackward0>)\n",
      "tensor(0.3505, device='cuda:0', grad_fn=<NllLossBackward0>)\n",
      "tensor(0.3632, device='cuda:0', grad_fn=<NllLossBackward0>)\n",
      "tensor(0.2285, device='cuda:0', grad_fn=<NllLossBackward0>)\n",
      "tensor(0.2337, device='cuda:0', grad_fn=<NllLossBackward0>)\n",
      "tensor(0.4053, device='cuda:0', grad_fn=<NllLossBackward0>)\n",
      "tensor(0.3234, device='cuda:0', grad_fn=<NllLossBackward0>)\n",
      "tensor(0.3663, device='cuda:0', grad_fn=<NllLossBackward0>)\n",
      "tensor(0.3257, device='cuda:0', grad_fn=<NllLossBackward0>)\n",
      "tensor(0.3661, device='cuda:0', grad_fn=<NllLossBackward0>)\n",
      "tensor(0.2132, device='cuda:0', grad_fn=<NllLossBackward0>)\n",
      "tensor(0.4186, device='cuda:0', grad_fn=<NllLossBackward0>)\n",
      "tensor(0.3704, device='cuda:0', grad_fn=<NllLossBackward0>)\n",
      "tensor(0.3741, device='cuda:0', grad_fn=<NllLossBackward0>)\n",
      "tensor(0.3224, device='cuda:0', grad_fn=<NllLossBackward0>)\n",
      "tensor(0.3263, device='cuda:0', grad_fn=<NllLossBackward0>)\n",
      "tensor(0.3267, device='cuda:0', grad_fn=<NllLossBackward0>)\n",
      "tensor(0.3637, device='cuda:0', grad_fn=<NllLossBackward0>)\n",
      "tensor(0.2945, device='cuda:0', grad_fn=<NllLossBackward0>)\n",
      "tensor(0.4141, device='cuda:0', grad_fn=<NllLossBackward0>)\n",
      "tensor(0.2809, device='cuda:0', grad_fn=<NllLossBackward0>)\n",
      "tensor(0.4166, device='cuda:0', grad_fn=<NllLossBackward0>)\n",
      "tensor(0.1656, device='cuda:0', grad_fn=<NllLossBackward0>)\n",
      "tensor(0.2803, device='cuda:0', grad_fn=<NllLossBackward0>)\n",
      "tensor(0.3254, device='cuda:0', grad_fn=<NllLossBackward0>)\n",
      "tensor(0.2159, device='cuda:0', grad_fn=<NllLossBackward0>)\n",
      "tensor(0.3263, device='cuda:0', grad_fn=<NllLossBackward0>)\n",
      "tensor(0.4171, device='cuda:0', grad_fn=<NllLossBackward0>)\n",
      "tensor(0.3272, device='cuda:0', grad_fn=<NllLossBackward0>)\n",
      "tensor(0.2841, device='cuda:0', grad_fn=<NllLossBackward0>)\n",
      "tensor(0.2771, device='cuda:0', grad_fn=<NllLossBackward0>)\n",
      "tensor(0.2794, device='cuda:0', grad_fn=<NllLossBackward0>)\n",
      "tensor(0.2845, device='cuda:0', grad_fn=<NllLossBackward0>)\n",
      "tensor(0.4251, device='cuda:0', grad_fn=<NllLossBackward0>)\n",
      "tensor(0.2424, device='cuda:0', grad_fn=<NllLossBackward0>)\n",
      "tensor(0.4486, device='cuda:0', grad_fn=<NllLossBackward0>)\n",
      "tensor(0.4453, device='cuda:0', grad_fn=<NllLossBackward0>)\n",
      "tensor(0.2823, device='cuda:0', grad_fn=<NllLossBackward0>)\n",
      "tensor(0.4114, device='cuda:0', grad_fn=<NllLossBackward0>)\n",
      "tensor(0.3667, device='cuda:0', grad_fn=<NllLossBackward0>)\n",
      "tensor(0.3238, device='cuda:0', grad_fn=<NllLossBackward0>)\n",
      "tensor(0.2803, device='cuda:0', grad_fn=<NllLossBackward0>)\n",
      "tensor(0.1926, device='cuda:0', grad_fn=<NllLossBackward0>)\n",
      "tensor(0.3259, device='cuda:0', grad_fn=<NllLossBackward0>)\n",
      "tensor(0.3307, device='cuda:0', grad_fn=<NllLossBackward0>)\n",
      "tensor(0.2516, device='cuda:0', grad_fn=<NllLossBackward0>)\n",
      "tensor(0.3688, device='cuda:0', grad_fn=<NllLossBackward0>)\n",
      "tensor(0.4911, device='cuda:0', grad_fn=<NllLossBackward0>)\n",
      "tensor(0.3641, device='cuda:0', grad_fn=<NllLossBackward0>)\n",
      "tensor(0.2672, device='cuda:0', grad_fn=<NllLossBackward0>)\n",
      "tensor(0.1444, device='cuda:0', grad_fn=<NllLossBackward0>)\n",
      "tensor(0.2566, device='cuda:0', grad_fn=<NllLossBackward0>)\n",
      "tensor(0.4437, device='cuda:0', grad_fn=<NllLossBackward0>)\n",
      "tensor(0.5591, device='cuda:0', grad_fn=<NllLossBackward0>)\n",
      "tensor(0.2802, device='cuda:0', grad_fn=<NllLossBackward0>)\n",
      "tensor(0.3666, device='cuda:0', grad_fn=<NllLossBackward0>)\n",
      "tensor(0.3708, device='cuda:0', grad_fn=<NllLossBackward0>)\n",
      "tensor(0.3385, device='cuda:0', grad_fn=<NllLossBackward0>)\n",
      "tensor(0.2124, device='cuda:0', grad_fn=<NllLossBackward0>)\n",
      "tensor(0.2962, device='cuda:0', grad_fn=<NllLossBackward0>)\n",
      "tensor(0.1925, device='cuda:0', grad_fn=<NllLossBackward0>)\n",
      "tensor(0.4539, device='cuda:0', grad_fn=<NllLossBackward0>)\n",
      "tensor(0.3965, device='cuda:0', grad_fn=<NllLossBackward0>)\n",
      "tensor(0.4351, device='cuda:0', grad_fn=<NllLossBackward0>)\n",
      "tensor(0.3364, device='cuda:0', grad_fn=<NllLossBackward0>)\n",
      "tensor(0.3730, device='cuda:0', grad_fn=<NllLossBackward0>)\n",
      "tensor(0.3671, device='cuda:0', grad_fn=<NllLossBackward0>)\n",
      "tensor(0.3657, device='cuda:0', grad_fn=<NllLossBackward0>)\n",
      "tensor(0.0889, device='cuda:0', grad_fn=<NllLossBackward0>)\n",
      "tensor(0.2829, device='cuda:0', grad_fn=<NllLossBackward0>)\n",
      "tensor(0.3389, device='cuda:0', grad_fn=<NllLossBackward0>)\n",
      "tensor(0.3829, device='cuda:0', grad_fn=<NllLossBackward0>)\n",
      "tensor(0.6442, device='cuda:0', grad_fn=<NllLossBackward0>)\n",
      "tensor(0.1642, device='cuda:0', grad_fn=<NllLossBackward0>)\n",
      "tensor(0.3278, device='cuda:0', grad_fn=<NllLossBackward0>)\n",
      "tensor(0.3281, device='cuda:0', grad_fn=<NllLossBackward0>)\n",
      "tensor(0.3667, device='cuda:0', grad_fn=<NllLossBackward0>)\n",
      "tensor(0.0909, device='cuda:0', grad_fn=<NllLossBackward0>)\n",
      "tensor(0.4192, device='cuda:0', grad_fn=<NllLossBackward0>)\n",
      "tensor(0.4473, device='cuda:0', grad_fn=<NllLossBackward0>)\n",
      "tensor(0.4920, device='cuda:0', grad_fn=<NllLossBackward0>)\n",
      "tensor(0.4307, device='cuda:0', grad_fn=<NllLossBackward0>)\n",
      "tensor(0.4153, device='cuda:0', grad_fn=<NllLossBackward0>)\n",
      "tensor(0.2780, device='cuda:0', grad_fn=<NllLossBackward0>)\n",
      "tensor(0.3208, device='cuda:0', grad_fn=<NllLossBackward0>)\n",
      "tensor(0.4103, device='cuda:0', grad_fn=<NllLossBackward0>)\n",
      "tensor(0.4170, device='cuda:0', grad_fn=<NllLossBackward0>)\n",
      "tensor(0.3290, device='cuda:0', grad_fn=<NllLossBackward0>)\n",
      "tensor(0.4069, device='cuda:0', grad_fn=<NllLossBackward0>)\n",
      "tensor(0.2877, device='cuda:0', grad_fn=<NllLossBackward0>)\n",
      "tensor(0.4680, device='cuda:0', grad_fn=<NllLossBackward0>)\n",
      "tensor(0.3166, device='cuda:0', grad_fn=<NllLossBackward0>)\n",
      "tensor(0.2367, device='cuda:0', grad_fn=<NllLossBackward0>)\n",
      "tensor(0.3743, device='cuda:0', grad_fn=<NllLossBackward0>)\n",
      "tensor(0.3699, device='cuda:0', grad_fn=<NllLossBackward0>)\n",
      "tensor(0.4063, device='cuda:0', grad_fn=<NllLossBackward0>)\n",
      "tensor(0.4217, device='cuda:0', grad_fn=<NllLossBackward0>)\n",
      "tensor(0.2304, device='cuda:0', grad_fn=<NllLossBackward0>)\n",
      "tensor(0.3329, device='cuda:0', grad_fn=<NllLossBackward0>)\n",
      "tensor(0.2809, device='cuda:0', grad_fn=<NllLossBackward0>)\n",
      "tensor(0.3684, device='cuda:0', grad_fn=<NllLossBackward0>)\n",
      "tensor(0.2428, device='cuda:0', grad_fn=<NllLossBackward0>)\n",
      "tensor(0.2423, device='cuda:0', grad_fn=<NllLossBackward0>)\n",
      "tensor(0.4108, device='cuda:0', grad_fn=<NllLossBackward0>)\n",
      "tensor(0.3720, device='cuda:0', grad_fn=<NllLossBackward0>)\n",
      "tensor(0.3787, device='cuda:0', grad_fn=<NllLossBackward0>)\n",
      "tensor(0.4197, device='cuda:0', grad_fn=<NllLossBackward0>)\n",
      "tensor(0.4061, device='cuda:0', grad_fn=<NllLossBackward0>)\n",
      "tensor(0.2865, device='cuda:0', grad_fn=<NllLossBackward0>)\n",
      "tensor(0.2329, device='cuda:0', grad_fn=<NllLossBackward0>)\n",
      "tensor(0.2859, device='cuda:0', grad_fn=<NllLossBackward0>)\n",
      "tensor(0.4037, device='cuda:0', grad_fn=<NllLossBackward0>)\n",
      "tensor(0.3244, device='cuda:0', grad_fn=<NllLossBackward0>)\n",
      "tensor(0.3703, device='cuda:0', grad_fn=<NllLossBackward0>)\n",
      "tensor(0.4169, device='cuda:0', grad_fn=<NllLossBackward0>)\n",
      "tensor(0.4051, device='cuda:0', grad_fn=<NllLossBackward0>)\n",
      "tensor(0.2726, device='cuda:0', grad_fn=<NllLossBackward0>)\n",
      "tensor(0.3235, device='cuda:0', grad_fn=<NllLossBackward0>)\n",
      "tensor(0.3662, device='cuda:0', grad_fn=<NllLossBackward0>)\n",
      "tensor(0.4580, device='cuda:0', grad_fn=<NllLossBackward0>)\n",
      "tensor(0.2839, device='cuda:0', grad_fn=<NllLossBackward0>)\n",
      "tensor(0.3693, device='cuda:0', grad_fn=<NllLossBackward0>)\n",
      "tensor(0.2380, device='cuda:0', grad_fn=<NllLossBackward0>)\n",
      "tensor(0.3623, device='cuda:0', grad_fn=<NllLossBackward0>)\n",
      "tensor(0.4135, device='cuda:0', grad_fn=<NllLossBackward0>)\n",
      "tensor(0.4056, device='cuda:0', grad_fn=<NllLossBackward0>)\n",
      "tensor(0.2469, device='cuda:0', grad_fn=<NllLossBackward0>)\n",
      "tensor(0.3258, device='cuda:0', grad_fn=<NllLossBackward0>)\n",
      "tensor(0.3307, device='cuda:0', grad_fn=<NllLossBackward0>)\n",
      "tensor(0.3328, device='cuda:0', grad_fn=<NllLossBackward0>)\n",
      "tensor(0.4039, device='cuda:0', grad_fn=<NllLossBackward0>)\n",
      "tensor(0.3342, device='cuda:0', grad_fn=<NllLossBackward0>)\n",
      "tensor(0.2424, device='cuda:0', grad_fn=<NllLossBackward0>)\n",
      "tensor(0.4154, device='cuda:0', grad_fn=<NllLossBackward0>)\n",
      "tensor(0.3308, device='cuda:0', grad_fn=<NllLossBackward0>)\n",
      "tensor(0.4487, device='cuda:0', grad_fn=<NllLossBackward0>)\n",
      "tensor(0.2790, device='cuda:0', grad_fn=<NllLossBackward0>)\n",
      "tensor(0.4582, device='cuda:0', grad_fn=<NllLossBackward0>)\n",
      "tensor(0.4435, device='cuda:0', grad_fn=<NllLossBackward0>)\n",
      "tensor(0.3220, device='cuda:0', grad_fn=<NllLossBackward0>)\n",
      "tensor(0.4236, device='cuda:0', grad_fn=<NllLossBackward0>)\n",
      "tensor(0.5084, device='cuda:0', grad_fn=<NllLossBackward0>)\n",
      "tensor(0.2529, device='cuda:0', grad_fn=<NllLossBackward0>)\n",
      "tensor(0.3665, device='cuda:0', grad_fn=<NllLossBackward0>)\n",
      "tensor(0.2766, device='cuda:0', grad_fn=<NllLossBackward0>)\n",
      "tensor(0.3239, device='cuda:0', grad_fn=<NllLossBackward0>)\n",
      "tensor(0.3219, device='cuda:0', grad_fn=<NllLossBackward0>)\n",
      "tensor(0.2543, device='cuda:0', grad_fn=<NllLossBackward0>)\n",
      "tensor(0.2240, device='cuda:0', grad_fn=<NllLossBackward0>)\n",
      "tensor(0.2340, device='cuda:0', grad_fn=<NllLossBackward0>)\n",
      "tensor(0.4538, device='cuda:0', grad_fn=<NllLossBackward0>)\n",
      "tensor(0.3690, device='cuda:0', grad_fn=<NllLossBackward0>)\n",
      "tensor(0.3258, device='cuda:0', grad_fn=<NllLossBackward0>)\n",
      "tensor(0.3252, device='cuda:0', grad_fn=<NllLossBackward0>)\n",
      "tensor(0.1634, device='cuda:0', grad_fn=<NllLossBackward0>)\n",
      "tensor(0.3252, device='cuda:0', grad_fn=<NllLossBackward0>)\n",
      "tensor(0.3232, device='cuda:0', grad_fn=<NllLossBackward0>)\n",
      "tensor(0.3652, device='cuda:0', grad_fn=<NllLossBackward0>)\n",
      "tensor(0.4027, device='cuda:0', grad_fn=<NllLossBackward0>)\n",
      "tensor(0.3247, device='cuda:0', grad_fn=<NllLossBackward0>)\n",
      "tensor(0.2807, device='cuda:0', grad_fn=<NllLossBackward0>)\n",
      "tensor(0.4098, device='cuda:0', grad_fn=<NllLossBackward0>)\n",
      "tensor(0.2959, device='cuda:0', grad_fn=<NllLossBackward0>)\n",
      "tensor(0.3669, device='cuda:0', grad_fn=<NllLossBackward0>)\n",
      "tensor(0.4149, device='cuda:0', grad_fn=<NllLossBackward0>)\n",
      "tensor(0.3697, device='cuda:0', grad_fn=<NllLossBackward0>)\n",
      "tensor(0.3660, device='cuda:0', grad_fn=<NllLossBackward0>)\n",
      "tensor(0.4422, device='cuda:0', grad_fn=<NllLossBackward0>)\n",
      "tensor(0.3230, device='cuda:0', grad_fn=<NllLossBackward0>)\n",
      "tensor(0.3732, device='cuda:0', grad_fn=<NllLossBackward0>)\n",
      "tensor(0.2782, device='cuda:0', grad_fn=<NllLossBackward0>)\n",
      "tensor(0.3219, device='cuda:0', grad_fn=<NllLossBackward0>)\n",
      "tensor(0.2913, device='cuda:0', grad_fn=<NllLossBackward0>)\n",
      "tensor(0.3223, device='cuda:0', grad_fn=<NllLossBackward0>)\n",
      "tensor(0.2423, device='cuda:0', grad_fn=<NllLossBackward0>)\n",
      "tensor(0.3233, device='cuda:0', grad_fn=<NllLossBackward0>)\n",
      "tensor(0.4609, device='cuda:0', grad_fn=<NllLossBackward0>)\n",
      "tensor(0.4563, device='cuda:0', grad_fn=<NllLossBackward0>)\n",
      "tensor(0.4878, device='cuda:0', grad_fn=<NllLossBackward0>)\n",
      "tensor(0.3216, device='cuda:0', grad_fn=<NllLossBackward0>)\n",
      "tensor(0.3606, device='cuda:0', grad_fn=<NllLossBackward0>)\n",
      "tensor(0.3272, device='cuda:0', grad_fn=<NllLossBackward0>)\n",
      "tensor(0.2812, device='cuda:0', grad_fn=<NllLossBackward0>)\n",
      "tensor(0.1881, device='cuda:0', grad_fn=<NllLossBackward0>)\n",
      "tensor(0.2778, device='cuda:0', grad_fn=<NllLossBackward0>)\n",
      "tensor(0.4043, device='cuda:0', grad_fn=<NllLossBackward0>)\n",
      "tensor(0.4798, device='cuda:0', grad_fn=<NllLossBackward0>)\n",
      "tensor(0.3227, device='cuda:0', grad_fn=<NllLossBackward0>)\n",
      "tensor(0.2761, device='cuda:0', grad_fn=<NllLossBackward0>)\n",
      "tensor(0.5273, device='cuda:0', grad_fn=<NllLossBackward0>)\n",
      "tensor(0.3306, device='cuda:0', grad_fn=<NllLossBackward0>)\n",
      "tensor(0.3642, device='cuda:0', grad_fn=<NllLossBackward0>)\n",
      "tensor(0.3276, device='cuda:0', grad_fn=<NllLossBackward0>)\n",
      "tensor(0.4583, device='cuda:0', grad_fn=<NllLossBackward0>)\n",
      "tensor(0.3682, device='cuda:0', grad_fn=<NllLossBackward0>)\n",
      "tensor(0.2377, device='cuda:0', grad_fn=<NllLossBackward0>)\n",
      "tensor(0.0960, device='cuda:0', grad_fn=<NllLossBackward0>)\n",
      "tensor(0.4189, device='cuda:0', grad_fn=<NllLossBackward0>)\n",
      "tensor(0.2280, device='cuda:0', grad_fn=<NllLossBackward0>)\n",
      "tensor(0.5050, device='cuda:0', grad_fn=<NllLossBackward0>)\n",
      "tensor(0.1425, device='cuda:0', grad_fn=<NllLossBackward0>)\n",
      "tensor(0.5111, device='cuda:0', grad_fn=<NllLossBackward0>)\n",
      "tensor(0.2875, device='cuda:0', grad_fn=<NllLossBackward0>)\n",
      "tensor(0.2859, device='cuda:0', grad_fn=<NllLossBackward0>)\n",
      "tensor(0.4752, device='cuda:0', grad_fn=<NllLossBackward0>)\n",
      "tensor(0.3382, device='cuda:0', grad_fn=<NllLossBackward0>)\n",
      "tensor(0.2560, device='cuda:0', grad_fn=<NllLossBackward0>)\n",
      "tensor(0.3694, device='cuda:0', grad_fn=<NllLossBackward0>)\n",
      "tensor(0.2394, device='cuda:0', grad_fn=<NllLossBackward0>)\n",
      "tensor(0.4024, device='cuda:0', grad_fn=<NllLossBackward0>)\n",
      "tensor(0.6226, device='cuda:0', grad_fn=<NllLossBackward0>)\n",
      "tensor(0.5238, device='cuda:0', grad_fn=<NllLossBackward0>)\n",
      "tensor(0.3271, device='cuda:0', grad_fn=<NllLossBackward0>)\n",
      "tensor(0.9474, device='cuda:0', grad_fn=<NllLossBackward0>)\n",
      "tensor(0.3859, device='cuda:0', grad_fn=<NllLossBackward0>)\n",
      "tensor(0.2422, device='cuda:0', grad_fn=<NllLossBackward0>)\n",
      "tensor(0.5105, device='cuda:0', grad_fn=<NllLossBackward0>)\n",
      "tensor(0.2299, device='cuda:0', grad_fn=<NllLossBackward0>)\n",
      "tensor(0.3264, device='cuda:0', grad_fn=<NllLossBackward0>)\n",
      "tensor(0.3715, device='cuda:0', grad_fn=<NllLossBackward0>)\n",
      "tensor(0.3265, device='cuda:0', grad_fn=<NllLossBackward0>)\n",
      "tensor(0.2269, device='cuda:0', grad_fn=<NllLossBackward0>)\n",
      "tensor(0.2348, device='cuda:0', grad_fn=<NllLossBackward0>)\n",
      "tensor(0.3652, device='cuda:0', grad_fn=<NllLossBackward0>)\n",
      "tensor(0.3607, device='cuda:0', grad_fn=<NllLossBackward0>)\n",
      "tensor(0.2646, device='cuda:0', grad_fn=<NllLossBackward0>)\n",
      "tensor(0.4838, device='cuda:0', grad_fn=<NllLossBackward0>)\n",
      "tensor(0.3286, device='cuda:0', grad_fn=<NllLossBackward0>)\n",
      "tensor(0.3776, device='cuda:0', grad_fn=<NllLossBackward0>)\n",
      "tensor(0.3775, device='cuda:0', grad_fn=<NllLossBackward0>)\n",
      "tensor(0.2399, device='cuda:0', grad_fn=<NllLossBackward0>)\n",
      "tensor(0.3691, device='cuda:0', grad_fn=<NllLossBackward0>)\n",
      "tensor(0.3604, device='cuda:0', grad_fn=<NllLossBackward0>)\n",
      "tensor(0.3682, device='cuda:0', grad_fn=<NllLossBackward0>)\n",
      "tensor(0.3630, device='cuda:0', grad_fn=<NllLossBackward0>)\n",
      "tensor(0.3678, device='cuda:0', grad_fn=<NllLossBackward0>)\n",
      "tensor(0.1880, device='cuda:0', grad_fn=<NllLossBackward0>)\n",
      "tensor(0.2816, device='cuda:0', grad_fn=<NllLossBackward0>)\n",
      "tensor(0.4066, device='cuda:0', grad_fn=<NllLossBackward0>)\n",
      "tensor(0.2457, device='cuda:0', grad_fn=<NllLossBackward0>)\n",
      "tensor(0.2815, device='cuda:0', grad_fn=<NllLossBackward0>)\n",
      "tensor(0.4128, device='cuda:0', grad_fn=<NllLossBackward0>)\n",
      "tensor(0.3610, device='cuda:0', grad_fn=<NllLossBackward0>)\n",
      "tensor(0.4081, device='cuda:0', grad_fn=<NllLossBackward0>)\n",
      "tensor(0.2870, device='cuda:0', grad_fn=<NllLossBackward0>)\n",
      "tensor(0.4190, device='cuda:0', grad_fn=<NllLossBackward0>)\n",
      "tensor(0.2833, device='cuda:0', grad_fn=<NllLossBackward0>)\n",
      "tensor(0.3285, device='cuda:0', grad_fn=<NllLossBackward0>)\n",
      "tensor(0.1984, device='cuda:0', grad_fn=<NllLossBackward0>)\n",
      "tensor(0.4164, device='cuda:0', grad_fn=<NllLossBackward0>)\n",
      "tensor(0.3616, device='cuda:0', grad_fn=<NllLossBackward0>)\n",
      "tensor(0.4079, device='cuda:0', grad_fn=<NllLossBackward0>)\n",
      "tensor(0.4508, device='cuda:0', grad_fn=<NllLossBackward0>)\n",
      "tensor(0.4037, device='cuda:0', grad_fn=<NllLossBackward0>)\n",
      "tensor(0.3273, device='cuda:0', grad_fn=<NllLossBackward0>)\n",
      "tensor(0.4011, device='cuda:0', grad_fn=<NllLossBackward0>)\n",
      "tensor(0.2821, device='cuda:0', grad_fn=<NllLossBackward0>)\n",
      "tensor(0.3689, device='cuda:0', grad_fn=<NllLossBackward0>)\n",
      "tensor(0.3650, device='cuda:0', grad_fn=<NllLossBackward0>)\n",
      "tensor(0.1992, device='cuda:0', grad_fn=<NllLossBackward0>)\n",
      "tensor(0.3778, device='cuda:0', grad_fn=<NllLossBackward0>)\n",
      "tensor(0.4049, device='cuda:0', grad_fn=<NllLossBackward0>)\n",
      "tensor(0.4028, device='cuda:0', grad_fn=<NllLossBackward0>)\n",
      "tensor(0.3265, device='cuda:0', grad_fn=<NllLossBackward0>)\n",
      "tensor(0.3697, device='cuda:0', grad_fn=<NllLossBackward0>)\n",
      "tensor(0.2713, device='cuda:0', grad_fn=<NllLossBackward0>)\n",
      "tensor(0.2047, device='cuda:0', grad_fn=<NllLossBackward0>)\n",
      "tensor(0.3630, device='cuda:0', grad_fn=<NllLossBackward0>)\n",
      "tensor(0.3276, device='cuda:0', grad_fn=<NllLossBackward0>)\n",
      "tensor(0.5384, device='cuda:0', grad_fn=<NllLossBackward0>)\n",
      "tensor(0.2853, device='cuda:0', grad_fn=<NllLossBackward0>)\n",
      "tensor(0.3700, device='cuda:0', grad_fn=<NllLossBackward0>)\n",
      "tensor(0.2291, device='cuda:0', grad_fn=<NllLossBackward0>)\n",
      "tensor(0.2375, device='cuda:0', grad_fn=<NllLossBackward0>)\n",
      "tensor(0.2884, device='cuda:0', grad_fn=<NllLossBackward0>)\n",
      "tensor(0.2028, device='cuda:0', grad_fn=<NllLossBackward0>)\n",
      "tensor(0.2873, device='cuda:0', grad_fn=<NllLossBackward0>)\n",
      "tensor(0.2738, device='cuda:0', grad_fn=<NllLossBackward0>)\n",
      "tensor(0.3710, device='cuda:0', grad_fn=<NllLossBackward0>)\n",
      "tensor(0.4458, device='cuda:0', grad_fn=<NllLossBackward0>)\n",
      "tensor(0.3240, device='cuda:0', grad_fn=<NllLossBackward0>)\n",
      "tensor(0.5522, device='cuda:0', grad_fn=<NllLossBackward0>)\n",
      "tensor(0.3699, device='cuda:0', grad_fn=<NllLossBackward0>)\n",
      "tensor(0.2123, device='cuda:0', grad_fn=<NllLossBackward0>)\n",
      "tensor(0.4715, device='cuda:0', grad_fn=<NllLossBackward0>)\n",
      "tensor(0.4113, device='cuda:0', grad_fn=<NllLossBackward0>)\n",
      "tensor(0.3368, device='cuda:0', grad_fn=<NllLossBackward0>)\n",
      "tensor(0.4616, device='cuda:0', grad_fn=<NllLossBackward0>)\n",
      "tensor(0.4079, device='cuda:0', grad_fn=<NllLossBackward0>)\n",
      "tensor(0.2884, device='cuda:0', grad_fn=<NllLossBackward0>)\n",
      "tensor(0.3682, device='cuda:0', grad_fn=<NllLossBackward0>)\n",
      "tensor(0.3768, device='cuda:0', grad_fn=<NllLossBackward0>)\n",
      "tensor(0.3217, device='cuda:0', grad_fn=<NllLossBackward0>)\n",
      "tensor(0.4444, device='cuda:0', grad_fn=<NllLossBackward0>)\n",
      "tensor(0.3232, device='cuda:0', grad_fn=<NllLossBackward0>)\n",
      "tensor(0.1890, device='cuda:0', grad_fn=<NllLossBackward0>)\n",
      "tensor(0.2823, device='cuda:0', grad_fn=<NllLossBackward0>)\n",
      "tensor(0.2874, device='cuda:0', grad_fn=<NllLossBackward0>)\n",
      "tensor(0.1371, device='cuda:0', grad_fn=<NllLossBackward0>)\n",
      "tensor(0.2852, device='cuda:0', grad_fn=<NllLossBackward0>)\n",
      "tensor(0.2830, device='cuda:0', grad_fn=<NllLossBackward0>)\n",
      "tensor(0.4720, device='cuda:0', grad_fn=<NllLossBackward0>)\n",
      "tensor(0.3210, device='cuda:0', grad_fn=<NllLossBackward0>)\n",
      "tensor(0.2104, device='cuda:0', grad_fn=<NllLossBackward0>)\n",
      "tensor(0.5523, device='cuda:0', grad_fn=<NllLossBackward0>)\n",
      "tensor(0.2423, device='cuda:0', grad_fn=<NllLossBackward0>)\n",
      "tensor(0.3230, device='cuda:0', grad_fn=<NllLossBackward0>)\n",
      "tensor(0.2880, device='cuda:0', grad_fn=<NllLossBackward0>)\n",
      "tensor(0.3218, device='cuda:0', grad_fn=<NllLossBackward0>)\n",
      "tensor(0.2393, device='cuda:0', grad_fn=<NllLossBackward0>)\n",
      "tensor(0.3745, device='cuda:0', grad_fn=<NllLossBackward0>)\n",
      "tensor(0.2336, device='cuda:0', grad_fn=<NllLossBackward0>)\n",
      "tensor(0.2831, device='cuda:0', grad_fn=<NllLossBackward0>)\n",
      "tensor(0.4480, device='cuda:0', grad_fn=<NllLossBackward0>)\n",
      "tensor(0.4082, device='cuda:0', grad_fn=<NllLossBackward0>)\n",
      "tensor(0.2861, device='cuda:0', grad_fn=<NllLossBackward0>)\n",
      "tensor(0.4509, device='cuda:0', grad_fn=<NllLossBackward0>)\n",
      "tensor(0.4119, device='cuda:0', grad_fn=<NllLossBackward0>)\n",
      "tensor(0.3721, device='cuda:0', grad_fn=<NllLossBackward0>)\n",
      "tensor(0.3226, device='cuda:0', grad_fn=<NllLossBackward0>)\n",
      "tensor(0.2851, device='cuda:0', grad_fn=<NllLossBackward0>)\n",
      "tensor(0.2775, device='cuda:0', grad_fn=<NllLossBackward0>)\n",
      "tensor(0.3728, device='cuda:0', grad_fn=<NllLossBackward0>)\n",
      "tensor(0.2123, device='cuda:0', grad_fn=<NllLossBackward0>)\n",
      "tensor(0.3611, device='cuda:0', grad_fn=<NllLossBackward0>)\n",
      "tensor(0.2809, device='cuda:0', grad_fn=<NllLossBackward0>)\n",
      "tensor(0.3210, device='cuda:0', grad_fn=<NllLossBackward0>)\n",
      "tensor(0.2433, device='cuda:0', grad_fn=<NllLossBackward0>)\n",
      "tensor(0.3651, device='cuda:0', grad_fn=<NllLossBackward0>)\n",
      "tensor(0.5020, device='cuda:0', grad_fn=<NllLossBackward0>)\n",
      "tensor(0.2928, device='cuda:0', grad_fn=<NllLossBackward0>)\n",
      "tensor(0.4481, device='cuda:0', grad_fn=<NllLossBackward0>)\n",
      "tensor(0.3730, device='cuda:0', grad_fn=<NllLossBackward0>)\n",
      "tensor(0.6063, device='cuda:0', grad_fn=<NllLossBackward0>)\n",
      "tensor(0.3671, device='cuda:0', grad_fn=<NllLossBackward0>)\n",
      "tensor(0.4105, device='cuda:0', grad_fn=<NllLossBackward0>)\n",
      "tensor(0.4866, device='cuda:0', grad_fn=<NllLossBackward0>)\n",
      "tensor(0.3698, device='cuda:0', grad_fn=<NllLossBackward0>)\n",
      "tensor(0.4045, device='cuda:0', grad_fn=<NllLossBackward0>)\n",
      "tensor(0.4200, device='cuda:0', grad_fn=<NllLossBackward0>)\n",
      "tensor(0.4029, device='cuda:0', grad_fn=<NllLossBackward0>)\n",
      "tensor(0.3235, device='cuda:0', grad_fn=<NllLossBackward0>)\n",
      "tensor(0.2896, device='cuda:0', grad_fn=<NllLossBackward0>)\n",
      "tensor(0.5040, device='cuda:0', grad_fn=<NllLossBackward0>)\n",
      "tensor(0.4456, device='cuda:0', grad_fn=<NllLossBackward0>)\n",
      "tensor(0.2009, device='cuda:0', grad_fn=<NllLossBackward0>)\n",
      "tensor(0.4557, device='cuda:0', grad_fn=<NllLossBackward0>)\n",
      "tensor(0.1985, device='cuda:0', grad_fn=<NllLossBackward0>)\n",
      "tensor(0.3295, device='cuda:0', grad_fn=<NllLossBackward0>)\n",
      "tensor(0.2338, device='cuda:0', grad_fn=<NllLossBackward0>)\n",
      "tensor(0.2742, device='cuda:0', grad_fn=<NllLossBackward0>)\n",
      "tensor(0.4568, device='cuda:0', grad_fn=<NllLossBackward0>)\n",
      "tensor(0.4058, device='cuda:0', grad_fn=<NllLossBackward0>)\n",
      "tensor(0.2539, device='cuda:0', grad_fn=<NllLossBackward0>)\n",
      "tensor(0.3754, device='cuda:0', grad_fn=<NllLossBackward0>)\n",
      "tensor(0.2764, device='cuda:0', grad_fn=<NllLossBackward0>)\n",
      "tensor(0.2875, device='cuda:0', grad_fn=<NllLossBackward0>)\n",
      "tensor(0.5420, device='cuda:0', grad_fn=<NllLossBackward0>)\n",
      "tensor(0.4776, device='cuda:0', grad_fn=<NllLossBackward0>)\n",
      "tensor(0.4675, device='cuda:0', grad_fn=<NllLossBackward0>)\n",
      "tensor(0.5256, device='cuda:0', grad_fn=<NllLossBackward0>)\n",
      "tensor(0.2041, device='cuda:0', grad_fn=<NllLossBackward0>)\n",
      "tensor(0.3242, device='cuda:0', grad_fn=<NllLossBackward0>)\n",
      "tensor(0.4065, device='cuda:0', grad_fn=<NllLossBackward0>)\n",
      "tensor(0.4372, device='cuda:0', grad_fn=<NllLossBackward0>)\n",
      "tensor(0.4433, device='cuda:0', grad_fn=<NllLossBackward0>)\n",
      "tensor(0.2864, device='cuda:0', grad_fn=<NllLossBackward0>)\n",
      "tensor(0.2360, device='cuda:0', grad_fn=<NllLossBackward0>)\n",
      "tensor(0.4422, device='cuda:0', grad_fn=<NllLossBackward0>)\n",
      "tensor(0.4062, device='cuda:0', grad_fn=<NllLossBackward0>)\n",
      "tensor(0.2453, device='cuda:0', grad_fn=<NllLossBackward0>)\n",
      "tensor(0.3669, device='cuda:0', grad_fn=<NllLossBackward0>)\n",
      "tensor(0.2834, device='cuda:0', grad_fn=<NllLossBackward0>)\n",
      "tensor(0.1892, device='cuda:0', grad_fn=<NllLossBackward0>)\n",
      "tensor(0.3262, device='cuda:0', grad_fn=<NllLossBackward0>)\n",
      "tensor(0.1567, device='cuda:0', grad_fn=<NllLossBackward0>)\n",
      "tensor(0.3685, device='cuda:0', grad_fn=<NllLossBackward0>)\n",
      "tensor(0.2281, device='cuda:0', grad_fn=<NllLossBackward0>)\n",
      "tensor(0.1493, device='cuda:0', grad_fn=<NllLossBackward0>)\n",
      "tensor(0.1851, device='cuda:0', grad_fn=<NllLossBackward0>)\n",
      "tensor(0.3709, device='cuda:0', grad_fn=<NllLossBackward0>)\n",
      "tensor(0.3694, device='cuda:0', grad_fn=<NllLossBackward0>)\n",
      "tensor(0.3321, device='cuda:0', grad_fn=<NllLossBackward0>)\n",
      "tensor(0.2603, device='cuda:0', grad_fn=<NllLossBackward0>)\n",
      "tensor(0.3238, device='cuda:0', grad_fn=<NllLossBackward0>)\n",
      "tensor(0.1768, device='cuda:0', grad_fn=<NllLossBackward0>)\n",
      "tensor(0.4085, device='cuda:0', grad_fn=<NllLossBackward0>)\n",
      "tensor(0.4033, device='cuda:0', grad_fn=<NllLossBackward0>)\n",
      "tensor(0.2408, device='cuda:0', grad_fn=<NllLossBackward0>)\n",
      "tensor(0.3280, device='cuda:0', grad_fn=<NllLossBackward0>)\n",
      "tensor(0.3655, device='cuda:0', grad_fn=<NllLossBackward0>)\n",
      "tensor(0.4095, device='cuda:0', grad_fn=<NllLossBackward0>)\n",
      "tensor(0.3286, device='cuda:0', grad_fn=<NllLossBackward0>)\n",
      "tensor(0.3235, device='cuda:0', grad_fn=<NllLossBackward0>)\n",
      "tensor(0.2910, device='cuda:0', grad_fn=<NllLossBackward0>)\n",
      "tensor(0.3636, device='cuda:0', grad_fn=<NllLossBackward0>)\n",
      "tensor(0.3258, device='cuda:0', grad_fn=<NllLossBackward0>)\n",
      "tensor(0.3661, device='cuda:0', grad_fn=<NllLossBackward0>)\n",
      "tensor(0.2322, device='cuda:0', grad_fn=<NllLossBackward0>)\n",
      "tensor(0.1934, device='cuda:0', grad_fn=<NllLossBackward0>)\n",
      "tensor(0.3237, device='cuda:0', grad_fn=<NllLossBackward0>)\n",
      "tensor(0.2285, device='cuda:0', grad_fn=<NllLossBackward0>)\n",
      "tensor(0.1460, device='cuda:0', grad_fn=<NllLossBackward0>)\n",
      "tensor(0.5095, device='cuda:0', grad_fn=<NllLossBackward0>)\n",
      "tensor(0.3685, device='cuda:0', grad_fn=<NllLossBackward0>)\n",
      "tensor(0.1533, device='cuda:0', grad_fn=<NllLossBackward0>)\n",
      "tensor(0.4222, device='cuda:0', grad_fn=<NllLossBackward0>)\n",
      "tensor(0.2487, device='cuda:0', grad_fn=<NllLossBackward0>)\n",
      "tensor(0.3250, device='cuda:0', grad_fn=<NllLossBackward0>)\n",
      "tensor(0.4293, device='cuda:0', grad_fn=<NllLossBackward0>)\n",
      "tensor(0.2858, device='cuda:0', grad_fn=<NllLossBackward0>)\n",
      "tensor(0.3263, device='cuda:0', grad_fn=<NllLossBackward0>)\n",
      "tensor(0.3221, device='cuda:0', grad_fn=<NllLossBackward0>)\n",
      "tensor(0.3727, device='cuda:0', grad_fn=<NllLossBackward0>)\n",
      "tensor(0.1892, device='cuda:0', grad_fn=<NllLossBackward0>)\n",
      "tensor(0.4135, device='cuda:0', grad_fn=<NllLossBackward0>)\n",
      "tensor(0.2877, device='cuda:0', grad_fn=<NllLossBackward0>)\n",
      "tensor(0.3276, device='cuda:0', grad_fn=<NllLossBackward0>)\n",
      "tensor(0.3682, device='cuda:0', grad_fn=<NllLossBackward0>)\n",
      "tensor(0.3626, device='cuda:0', grad_fn=<NllLossBackward0>)\n",
      "tensor(0.2932, device='cuda:0', grad_fn=<NllLossBackward0>)\n",
      "tensor(0.4087, device='cuda:0', grad_fn=<NllLossBackward0>)\n",
      "tensor(0.3705, device='cuda:0', grad_fn=<NllLossBackward0>)\n",
      "tensor(0.6630, device='cuda:0', grad_fn=<NllLossBackward0>)\n",
      "tensor(0.2237, device='cuda:0', grad_fn=<NllLossBackward0>)\n",
      "tensor(0.3657, device='cuda:0', grad_fn=<NllLossBackward0>)\n",
      "tensor(0.5048, device='cuda:0', grad_fn=<NllLossBackward0>)\n",
      "tensor(0.4902, device='cuda:0', grad_fn=<NllLossBackward0>)\n",
      "tensor(0.5209, device='cuda:0', grad_fn=<NllLossBackward0>)\n",
      "tensor(0.3679, device='cuda:0', grad_fn=<NllLossBackward0>)\n",
      "tensor(0.1856, device='cuda:0', grad_fn=<NllLossBackward0>)\n",
      "tensor(0.1828, device='cuda:0', grad_fn=<NllLossBackward0>)\n",
      "tensor(0.2387, device='cuda:0', grad_fn=<NllLossBackward0>)\n",
      "tensor(0.2909, device='cuda:0', grad_fn=<NllLossBackward0>)\n",
      "tensor(0.3253, device='cuda:0', grad_fn=<NllLossBackward0>)\n",
      "tensor(0.4021, device='cuda:0', grad_fn=<NllLossBackward0>)\n",
      "tensor(0.3198, device='cuda:0', grad_fn=<NllLossBackward0>)\n",
      "tensor(0.3641, device='cuda:0', grad_fn=<NllLossBackward0>)\n",
      "tensor(0.2021, device='cuda:0', grad_fn=<NllLossBackward0>)\n",
      "tensor(0.2452, device='cuda:0', grad_fn=<NllLossBackward0>)\n",
      "tensor(0.3665, device='cuda:0', grad_fn=<NllLossBackward0>)\n",
      "tensor(0.2426, device='cuda:0', grad_fn=<NllLossBackward0>)\n",
      "tensor(0.2933, device='cuda:0', grad_fn=<NllLossBackward0>)\n",
      "tensor(0.2493, device='cuda:0', grad_fn=<NllLossBackward0>)\n",
      "tensor(0.2791, device='cuda:0', grad_fn=<NllLossBackward0>)\n",
      "tensor(0.1983, device='cuda:0', grad_fn=<NllLossBackward0>)\n",
      "tensor(0.2834, device='cuda:0', grad_fn=<NllLossBackward0>)\n",
      "tensor(0.2310, device='cuda:0', grad_fn=<NllLossBackward0>)\n",
      "tensor(0.1738, device='cuda:0', grad_fn=<NllLossBackward0>)\n",
      "tensor(0.5417, device='cuda:0', grad_fn=<NllLossBackward0>)\n",
      "tensor(0.3347, device='cuda:0', grad_fn=<NllLossBackward0>)\n",
      "tensor(0.3684, device='cuda:0', grad_fn=<NllLossBackward0>)\n",
      "tensor(0.4169, device='cuda:0', grad_fn=<NllLossBackward0>)\n",
      "tensor(0.2105, device='cuda:0', grad_fn=<NllLossBackward0>)\n",
      "tensor(0.3233, device='cuda:0', grad_fn=<NllLossBackward0>)\n",
      "tensor(0.2842, device='cuda:0', grad_fn=<NllLossBackward0>)\n",
      "tensor(0.4217, device='cuda:0', grad_fn=<NllLossBackward0>)\n",
      "tensor(0.2317, device='cuda:0', grad_fn=<NllLossBackward0>)\n",
      "tensor(0.4063, device='cuda:0', grad_fn=<NllLossBackward0>)\n",
      "tensor(0.3708, device='cuda:0', grad_fn=<NllLossBackward0>)\n",
      "tensor(0.5318, device='cuda:0', grad_fn=<NllLossBackward0>)\n",
      "tensor(0.2945, device='cuda:0', grad_fn=<NllLossBackward0>)\n",
      "tensor(0.3671, device='cuda:0', grad_fn=<NllLossBackward0>)\n",
      "tensor(0.4050, device='cuda:0', grad_fn=<NllLossBackward0>)\n",
      "tensor(0.3010, device='cuda:0', grad_fn=<NllLossBackward0>)\n",
      "tensor(0.3129, device='cuda:0', grad_fn=<NllLossBackward0>)\n",
      "tensor(0.1767, device='cuda:0', grad_fn=<NllLossBackward0>)\n",
      "tensor(0.1332, device='cuda:0', grad_fn=<NllLossBackward0>)\n",
      "tensor(0.3252, device='cuda:0', grad_fn=<NllLossBackward0>)\n",
      "tensor(0.3217, device='cuda:0', grad_fn=<NllLossBackward0>)\n",
      "tensor(0.4654, device='cuda:0', grad_fn=<NllLossBackward0>)\n",
      "tensor(0.2823, device='cuda:0', grad_fn=<NllLossBackward0>)\n",
      "tensor(0.1352, device='cuda:0', grad_fn=<NllLossBackward0>)\n",
      "tensor(0.4106, device='cuda:0', grad_fn=<NllLossBackward0>)\n",
      "tensor(0.2430, device='cuda:0', grad_fn=<NllLossBackward0>)\n",
      "tensor(0.3244, device='cuda:0', grad_fn=<NllLossBackward0>)\n",
      "tensor(0.4953, device='cuda:0', grad_fn=<NllLossBackward0>)\n",
      "tensor(0.2401, device='cuda:0', grad_fn=<NllLossBackward0>)\n",
      "tensor(0.2739, device='cuda:0', grad_fn=<NllLossBackward0>)\n",
      "tensor(0.1279, device='cuda:0', grad_fn=<NllLossBackward0>)\n",
      "tensor(0.4201, device='cuda:0', grad_fn=<NllLossBackward0>)\n",
      "tensor(0.4062, device='cuda:0', grad_fn=<NllLossBackward0>)\n",
      "tensor(0.2939, device='cuda:0', grad_fn=<NllLossBackward0>)\n",
      "tensor(0.3691, device='cuda:0', grad_fn=<NllLossBackward0>)\n",
      "tensor(0.2090, device='cuda:0', grad_fn=<NllLossBackward0>)\n",
      "tensor(0.2088, device='cuda:0', grad_fn=<NllLossBackward0>)\n",
      "tensor(0.3640, device='cuda:0', grad_fn=<NllLossBackward0>)\n",
      "tensor(0.3666, device='cuda:0', grad_fn=<NllLossBackward0>)\n",
      "tensor(0.2805, device='cuda:0', grad_fn=<NllLossBackward0>)\n",
      "tensor(0.2363, device='cuda:0', grad_fn=<NllLossBackward0>)\n",
      "tensor(0.3647, device='cuda:0', grad_fn=<NllLossBackward0>)\n",
      "tensor(0.1603, device='cuda:0', grad_fn=<NllLossBackward0>)\n",
      "tensor(0.2326, device='cuda:0', grad_fn=<NllLossBackward0>)\n",
      "tensor(0.5534, device='cuda:0', grad_fn=<NllLossBackward0>)\n",
      "tensor(0.2562, device='cuda:0', grad_fn=<NllLossBackward0>)\n",
      "tensor(0.1834, device='cuda:0', grad_fn=<NllLossBackward0>)\n",
      "tensor(0.3257, device='cuda:0', grad_fn=<NllLossBackward0>)\n",
      "tensor(0.2806, device='cuda:0', grad_fn=<NllLossBackward0>)\n",
      "tensor(0.2788, device='cuda:0', grad_fn=<NllLossBackward0>)\n",
      "tensor(0.3699, device='cuda:0', grad_fn=<NllLossBackward0>)\n",
      "tensor(0.4045, device='cuda:0', grad_fn=<NllLossBackward0>)\n",
      "tensor(0.2852, device='cuda:0', grad_fn=<NllLossBackward0>)\n",
      "tensor(0.3247, device='cuda:0', grad_fn=<NllLossBackward0>)\n",
      "tensor(0.2402, device='cuda:0', grad_fn=<NllLossBackward0>)\n",
      "tensor(0.2871, device='cuda:0', grad_fn=<NllLossBackward0>)\n",
      "tensor(0.3667, device='cuda:0', grad_fn=<NllLossBackward0>)\n",
      "tensor(0.3245, device='cuda:0', grad_fn=<NllLossBackward0>)\n",
      "tensor(0.3229, device='cuda:0', grad_fn=<NllLossBackward0>)\n",
      "tensor(0.1949, device='cuda:0', grad_fn=<NllLossBackward0>)\n",
      "tensor(0.2773, device='cuda:0', grad_fn=<NllLossBackward0>)\n",
      "tensor(0.4062, device='cuda:0', grad_fn=<NllLossBackward0>)\n",
      "tensor(0.3671, device='cuda:0', grad_fn=<NllLossBackward0>)\n",
      "tensor(0.3592, device='cuda:0', grad_fn=<NllLossBackward0>)\n",
      "tensor(0.3248, device='cuda:0', grad_fn=<NllLossBackward0>)\n",
      "tensor(0.3652, device='cuda:0', grad_fn=<NllLossBackward0>)\n",
      "tensor(0.2864, device='cuda:0', grad_fn=<NllLossBackward0>)\n",
      "tensor(0.2779, device='cuda:0', grad_fn=<NllLossBackward0>)\n",
      "tensor(0.3703, device='cuda:0', grad_fn=<NllLossBackward0>)\n",
      "tensor(0.2754, device='cuda:0', grad_fn=<NllLossBackward0>)\n",
      "tensor(0.2351, device='cuda:0', grad_fn=<NllLossBackward0>)\n",
      "tensor(0.3680, device='cuda:0', grad_fn=<NllLossBackward0>)\n",
      "tensor(0.2387, device='cuda:0', grad_fn=<NllLossBackward0>)\n",
      "tensor(0.3272, device='cuda:0', grad_fn=<NllLossBackward0>)\n",
      "tensor(0.2867, device='cuda:0', grad_fn=<NllLossBackward0>)\n",
      "tensor(0.3987, device='cuda:0', grad_fn=<NllLossBackward0>)\n",
      "tensor(0.1704, device='cuda:0', grad_fn=<NllLossBackward0>)\n",
      "tensor(0.5024, device='cuda:0', grad_fn=<NllLossBackward0>)\n",
      "tensor(0.2835, device='cuda:0', grad_fn=<NllLossBackward0>)\n",
      "tensor(0.5011, device='cuda:0', grad_fn=<NllLossBackward0>)\n",
      "tensor(0.2788, device='cuda:0', grad_fn=<NllLossBackward0>)\n",
      "tensor(0.4136, device='cuda:0', grad_fn=<NllLossBackward0>)\n",
      "tensor(0.2395, device='cuda:0', grad_fn=<NllLossBackward0>)\n",
      "tensor(0.3726, device='cuda:0', grad_fn=<NllLossBackward0>)\n",
      "tensor(0.4132, device='cuda:0', grad_fn=<NllLossBackward0>)\n",
      "tensor(0.4045, device='cuda:0', grad_fn=<NllLossBackward0>)\n",
      "tensor(0.3217, device='cuda:0', grad_fn=<NllLossBackward0>)\n",
      "tensor(0.2409, device='cuda:0', grad_fn=<NllLossBackward0>)\n",
      "tensor(0.3660, device='cuda:0', grad_fn=<NllLossBackward0>)\n",
      "tensor(0.3225, device='cuda:0', grad_fn=<NllLossBackward0>)\n",
      "tensor(0.4531, device='cuda:0', grad_fn=<NllLossBackward0>)\n",
      "tensor(0.4110, device='cuda:0', grad_fn=<NllLossBackward0>)\n",
      "tensor(0.2828, device='cuda:0', grad_fn=<NllLossBackward0>)\n",
      "tensor(0.2836, device='cuda:0', grad_fn=<NllLossBackward0>)\n",
      "tensor(0.3622, device='cuda:0', grad_fn=<NllLossBackward0>)\n",
      "tensor(0.4154, device='cuda:0', grad_fn=<NllLossBackward0>)\n",
      "tensor(0.3677, device='cuda:0', grad_fn=<NllLossBackward0>)\n",
      "tensor(0.4043, device='cuda:0', grad_fn=<NllLossBackward0>)\n",
      "tensor(0.3606, device='cuda:0', grad_fn=<NllLossBackward0>)\n",
      "tensor(0.4980, device='cuda:0', grad_fn=<NllLossBackward0>)\n",
      "tensor(0.2887, device='cuda:0', grad_fn=<NllLossBackward0>)\n",
      "tensor(0.3650, device='cuda:0', grad_fn=<NllLossBackward0>)\n",
      "tensor(0.4139, device='cuda:0', grad_fn=<NllLossBackward0>)\n",
      "tensor(0.4922, device='cuda:0', grad_fn=<NllLossBackward0>)\n",
      "tensor(0.2840, device='cuda:0', grad_fn=<NllLossBackward0>)\n",
      "tensor(0.3228, device='cuda:0', grad_fn=<NllLossBackward0>)\n",
      "tensor(0.4445, device='cuda:0', grad_fn=<NllLossBackward0>)\n",
      "tensor(0.3239, device='cuda:0', grad_fn=<NllLossBackward0>)\n",
      "tensor(0.4147, device='cuda:0', grad_fn=<NllLossBackward0>)\n",
      "tensor(0.4362, device='cuda:0', grad_fn=<NllLossBackward0>)\n",
      "tensor(0.2920, device='cuda:0', grad_fn=<NllLossBackward0>)\n",
      "tensor(0.1932, device='cuda:0', grad_fn=<NllLossBackward0>)\n",
      "tensor(0.4594, device='cuda:0', grad_fn=<NllLossBackward0>)\n",
      "tensor(0.3614, device='cuda:0', grad_fn=<NllLossBackward0>)\n",
      "tensor(0.2447, device='cuda:0', grad_fn=<NllLossBackward0>)\n",
      "tensor(0.1525, device='cuda:0', grad_fn=<NllLossBackward0>)\n",
      "tensor(0.4201, device='cuda:0', grad_fn=<NllLossBackward0>)\n",
      "tensor(0.2836, device='cuda:0', grad_fn=<NllLossBackward0>)\n",
      "tensor(0.2410, device='cuda:0', grad_fn=<NllLossBackward0>)\n",
      "tensor(0.3811, device='cuda:0', grad_fn=<NllLossBackward0>)\n",
      "tensor(0.3677, device='cuda:0', grad_fn=<NllLossBackward0>)\n",
      "tensor(0.2938, device='cuda:0', grad_fn=<NllLossBackward0>)\n",
      "tensor(0.4459, device='cuda:0', grad_fn=<NllLossBackward0>)\n",
      "tensor(0.2749, device='cuda:0', grad_fn=<NllLossBackward0>)\n",
      "tensor(0.2747, device='cuda:0', grad_fn=<NllLossBackward0>)\n",
      "tensor(0.3662, device='cuda:0', grad_fn=<NllLossBackward0>)\n",
      "tensor(0.4074, device='cuda:0', grad_fn=<NllLossBackward0>)\n",
      "tensor(0.3232, device='cuda:0', grad_fn=<NllLossBackward0>)\n",
      "tensor(0.2814, device='cuda:0', grad_fn=<NllLossBackward0>)\n",
      "tensor(0.2752, device='cuda:0', grad_fn=<NllLossBackward0>)\n",
      "tensor(0.1501, device='cuda:0', grad_fn=<NllLossBackward0>)\n",
      "tensor(0.3173, device='cuda:0', grad_fn=<NllLossBackward0>)\n",
      "tensor(0.3936, device='cuda:0', grad_fn=<NllLossBackward0>)\n",
      "tensor(0.3258, device='cuda:0', grad_fn=<NllLossBackward0>)\n",
      "tensor(0.3277, device='cuda:0', grad_fn=<NllLossBackward0>)\n",
      "tensor(0.3215, device='cuda:0', grad_fn=<NllLossBackward0>)\n",
      "tensor(0.2747, device='cuda:0', grad_fn=<NllLossBackward0>)\n",
      "tensor(0.4200, device='cuda:0', grad_fn=<NllLossBackward0>)\n",
      "tensor(0.4811, device='cuda:0', grad_fn=<NllLossBackward0>)\n",
      "tensor(0.2455, device='cuda:0', grad_fn=<NllLossBackward0>)\n",
      "tensor(0.2769, device='cuda:0', grad_fn=<NllLossBackward0>)\n",
      "tensor(0.4559, device='cuda:0', grad_fn=<NllLossBackward0>)\n",
      "tensor(0.3653, device='cuda:0', grad_fn=<NllLossBackward0>)\n",
      "tensor(0.3652, device='cuda:0', grad_fn=<NllLossBackward0>)\n",
      "tensor(0.4109, device='cuda:0', grad_fn=<NllLossBackward0>)\n",
      "tensor(0.2836, device='cuda:0', grad_fn=<NllLossBackward0>)\n",
      "tensor(0.4050, device='cuda:0', grad_fn=<NllLossBackward0>)\n",
      "tensor(0.3270, device='cuda:0', grad_fn=<NllLossBackward0>)\n",
      "tensor(0.3634, device='cuda:0', grad_fn=<NllLossBackward0>)\n",
      "tensor(0.3188, device='cuda:0', grad_fn=<NllLossBackward0>)\n",
      "tensor(0.2759, device='cuda:0', grad_fn=<NllLossBackward0>)\n",
      "tensor(0.4910, device='cuda:0', grad_fn=<NllLossBackward0>)\n",
      "tensor(0.2019, device='cuda:0', grad_fn=<NllLossBackward0>)\n",
      "tensor(0.3750, device='cuda:0', grad_fn=<NllLossBackward0>)\n",
      "tensor(0.2830, device='cuda:0', grad_fn=<NllLossBackward0>)\n",
      "tensor(0.3228, device='cuda:0', grad_fn=<NllLossBackward0>)\n",
      "tensor(0.5376, device='cuda:0', grad_fn=<NllLossBackward0>)\n",
      "tensor(0.2080, device='cuda:0', grad_fn=<NllLossBackward0>)\n",
      "tensor(0.3675, device='cuda:0', grad_fn=<NllLossBackward0>)\n",
      "tensor(0.4650, device='cuda:0', grad_fn=<NllLossBackward0>)\n",
      "tensor(0.2797, device='cuda:0', grad_fn=<NllLossBackward0>)\n",
      "tensor(0.2816, device='cuda:0', grad_fn=<NllLossBackward0>)\n",
      "tensor(0.3773, device='cuda:0', grad_fn=<NllLossBackward0>)\n",
      "tensor(0.3721, device='cuda:0', grad_fn=<NllLossBackward0>)\n",
      "tensor(0.4894, device='cuda:0', grad_fn=<NllLossBackward0>)\n",
      "tensor(0.2830, device='cuda:0', grad_fn=<NllLossBackward0>)\n",
      "tensor(0.3251, device='cuda:0', grad_fn=<NllLossBackward0>)\n",
      "tensor(0.5908, device='cuda:0', grad_fn=<NllLossBackward0>)\n",
      "tensor(0.2919, device='cuda:0', grad_fn=<NllLossBackward0>)\n",
      "tensor(0.2317, device='cuda:0', grad_fn=<NllLossBackward0>)\n",
      "tensor(0.3202, device='cuda:0', grad_fn=<NllLossBackward0>)\n",
      "tensor(0.5251, device='cuda:0', grad_fn=<NllLossBackward0>)\n",
      "tensor(0.2046, device='cuda:0', grad_fn=<NllLossBackward0>)\n",
      "tensor(0.2766, device='cuda:0', grad_fn=<NllLossBackward0>)\n",
      "tensor(0.3224, device='cuda:0', grad_fn=<NllLossBackward0>)\n",
      "tensor(0.2833, device='cuda:0', grad_fn=<NllLossBackward0>)\n",
      "tensor(0.3277, device='cuda:0', grad_fn=<NllLossBackward0>)\n",
      "tensor(0.2464, device='cuda:0', grad_fn=<NllLossBackward0>)\n",
      "tensor(0.3230, device='cuda:0', grad_fn=<NllLossBackward0>)\n",
      "tensor(0.4042, device='cuda:0', grad_fn=<NllLossBackward0>)\n",
      "tensor(0.2372, device='cuda:0', grad_fn=<NllLossBackward0>)\n",
      "tensor(0.2374, device='cuda:0', grad_fn=<NllLossBackward0>)\n",
      "tensor(0.2842, device='cuda:0', grad_fn=<NllLossBackward0>)\n",
      "tensor(0.3306, device='cuda:0', grad_fn=<NllLossBackward0>)\n",
      "tensor(0.4305, device='cuda:0', grad_fn=<NllLossBackward0>)\n",
      "tensor(0.4765, device='cuda:0', grad_fn=<NllLossBackward0>)\n",
      "tensor(0.3272, device='cuda:0', grad_fn=<NllLossBackward0>)\n",
      "tensor(0.3202, device='cuda:0', grad_fn=<NllLossBackward0>)\n",
      "tensor(0.3256, device='cuda:0', grad_fn=<NllLossBackward0>)\n",
      "tensor(0.2775, device='cuda:0', grad_fn=<NllLossBackward0>)\n",
      "tensor(0.4084, device='cuda:0', grad_fn=<NllLossBackward0>)\n",
      "tensor(0.3299, device='cuda:0', grad_fn=<NllLossBackward0>)\n",
      "tensor(0.4771, device='cuda:0', grad_fn=<NllLossBackward0>)\n",
      "tensor(0.4873, device='cuda:0', grad_fn=<NllLossBackward0>)\n",
      "tensor(0.4039, device='cuda:0', grad_fn=<NllLossBackward0>)\n",
      "tensor(0.4058, device='cuda:0', grad_fn=<NllLossBackward0>)\n",
      "tensor(0.3676, device='cuda:0', grad_fn=<NllLossBackward0>)\n",
      "tensor(0.2724, device='cuda:0', grad_fn=<NllLossBackward0>)\n",
      "tensor(0.3250, device='cuda:0', grad_fn=<NllLossBackward0>)\n",
      "tensor(0.1807, device='cuda:0', grad_fn=<NllLossBackward0>)\n",
      "tensor(0.3254, device='cuda:0', grad_fn=<NllLossBackward0>)\n",
      "tensor(0.3221, device='cuda:0', grad_fn=<NllLossBackward0>)\n",
      "tensor(0.1717, device='cuda:0', grad_fn=<NllLossBackward0>)\n",
      "tensor(0.3633, device='cuda:0', grad_fn=<NllLossBackward0>)\n",
      "tensor(0.2788, device='cuda:0', grad_fn=<NllLossBackward0>)\n",
      "tensor(0.4949, device='cuda:0', grad_fn=<NllLossBackward0>)\n",
      "tensor(0.2454, device='cuda:0', grad_fn=<NllLossBackward0>)\n",
      "tensor(0.3243, device='cuda:0', grad_fn=<NllLossBackward0>)\n",
      "tensor(0.2955, device='cuda:0', grad_fn=<NllLossBackward0>)\n",
      "tensor(0.3288, device='cuda:0', grad_fn=<NllLossBackward0>)\n",
      "tensor(0.3671, device='cuda:0', grad_fn=<NllLossBackward0>)\n",
      "tensor(0.2808, device='cuda:0', grad_fn=<NllLossBackward0>)\n",
      "tensor(0.3689, device='cuda:0', grad_fn=<NllLossBackward0>)\n",
      "tensor(0.2320, device='cuda:0', grad_fn=<NllLossBackward0>)\n",
      "tensor(0.3580, device='cuda:0', grad_fn=<NllLossBackward0>)\n",
      "tensor(0.3213, device='cuda:0', grad_fn=<NllLossBackward0>)\n",
      "tensor(0.2358, device='cuda:0', grad_fn=<NllLossBackward0>)\n",
      "tensor(0.1466, device='cuda:0', grad_fn=<NllLossBackward0>)\n",
      "tensor(0.4140, device='cuda:0', grad_fn=<NllLossBackward0>)\n",
      "tensor(0.1845, device='cuda:0', grad_fn=<NllLossBackward0>)\n",
      "tensor(0.3639, device='cuda:0', grad_fn=<NllLossBackward0>)\n",
      "tensor(0.4036, device='cuda:0', grad_fn=<NllLossBackward0>)\n",
      "tensor(0.4519, device='cuda:0', grad_fn=<NllLossBackward0>)\n",
      "tensor(0.3604, device='cuda:0', grad_fn=<NllLossBackward0>)\n",
      "tensor(0.1512, device='cuda:0', grad_fn=<NllLossBackward0>)\n",
      "tensor(0.3213, device='cuda:0', grad_fn=<NllLossBackward0>)\n",
      "tensor(0.4060, device='cuda:0', grad_fn=<NllLossBackward0>)\n",
      "tensor(0.4043, device='cuda:0', grad_fn=<NllLossBackward0>)\n",
      "tensor(0.2445, device='cuda:0', grad_fn=<NllLossBackward0>)\n",
      "tensor(0.1906, device='cuda:0', grad_fn=<NllLossBackward0>)\n",
      "tensor(0.3218, device='cuda:0', grad_fn=<NllLossBackward0>)\n",
      "tensor(0.2832, device='cuda:0', grad_fn=<NllLossBackward0>)\n",
      "tensor(0.3213, device='cuda:0', grad_fn=<NllLossBackward0>)\n",
      "tensor(0.1666, device='cuda:0', grad_fn=<NllLossBackward0>)\n",
      "tensor(0.4633, device='cuda:0', grad_fn=<NllLossBackward0>)\n",
      "tensor(0.4052, device='cuda:0', grad_fn=<NllLossBackward0>)\n",
      "tensor(0.2078, device='cuda:0', grad_fn=<NllLossBackward0>)\n",
      "tensor(0.2836, device='cuda:0', grad_fn=<NllLossBackward0>)\n",
      "tensor(0.4469, device='cuda:0', grad_fn=<NllLossBackward0>)\n",
      "tensor(0.3179, device='cuda:0', grad_fn=<NllLossBackward0>)\n",
      "tensor(0.3246, device='cuda:0', grad_fn=<NllLossBackward0>)\n",
      "tensor(0.1903, device='cuda:0', grad_fn=<NllLossBackward0>)\n",
      "tensor(0.4062, device='cuda:0', grad_fn=<NllLossBackward0>)\n",
      "tensor(0.1274, device='cuda:0', grad_fn=<NllLossBackward0>)\n",
      "tensor(0.3214, device='cuda:0', grad_fn=<NllLossBackward0>)\n",
      "tensor(0.2833, device='cuda:0', grad_fn=<NllLossBackward0>)\n",
      "tensor(0.4069, device='cuda:0', grad_fn=<NllLossBackward0>)\n",
      "tensor(0.4465, device='cuda:0', grad_fn=<NllLossBackward0>)\n",
      "tensor(0.2499, device='cuda:0', grad_fn=<NllLossBackward0>)\n",
      "tensor(0.4131, device='cuda:0', grad_fn=<NllLossBackward0>)\n",
      "tensor(0.5059, device='cuda:0', grad_fn=<NllLossBackward0>)\n",
      "tensor(0.2417, device='cuda:0', grad_fn=<NllLossBackward0>)\n",
      "tensor(0.4075, device='cuda:0', grad_fn=<NllLossBackward0>)\n",
      "tensor(0.3666, device='cuda:0', grad_fn=<NllLossBackward0>)\n",
      "tensor(0.3309, device='cuda:0', grad_fn=<NllLossBackward0>)\n",
      "tensor(0.3636, device='cuda:0', grad_fn=<NllLossBackward0>)\n",
      "tensor(0.1511, device='cuda:0', grad_fn=<NllLossBackward0>)\n",
      "tensor(0.2808, device='cuda:0', grad_fn=<NllLossBackward0>)\n",
      "tensor(0.3254, device='cuda:0', grad_fn=<NllLossBackward0>)\n",
      "tensor(0.2791, device='cuda:0', grad_fn=<NllLossBackward0>)\n",
      "tensor(0.3238, device='cuda:0', grad_fn=<NllLossBackward0>)\n",
      "tensor(0.3209, device='cuda:0', grad_fn=<NllLossBackward0>)\n",
      "tensor(0.3220, device='cuda:0', grad_fn=<NllLossBackward0>)\n",
      "tensor(0.2375, device='cuda:0', grad_fn=<NllLossBackward0>)\n",
      "tensor(0.4086, device='cuda:0', grad_fn=<NllLossBackward0>)\n",
      "tensor(0.3169, device='cuda:0', grad_fn=<NllLossBackward0>)\n",
      "tensor(0.3614, device='cuda:0', grad_fn=<NllLossBackward0>)\n",
      "tensor(0.4507, device='cuda:0', grad_fn=<NllLossBackward0>)\n",
      "tensor(0.3670, device='cuda:0', grad_fn=<NllLossBackward0>)\n",
      "tensor(0.2796, device='cuda:0', grad_fn=<NllLossBackward0>)\n",
      "tensor(0.4044, device='cuda:0', grad_fn=<NllLossBackward0>)\n",
      "tensor(0.3659, device='cuda:0', grad_fn=<NllLossBackward0>)\n",
      "tensor(0.3328, device='cuda:0', grad_fn=<NllLossBackward0>)\n",
      "tensor(0.3673, device='cuda:0', grad_fn=<NllLossBackward0>)\n",
      "tensor(0.2388, device='cuda:0', grad_fn=<NllLossBackward0>)\n",
      "tensor(0.3652, device='cuda:0', grad_fn=<NllLossBackward0>)\n",
      "tensor(0.1903, device='cuda:0', grad_fn=<NllLossBackward0>)\n",
      "tensor(0.4124, device='cuda:0', grad_fn=<NllLossBackward0>)\n",
      "tensor(0.4044, device='cuda:0', grad_fn=<NllLossBackward0>)\n",
      "tensor(0.2469, device='cuda:0', grad_fn=<NllLossBackward0>)\n",
      "tensor(0.2423, device='cuda:0', grad_fn=<NllLossBackward0>)\n",
      "tensor(0.3667, device='cuda:0', grad_fn=<NllLossBackward0>)\n",
      "tensor(0.2890, device='cuda:0', grad_fn=<NllLossBackward0>)\n",
      "tensor(0.4069, device='cuda:0', grad_fn=<NllLossBackward0>)\n",
      "tensor(0.2408, device='cuda:0', grad_fn=<NllLossBackward0>)\n",
      "tensor(0.2815, device='cuda:0', grad_fn=<NllLossBackward0>)\n",
      "tensor(0.4099, device='cuda:0', grad_fn=<NllLossBackward0>)\n",
      "tensor(0.2854, device='cuda:0', grad_fn=<NllLossBackward0>)\n",
      "tensor(0.3263, device='cuda:0', grad_fn=<NllLossBackward0>)\n",
      "tensor(0.2782, device='cuda:0', grad_fn=<NllLossBackward0>)\n",
      "tensor(0.4193, device='cuda:0', grad_fn=<NllLossBackward0>)\n",
      "tensor(0.3680, device='cuda:0', grad_fn=<NllLossBackward0>)\n",
      "tensor(0.5236, device='cuda:0', grad_fn=<NllLossBackward0>)\n",
      "tensor(0.1934, device='cuda:0', grad_fn=<NllLossBackward0>)\n",
      "tensor(0.4206, device='cuda:0', grad_fn=<NllLossBackward0>)\n",
      "tensor(0.1963, device='cuda:0', grad_fn=<NllLossBackward0>)\n",
      "tensor(0.3653, device='cuda:0', grad_fn=<NllLossBackward0>)\n",
      "tensor(0.4925, device='cuda:0', grad_fn=<NllLossBackward0>)\n",
      "tensor(0.2871, device='cuda:0', grad_fn=<NllLossBackward0>)\n",
      "tensor(0.3444, device='cuda:0', grad_fn=<NllLossBackward0>)\n",
      "tensor(0.4052, device='cuda:0', grad_fn=<NllLossBackward0>)\n",
      "tensor(0.4979, device='cuda:0', grad_fn=<NllLossBackward0>)\n",
      "tensor(0.2413, device='cuda:0', grad_fn=<NllLossBackward0>)\n",
      "tensor(0.2842, device='cuda:0', grad_fn=<NllLossBackward0>)\n",
      "tensor(0.2749, device='cuda:0', grad_fn=<NllLossBackward0>)\n",
      "tensor(0.4688, device='cuda:0', grad_fn=<NllLossBackward0>)\n",
      "tensor(0.2502, device='cuda:0', grad_fn=<NllLossBackward0>)\n",
      "tensor(0.2355, device='cuda:0', grad_fn=<NllLossBackward0>)\n",
      "tensor(0.3697, device='cuda:0', grad_fn=<NllLossBackward0>)\n",
      "tensor(0.3215, device='cuda:0', grad_fn=<NllLossBackward0>)\n",
      "tensor(0.4787, device='cuda:0', grad_fn=<NllLossBackward0>)\n",
      "tensor(0.2830, device='cuda:0', grad_fn=<NllLossBackward0>)\n",
      "tensor(0.3374, device='cuda:0', grad_fn=<NllLossBackward0>)\n",
      "tensor(0.3172, device='cuda:0', grad_fn=<NllLossBackward0>)\n",
      "tensor(0.3231, device='cuda:0', grad_fn=<NllLossBackward0>)\n",
      "tensor(0.4474, device='cuda:0', grad_fn=<NllLossBackward0>)\n",
      "tensor(0.4041, device='cuda:0', grad_fn=<NllLossBackward0>)\n",
      "tensor(0.3347, device='cuda:0', grad_fn=<NllLossBackward0>)\n",
      "tensor(0.3223, device='cuda:0', grad_fn=<NllLossBackward0>)\n",
      "tensor(0.3228, device='cuda:0', grad_fn=<NllLossBackward0>)\n",
      "tensor(0.1854, device='cuda:0', grad_fn=<NllLossBackward0>)\n",
      "tensor(0.2245, device='cuda:0', grad_fn=<NllLossBackward0>)\n",
      "tensor(0.4429, device='cuda:0', grad_fn=<NllLossBackward0>)\n",
      "tensor(0.2475, device='cuda:0', grad_fn=<NllLossBackward0>)\n",
      "tensor(0.4540, device='cuda:0', grad_fn=<NllLossBackward0>)\n",
      "tensor(0.3226, device='cuda:0', grad_fn=<NllLossBackward0>)\n",
      "tensor(0.3205, device='cuda:0', grad_fn=<NllLossBackward0>)\n",
      "tensor(0.2848, device='cuda:0', grad_fn=<NllLossBackward0>)\n",
      "tensor(0.3701, device='cuda:0', grad_fn=<NllLossBackward0>)\n",
      "tensor(0.3629, device='cuda:0', grad_fn=<NllLossBackward0>)\n",
      "tensor(0.2292, device='cuda:0', grad_fn=<NllLossBackward0>)\n",
      "tensor(0.2772, device='cuda:0', grad_fn=<NllLossBackward0>)\n",
      "tensor(0.2391, device='cuda:0', grad_fn=<NllLossBackward0>)\n",
      "tensor(0.2815, device='cuda:0', grad_fn=<NllLossBackward0>)\n",
      "tensor(0.4159, device='cuda:0', grad_fn=<NllLossBackward0>)\n",
      "tensor(0.3256, device='cuda:0', grad_fn=<NllLossBackward0>)\n",
      "tensor(0.2864, device='cuda:0', grad_fn=<NllLossBackward0>)\n",
      "tensor(0.3705, device='cuda:0', grad_fn=<NllLossBackward0>)\n",
      "tensor(0.4208, device='cuda:0', grad_fn=<NllLossBackward0>)\n",
      "tensor(0.3231, device='cuda:0', grad_fn=<NllLossBackward0>)\n",
      "tensor(0.3614, device='cuda:0', grad_fn=<NllLossBackward0>)\n",
      "tensor(0.1440, device='cuda:0', grad_fn=<NllLossBackward0>)\n",
      "tensor(0.3632, device='cuda:0', grad_fn=<NllLossBackward0>)\n",
      "tensor(0.3225, device='cuda:0', grad_fn=<NllLossBackward0>)\n",
      "tensor(0.2820, device='cuda:0', grad_fn=<NllLossBackward0>)\n",
      "tensor(0.4079, device='cuda:0', grad_fn=<NllLossBackward0>)\n",
      "tensor(0.5005, device='cuda:0', grad_fn=<NllLossBackward0>)\n",
      "tensor(0.1702, device='cuda:0', grad_fn=<NllLossBackward0>)\n",
      "tensor(0.4082, device='cuda:0', grad_fn=<NllLossBackward0>)\n",
      "tensor(0.2413, device='cuda:0', grad_fn=<NllLossBackward0>)\n",
      "tensor(0.4362, device='cuda:0', grad_fn=<NllLossBackward0>)\n",
      "tensor(0.4063, device='cuda:0', grad_fn=<NllLossBackward0>)\n",
      "tensor(0.2434, device='cuda:0', grad_fn=<NllLossBackward0>)\n",
      "tensor(0.2778, device='cuda:0', grad_fn=<NllLossBackward0>)\n",
      "tensor(0.3625, device='cuda:0', grad_fn=<NllLossBackward0>)\n",
      "tensor(0.2073, device='cuda:0', grad_fn=<NllLossBackward0>)\n",
      "tensor(0.4561, device='cuda:0', grad_fn=<NllLossBackward0>)\n",
      "tensor(0.4113, device='cuda:0', grad_fn=<NllLossBackward0>)\n",
      "tensor(0.3272, device='cuda:0', grad_fn=<NllLossBackward0>)\n",
      "tensor(0.4543, device='cuda:0', grad_fn=<NllLossBackward0>)\n",
      "tensor(0.3670, device='cuda:0', grad_fn=<NllLossBackward0>)\n",
      "tensor(0.2393, device='cuda:0', grad_fn=<NllLossBackward0>)\n",
      "tensor(0.3674, device='cuda:0', grad_fn=<NllLossBackward0>)\n",
      "tensor(0.3636, device='cuda:0', grad_fn=<NllLossBackward0>)\n",
      "tensor(0.2489, device='cuda:0', grad_fn=<NllLossBackward0>)\n",
      "tensor(0.1460, device='cuda:0', grad_fn=<NllLossBackward0>)\n",
      "tensor(0.3271, device='cuda:0', grad_fn=<NllLossBackward0>)\n",
      "tensor(0.3652, device='cuda:0', grad_fn=<NllLossBackward0>)\n",
      "tensor(0.3659, device='cuda:0', grad_fn=<NllLossBackward0>)\n",
      "tensor(0.3237, device='cuda:0', grad_fn=<NllLossBackward0>)\n",
      "tensor(0.2447, device='cuda:0', grad_fn=<NllLossBackward0>)\n",
      "tensor(0.3250, device='cuda:0', grad_fn=<NllLossBackward0>)\n",
      "tensor(0.1952, device='cuda:0', grad_fn=<NllLossBackward0>)\n",
      "tensor(0.2820, device='cuda:0', grad_fn=<NllLossBackward0>)\n",
      "tensor(0.4042, device='cuda:0', grad_fn=<NllLossBackward0>)\n",
      "tensor(0.3654, device='cuda:0', grad_fn=<NllLossBackward0>)\n",
      "tensor(0.4142, device='cuda:0', grad_fn=<NllLossBackward0>)\n",
      "tensor(0.3626, device='cuda:0', grad_fn=<NllLossBackward0>)\n",
      "tensor(0.3261, device='cuda:0', grad_fn=<NllLossBackward0>)\n",
      "tensor(0.3687, device='cuda:0', grad_fn=<NllLossBackward0>)\n",
      "tensor(0.3252, device='cuda:0', grad_fn=<NllLossBackward0>)\n",
      "tensor(0.4096, device='cuda:0', grad_fn=<NllLossBackward0>)\n",
      "tensor(0.1145, device='cuda:0', grad_fn=<NllLossBackward0>)\n",
      "tensor(0.2341, device='cuda:0', grad_fn=<NllLossBackward0>)\n",
      "tensor(0.3101, device='cuda:0', grad_fn=<NllLossBackward0>)\n",
      "tensor(0.3264, device='cuda:0', grad_fn=<NllLossBackward0>)\n",
      "tensor(0.3602, device='cuda:0', grad_fn=<NllLossBackward0>)\n",
      "tensor(0.2308, device='cuda:0', grad_fn=<NllLossBackward0>)\n",
      "tensor(0.5035, device='cuda:0', grad_fn=<NllLossBackward0>)\n",
      "tensor(0.4111, device='cuda:0', grad_fn=<NllLossBackward0>)\n",
      "tensor(0.2812, device='cuda:0', grad_fn=<NllLossBackward0>)\n",
      "tensor(0.3672, device='cuda:0', grad_fn=<NllLossBackward0>)\n",
      "tensor(0.4020, device='cuda:0', grad_fn=<NllLossBackward0>)\n",
      "tensor(0.3646, device='cuda:0', grad_fn=<NllLossBackward0>)\n",
      "tensor(0.4172, device='cuda:0', grad_fn=<NllLossBackward0>)\n",
      "tensor(0.4020, device='cuda:0', grad_fn=<NllLossBackward0>)\n",
      "tensor(0.3751, device='cuda:0', grad_fn=<NllLossBackward0>)\n",
      "tensor(0.3656, device='cuda:0', grad_fn=<NllLossBackward0>)\n",
      "tensor(0.2535, device='cuda:0', grad_fn=<NllLossBackward0>)\n",
      "tensor(0.3715, device='cuda:0', grad_fn=<NllLossBackward0>)\n",
      "tensor(0.2398, device='cuda:0', grad_fn=<NllLossBackward0>)\n",
      "tensor(0.2451, device='cuda:0', grad_fn=<NllLossBackward0>)\n",
      "tensor(0.2353, device='cuda:0', grad_fn=<NllLossBackward0>)\n",
      "tensor(0.3225, device='cuda:0', grad_fn=<NllLossBackward0>)\n",
      "tensor(0.2867, device='cuda:0', grad_fn=<NllLossBackward0>)\n",
      "tensor(0.4422, device='cuda:0', grad_fn=<NllLossBackward0>)\n",
      "tensor(0.3633, device='cuda:0', grad_fn=<NllLossBackward0>)\n",
      "tensor(0.1611, device='cuda:0', grad_fn=<NllLossBackward0>)\n",
      "tensor(0.2833, device='cuda:0', grad_fn=<NllLossBackward0>)\n",
      "tensor(0.3839, device='cuda:0', grad_fn=<NllLossBackward0>)\n",
      "tensor(0.2357, device='cuda:0', grad_fn=<NllLossBackward0>)\n",
      "tensor(0.2124, device='cuda:0', grad_fn=<NllLossBackward0>)\n",
      "tensor(0.4464, device='cuda:0', grad_fn=<NllLossBackward0>)\n",
      "tensor(0.3238, device='cuda:0', grad_fn=<NllLossBackward0>)\n",
      "tensor(0.3263, device='cuda:0', grad_fn=<NllLossBackward0>)\n",
      "tensor(0.4107, device='cuda:0', grad_fn=<NllLossBackward0>)\n",
      "tensor(0.3251, device='cuda:0', grad_fn=<NllLossBackward0>)\n",
      "tensor(0.2840, device='cuda:0', grad_fn=<NllLossBackward0>)\n",
      "tensor(0.3219, device='cuda:0', grad_fn=<NllLossBackward0>)\n",
      "tensor(0.3663, device='cuda:0', grad_fn=<NllLossBackward0>)\n",
      "tensor(0.3313, device='cuda:0', grad_fn=<NllLossBackward0>)\n",
      "tensor(0.4067, device='cuda:0', grad_fn=<NllLossBackward0>)\n",
      "tensor(0.2851, device='cuda:0', grad_fn=<NllLossBackward0>)\n",
      "tensor(0.2764, device='cuda:0', grad_fn=<NllLossBackward0>)\n",
      "tensor(0.1888, device='cuda:0', grad_fn=<NllLossBackward0>)\n",
      "tensor(0.5396, device='cuda:0', grad_fn=<NllLossBackward0>)\n",
      "tensor(0.2415, device='cuda:0', grad_fn=<NllLossBackward0>)\n",
      "tensor(0.6150, device='cuda:0', grad_fn=<NllLossBackward0>)\n",
      "tensor(0.4017, device='cuda:0', grad_fn=<NllLossBackward0>)\n",
      "tensor(0.3671, device='cuda:0', grad_fn=<NllLossBackward0>)\n",
      "tensor(0.3655, device='cuda:0', grad_fn=<NllLossBackward0>)\n",
      "tensor(0.4452, device='cuda:0', grad_fn=<NllLossBackward0>)\n",
      "tensor(0.4564, device='cuda:0', grad_fn=<NllLossBackward0>)\n",
      "tensor(0.4069, device='cuda:0', grad_fn=<NllLossBackward0>)\n",
      "tensor(0.2731, device='cuda:0', grad_fn=<NllLossBackward0>)\n",
      "tensor(0.3111, device='cuda:0', grad_fn=<NllLossBackward0>)\n",
      "tensor(0.4054, device='cuda:0', grad_fn=<NllLossBackward0>)\n",
      "tensor(0.2378, device='cuda:0', grad_fn=<NllLossBackward0>)\n",
      "tensor(0.1073, device='cuda:0', grad_fn=<NllLossBackward0>)\n",
      "tensor(0.2819, device='cuda:0', grad_fn=<NllLossBackward0>)\n",
      "tensor(0.2021, device='cuda:0', grad_fn=<NllLossBackward0>)\n",
      "tensor(0.2875, device='cuda:0', grad_fn=<NllLossBackward0>)\n",
      "tensor(0.1974, device='cuda:0', grad_fn=<NllLossBackward0>)\n",
      "tensor(0.1519, device='cuda:0', grad_fn=<NllLossBackward0>)\n",
      "tensor(0.1938, device='cuda:0', grad_fn=<NllLossBackward0>)\n",
      "tensor(0.3232, device='cuda:0', grad_fn=<NllLossBackward0>)\n",
      "tensor(0.3687, device='cuda:0', grad_fn=<NllLossBackward0>)\n",
      "tensor(0.4498, device='cuda:0', grad_fn=<NllLossBackward0>)\n",
      "tensor(0.3649, device='cuda:0', grad_fn=<NllLossBackward0>)\n",
      "tensor(0.3613, device='cuda:0', grad_fn=<NllLossBackward0>)\n",
      "tensor(0.2837, device='cuda:0', grad_fn=<NllLossBackward0>)\n",
      "tensor(0.2326, device='cuda:0', grad_fn=<NllLossBackward0>)\n",
      "tensor(0.1465, device='cuda:0', grad_fn=<NllLossBackward0>)\n",
      "tensor(0.4490, device='cuda:0', grad_fn=<NllLossBackward0>)\n",
      "tensor(0.5369, device='cuda:0', grad_fn=<NllLossBackward0>)\n",
      "tensor(0.3243, device='cuda:0', grad_fn=<NllLossBackward0>)\n",
      "tensor(0.3648, device='cuda:0', grad_fn=<NllLossBackward0>)\n",
      "tensor(0.5298, device='cuda:0', grad_fn=<NllLossBackward0>)\n",
      "tensor(0.2795, device='cuda:0', grad_fn=<NllLossBackward0>)\n",
      "tensor(0.3202, device='cuda:0', grad_fn=<NllLossBackward0>)\n",
      "tensor(0.3775, device='cuda:0', grad_fn=<NllLossBackward0>)\n",
      "tensor(0.2364, device='cuda:0', grad_fn=<NllLossBackward0>)\n",
      "tensor(0.3239, device='cuda:0', grad_fn=<NllLossBackward0>)\n",
      "tensor(0.2091, device='cuda:0', grad_fn=<NllLossBackward0>)\n",
      "tensor(0.3238, device='cuda:0', grad_fn=<NllLossBackward0>)\n",
      "tensor(0.3665, device='cuda:0', grad_fn=<NllLossBackward0>)\n",
      "tensor(0.3224, device='cuda:0', grad_fn=<NllLossBackward0>)\n",
      "tensor(0.4077, device='cuda:0', grad_fn=<NllLossBackward0>)\n",
      "tensor(0.4490, device='cuda:0', grad_fn=<NllLossBackward0>)\n",
      "tensor(0.2518, device='cuda:0', grad_fn=<NllLossBackward0>)\n",
      "tensor(0.5261, device='cuda:0', grad_fn=<NllLossBackward0>)\n",
      "tensor(0.3618, device='cuda:0', grad_fn=<NllLossBackward0>)\n",
      "tensor(0.3649, device='cuda:0', grad_fn=<NllLossBackward0>)\n",
      "tensor(0.3695, device='cuda:0', grad_fn=<NllLossBackward0>)\n",
      "tensor(0.4615, device='cuda:0', grad_fn=<NllLossBackward0>)\n",
      "tensor(0.2529, device='cuda:0', grad_fn=<NllLossBackward0>)\n",
      "tensor(0.2751, device='cuda:0', grad_fn=<NllLossBackward0>)\n",
      "tensor(0.2780, device='cuda:0', grad_fn=<NllLossBackward0>)\n",
      "tensor(0.3233, device='cuda:0', grad_fn=<NllLossBackward0>)\n",
      "tensor(0.3244, device='cuda:0', grad_fn=<NllLossBackward0>)\n",
      "tensor(0.2365, device='cuda:0', grad_fn=<NllLossBackward0>)\n",
      "tensor(0.5937, device='cuda:0', grad_fn=<NllLossBackward0>)\n",
      "tensor(0.4064, device='cuda:0', grad_fn=<NllLossBackward0>)\n",
      "tensor(0.3708, device='cuda:0', grad_fn=<NllLossBackward0>)\n",
      "tensor(0.2815, device='cuda:0', grad_fn=<NllLossBackward0>)\n",
      "tensor(0.1928, device='cuda:0', grad_fn=<NllLossBackward0>)\n",
      "tensor(0.4097, device='cuda:0', grad_fn=<NllLossBackward0>)\n",
      "tensor(0.2031, device='cuda:0', grad_fn=<NllLossBackward0>)\n",
      "tensor(0.3145, device='cuda:0', grad_fn=<NllLossBackward0>)\n",
      "tensor(0.3255, device='cuda:0', grad_fn=<NllLossBackward0>)\n",
      "tensor(0.2831, device='cuda:0', grad_fn=<NllLossBackward0>)\n",
      "tensor(0.3266, device='cuda:0', grad_fn=<NllLossBackward0>)\n",
      "tensor(0.2322, device='cuda:0', grad_fn=<NllLossBackward0>)\n",
      "tensor(0.2270, device='cuda:0', grad_fn=<NllLossBackward0>)\n",
      "tensor(0.2347, device='cuda:0', grad_fn=<NllLossBackward0>)\n",
      "tensor(0.2765, device='cuda:0', grad_fn=<NllLossBackward0>)\n",
      "tensor(0.3741, device='cuda:0', grad_fn=<NllLossBackward0>)\n",
      "tensor(0.3664, device='cuda:0', grad_fn=<NllLossBackward0>)\n",
      "tensor(0.3230, device='cuda:0', grad_fn=<NllLossBackward0>)\n",
      "tensor(0.4116, device='cuda:0', grad_fn=<NllLossBackward0>)\n",
      "tensor(0.3718, device='cuda:0', grad_fn=<NllLossBackward0>)\n",
      "tensor(0.2842, device='cuda:0', grad_fn=<NllLossBackward0>)\n",
      "tensor(0.2453, device='cuda:0', grad_fn=<NllLossBackward0>)\n",
      "tensor(0.3255, device='cuda:0', grad_fn=<NllLossBackward0>)\n",
      "tensor(0.3266, device='cuda:0', grad_fn=<NllLossBackward0>)\n",
      "tensor(0.2426, device='cuda:0', grad_fn=<NllLossBackward0>)\n",
      "tensor(0.3598, device='cuda:0', grad_fn=<NllLossBackward0>)\n",
      "tensor(0.5489, device='cuda:0', grad_fn=<NllLossBackward0>)\n",
      "tensor(0.2454, device='cuda:0', grad_fn=<NllLossBackward0>)\n",
      "tensor(0.2020, device='cuda:0', grad_fn=<NllLossBackward0>)\n",
      "tensor(0.4890, device='cuda:0', grad_fn=<NllLossBackward0>)\n",
      "tensor(0.3235, device='cuda:0', grad_fn=<NllLossBackward0>)\n",
      "tensor(0.3663, device='cuda:0', grad_fn=<NllLossBackward0>)\n",
      "tensor(0.3184, device='cuda:0', grad_fn=<NllLossBackward0>)\n",
      "tensor(0.2758, device='cuda:0', grad_fn=<NllLossBackward0>)\n",
      "tensor(0.5819, device='cuda:0', grad_fn=<NllLossBackward0>)\n",
      "tensor(0.2381, device='cuda:0', grad_fn=<NllLossBackward0>)\n",
      "tensor(0.2459, device='cuda:0', grad_fn=<NllLossBackward0>)\n",
      "tensor(0.3604, device='cuda:0', grad_fn=<NllLossBackward0>)\n",
      "tensor(0.3262, device='cuda:0', grad_fn=<NllLossBackward0>)\n",
      "tensor(0.2825, device='cuda:0', grad_fn=<NllLossBackward0>)\n",
      "tensor(0.4812, device='cuda:0', grad_fn=<NllLossBackward0>)\n",
      "tensor(0.2858, device='cuda:0', grad_fn=<NllLossBackward0>)\n",
      "tensor(0.4096, device='cuda:0', grad_fn=<NllLossBackward0>)\n",
      "tensor(0.1897, device='cuda:0', grad_fn=<NllLossBackward0>)\n",
      "tensor(0.3280, device='cuda:0', grad_fn=<NllLossBackward0>)\n",
      "tensor(0.4167, device='cuda:0', grad_fn=<NllLossBackward0>)\n",
      "tensor(0.4148, device='cuda:0', grad_fn=<NllLossBackward0>)\n",
      "tensor(0.1989, device='cuda:0', grad_fn=<NllLossBackward0>)\n",
      "tensor(0.3665, device='cuda:0', grad_fn=<NllLossBackward0>)\n",
      "tensor(0.2810, device='cuda:0', grad_fn=<NllLossBackward0>)\n",
      "tensor(0.1923, device='cuda:0', grad_fn=<NllLossBackward0>)\n",
      "tensor(0.3713, device='cuda:0', grad_fn=<NllLossBackward0>)\n",
      "tensor(0.2929, device='cuda:0', grad_fn=<NllLossBackward0>)\n",
      "tensor(0.2397, device='cuda:0', grad_fn=<NllLossBackward0>)\n",
      "tensor(0.3638, device='cuda:0', grad_fn=<NllLossBackward0>)\n",
      "tensor(0.3709, device='cuda:0', grad_fn=<NllLossBackward0>)\n",
      "tensor(0.3253, device='cuda:0', grad_fn=<NllLossBackward0>)\n",
      "tensor(0.4873, device='cuda:0', grad_fn=<NllLossBackward0>)\n",
      "tensor(0.2431, device='cuda:0', grad_fn=<NllLossBackward0>)\n"
     ]
    }
   ],
   "source": [
    "loss_arr = []\n",
    "for i in range(epochs):\n",
    "    for j, [image,label] in enumerate(dataloader):\n",
    "        x = image.to(device)\n",
    "        y = label.to(device)\n",
    "        \n",
    "        optimizer.zero_grad()\n",
    "        \n",
    "        output = model.forward(x)\n",
    "        \n",
    "        loss = criterion(output, y)\n",
    "        loss.backward()\n",
    "        \n",
    "        optimizer.step()\n",
    "        \n",
    "        if j % 10 == 0 :\n",
    "            print(loss)\n",
    "            loss_arr.append(loss.cpu().detach().numpy())"
   ]
  },
  {
   "cell_type": "code",
   "execution_count": null,
   "id": "47f03445",
   "metadata": {
    "papermill": {
     "duration": 0.072731,
     "end_time": "2022-09-22T06:58:25.148587",
     "exception": false,
     "start_time": "2022-09-22T06:58:25.075856",
     "status": "completed"
    },
    "tags": []
   },
   "outputs": [],
   "source": []
  }
 ],
 "metadata": {
  "kernelspec": {
   "display_name": "Python 3",
   "language": "python",
   "name": "python3"
  },
  "language_info": {
   "codemirror_mode": {
    "name": "ipython",
    "version": 3
   },
   "file_extension": ".py",
   "mimetype": "text/x-python",
   "name": "python",
   "nbconvert_exporter": "python",
   "pygments_lexer": "ipython3",
   "version": "3.7.13"
  },
  "papermill": {
   "default_parameters": {},
   "duration": 5421.305988,
   "end_time": "2022-09-22T06:58:27.450133",
   "environment_variables": {},
   "exception": null,
   "input_path": "__notebook__.ipynb",
   "output_path": "__notebook__.ipynb",
   "parameters": {},
   "start_time": "2022-09-22T05:28:06.144145",
   "version": "2.3.4"
  }
 },
 "nbformat": 4,
 "nbformat_minor": 5
}
