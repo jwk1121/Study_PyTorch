{
 "cells": [
  {
   "cell_type": "markdown",
   "id": "6dc6189b",
   "metadata": {},
   "source": [
    "# 임베딩레이어와 tanh로 network 만들기\n",
    "- RNN은 이전 결과 혹은 이전 데이터를 사용하여 미래의 값을 예측하는 신경망이지만 이번에 다룰 임베딩 레이어와 선형변환층을 사용한 network는 과거의 데이터는 사용하지 않기 때문에 RNN이라고는 할 수 없음\n",
    "- RNN과 network의 구조를 비슷하게 만들어 RNN의 필요성과 구조를 눈에 익히기 위해 만듬"
   ]
  },
  {
   "cell_type": "code",
   "execution_count": 1,
   "id": "b76771fb",
   "metadata": {},
   "outputs": [],
   "source": [
    "import torch\n",
    "import pandas as pd\n",
    "import matplotlib.pyplot as plt"
   ]
  },
  {
   "cell_type": "markdown",
   "id": "a4095dee",
   "metadata": {},
   "source": [
    "## 준비"
   ]
  },
  {
   "cell_type": "code",
   "execution_count": 2,
   "id": "cf68efab",
   "metadata": {},
   "outputs": [],
   "source": [
    "sig = torch.nn.Sigmoid()\n",
    "soft = torch.nn.Softmax(dim=1)\n",
    "tanh = torch.nn.Tanh()"
   ]
  },
  {
   "cell_type": "markdown",
   "id": "a7df2ddb",
   "metadata": {},
   "source": [
    "`-` tanh activation function\n",
    "- tanh는 -1부터 1사이의 값을 출력하는 활성화 함수"
   ]
  },
  {
   "cell_type": "code",
   "execution_count": 3,
   "id": "d82c8b75",
   "metadata": {
    "scrolled": false
   },
   "outputs": [
    {
     "data": {
      "text/plain": [
       "[<matplotlib.lines.Line2D at 0x20fe771cca0>]"
      ]
     },
     "execution_count": 3,
     "metadata": {},
     "output_type": "execute_result"
    },
    {
     "data": {
      "image/png": "[encoded data removed]",
      "text/plain": [
       "<Figure size 640x480 with 1 Axes>"
      ]
     },
     "metadata": {},
     "output_type": "display_data"
    }
   ],
   "source": [
    "_x = torch.linspace(-5,5,100)\n",
    "plt.plot(_x,tanh(_x))"
   ]
  },
  {
   "cell_type": "markdown",
   "id": "a44c671d",
   "metadata": {},
   "source": [
    "`-` 문자를 mapping을 통해 숫자로 변환\n",
    "- 딥러닝을 돌리기 위해서는 input이 문자가 아닌 숫자여야 함\n",
    "- mapping은 key와 value로 구성된 딕셔너리가 들어감\n",
    "- txt는 키값이 되어 value인 숫자가 출력됨"
   ]
  },
  {
   "cell_type": "code",
   "execution_count": 4,
   "id": "0787941b",
   "metadata": {},
   "outputs": [],
   "source": [
    "def f(txt, mapping):\n",
    "    return [mapping[key] for key in txt]"
   ]
  },
  {
   "cell_type": "code",
   "execution_count": 5,
   "id": "aba357df",
   "metadata": {},
   "outputs": [
    {
     "data": {
      "text/plain": [
       "[0, 1, 2]"
      ]
     },
     "execution_count": 5,
     "metadata": {},
     "output_type": "execute_result"
    }
   ],
   "source": [
    "txt = ['a', 'b', 'c']\n",
    "mapping = {'a':0, 'b':1, 'c':2}\n",
    "f(txt,mapping)"
   ]
  },
  {
   "cell_type": "code",
   "execution_count": 6,
   "id": "491d2c12",
   "metadata": {},
   "outputs": [],
   "source": [
    "txt = list('ab')*100\n",
    "txt_x = txt[:-1]\n",
    "txt_y = txt[1:]"
   ]
  },
  {
   "cell_type": "code",
   "execution_count": 7,
   "id": "432d4301",
   "metadata": {},
   "outputs": [
    {
     "data": {
      "text/plain": [
       "(['a', 'b', 'a', 'b', 'a'], ['b', 'a', 'b', 'a', 'b'])"
      ]
     },
     "execution_count": 7,
     "metadata": {},
     "output_type": "execute_result"
    }
   ],
   "source": [
    "txt_x[:5],txt_y[:5]"
   ]
  },
  {
   "cell_type": "markdown",
   "id": "5d8062b8",
   "metadata": {},
   "source": [
    "`- `class를 사용해 network를 만드는 방법\n",
    "- def __init__에서는 사용할 변수(레이어)를 선언\n",
    "- def forward()에서는 __init__에서 선언한 변수(레이어)를 어떻게 연산하여 yhat을 정의할지를 코드로 구현한 후 yhat을 return\n",
    "\n",
    "```python\n",
    "class Mynet1(torch.nn.Module):\n",
    "    def __init__(self):\n",
    "        super().__init__()\n",
    "        self.l1 = torch.nn.Linear(in_features=1,out_features=1,bias=True)\n",
    "        self.a1 = torch.nn.Sigmoid()\n",
    "        self.l2 = torch.nn.Linear(in_features=1,out_features=1,bias=False)\n",
    "    def forward(self,x):\n",
    "        yhat = self.l2(self.a1(self.l1(x)))\n",
    "        return yhat\n",
    "```"
   ]
  },
  {
   "cell_type": "markdown",
   "id": "428b4509",
   "metadata": {},
   "source": [
    "## 원핫 인코딩"
   ]
  },
  {
   "cell_type": "markdown",
   "id": "d1926ba1",
   "metadata": {},
   "source": [
    "### type 1)\n",
    "- mapping 단계에서 원핫 인코딩을 진행"
   ]
  },
  {
   "cell_type": "code",
   "execution_count": 8,
   "id": "e1bbaf58",
   "metadata": {},
   "outputs": [
    {
     "data": {
      "text/plain": [
       "(tensor([[1., 0.],\n",
       "         [0., 1.],\n",
       "         [1., 0.],\n",
       "         [0., 1.],\n",
       "         [1., 0.]], device='cuda:0'),\n",
       " tensor([[0., 1.],\n",
       "         [1., 0.],\n",
       "         [0., 1.],\n",
       "         [1., 0.],\n",
       "         [0., 1.]], device='cuda:0'))"
      ]
     },
     "execution_count": 8,
     "metadata": {},
     "output_type": "execute_result"
    }
   ],
   "source": [
    "txt = list('ab')*100\n",
    "mapping = {'a':[1, 0], 'b':[0, 1]}\n",
    "x = torch.tensor(f(txt_x,mapping)).float().reshape(-1,2).to('cuda:0')\n",
    "y = torch.tensor(f(txt_y,mapping)).float().reshape(-1,2).to('cuda:0')\n",
    "x[:5], y[:5]"
   ]
  },
  {
   "cell_type": "code",
   "execution_count": 9,
   "id": "b88290ec",
   "metadata": {},
   "outputs": [],
   "source": [
    "net = torch.nn.Sequential(\n",
    "    torch.nn.Linear(in_features=2,out_features=1),\n",
    "    torch.nn.Tanh(),\n",
    "    torch.nn.Linear(in_features=1,out_features=2,bias=False)\n",
    ").to('cuda:0')\n",
    "\n",
    "loss_fn = torch.nn.CrossEntropyLoss()\n",
    "\n",
    "optimizr = torch.optim.Adam(net.parameters())"
   ]
  },
  {
   "cell_type": "code",
   "execution_count": 10,
   "id": "af0809a5",
   "metadata": {},
   "outputs": [],
   "source": [
    "for epoc in range(5000):\n",
    "    ## 1\n",
    "    yhat = net(x)\n",
    "    ## 2 \n",
    "    loss = loss_fn(yhat,y)\n",
    "    ## 3 \n",
    "    loss.backward()\n",
    "    ## 4 \n",
    "    optimizr.step()\n",
    "    optimizr.zero_grad()"
   ]
  },
  {
   "cell_type": "markdown",
   "id": "14e758ba",
   "metadata": {},
   "source": [
    "- 값이 크면 노란색, 값이 작으면 보라색으로 출력됨 "
   ]
  },
  {
   "cell_type": "code",
   "execution_count": 11,
   "id": "0e5d5321",
   "metadata": {
    "scrolled": false
   },
   "outputs": [
    {
     "data": {
      "text/plain": [
       "<matplotlib.image.AxesImage at 0x20fe7939c40>"
      ]
     },
     "execution_count": 11,
     "metadata": {},
     "output_type": "execute_result"
    },
    {
     "data": {
      "image/png": "[encoded data removed]",
      "text/plain": [
       "<Figure size 640x480 with 2 Axes>"
      ]
     },
     "metadata": {},
     "output_type": "display_data"
    }
   ],
   "source": [
    "fig,ax = plt.subplots(1,2)\n",
    "ax[0].imshow(y[:5].to('cpu'))\n",
    "ax[1].imshow(soft(net(x[:5]).to('cpu')).data)"
   ]
  },
  {
   "cell_type": "markdown",
   "id": "cb1c89ab",
   "metadata": {},
   "source": [
    "### type 2)\n",
    "- torch.nn.Embedding()을 사용하면 자동으로 원핫 인코딩을 한 후 선형변환을 함"
   ]
  },
  {
   "cell_type": "code",
   "execution_count": 12,
   "id": "9741fa1c",
   "metadata": {},
   "outputs": [
    {
     "data": {
      "text/plain": [
       "(tensor([0, 1, 2, 0, 1], device='cuda:0'),\n",
       " tensor([1, 2, 0, 1, 2], device='cuda:0'))"
      ]
     },
     "execution_count": 12,
     "metadata": {},
     "output_type": "execute_result"
    }
   ],
   "source": [
    "mapping = {'a':0,'b':1,'c':2}\n",
    "x = torch.tensor(f(list('abc')*100,mapping)).to('cuda:0')\n",
    "y = torch.tensor(f(list('bca')*100,mapping)).to('cuda:0')\n",
    "x[:5],y[:5]"
   ]
  },
  {
   "cell_type": "code",
   "execution_count": 13,
   "id": "fc86ffc1",
   "metadata": {},
   "outputs": [
    {
     "data": {
      "text/plain": [
       "tensor([[-0.8178],\n",
       "        [-0.7052],\n",
       "        [-0.5843],\n",
       "        [-0.8178],\n",
       "        [-0.7052]], device='cuda:0', grad_fn=<SliceBackward0>)"
      ]
     },
     "execution_count": 13,
     "metadata": {},
     "output_type": "execute_result"
    }
   ],
   "source": [
    "torch.manual_seed(43052)\n",
    "ebdd = torch.nn.Embedding(num_embeddings=3,embedding_dim=1).to('cuda:0')\n",
    "ebdd(x)[:5]"
   ]
  },
  {
   "cell_type": "code",
   "execution_count": 14,
   "id": "ada2705a",
   "metadata": {},
   "outputs": [
    {
     "data": {
      "text/plain": [
       "Parameter containing:\n",
       "tensor([[-0.8178],\n",
       "        [-0.7052],\n",
       "        [-0.5843]], device='cuda:0', requires_grad=True)"
      ]
     },
     "execution_count": 14,
     "metadata": {},
     "output_type": "execute_result"
    }
   ],
   "source": [
    "ebdd.weight"
   ]
  },
  {
   "cell_type": "markdown",
   "id": "7b111f71",
   "metadata": {},
   "source": [
    "- embedding layer는 a, b, c에 적용할 weight가 각각 있어서 weight가 3개임"
   ]
  },
  {
   "cell_type": "code",
   "execution_count": 15,
   "id": "eb269e0b",
   "metadata": {},
   "outputs": [
    {
     "data": {
      "text/plain": [
       "(tensor([0, 1, 0, 1, 0], device='cuda:0'),\n",
       " tensor([1, 0, 1, 0, 1], device='cuda:0'))"
      ]
     },
     "execution_count": 15,
     "metadata": {},
     "output_type": "execute_result"
    }
   ],
   "source": [
    "mapping = {'a':0,'b':1}\n",
    "x = torch.tensor(f(txt_x,mapping)).to('cuda:0')\n",
    "y = torch.tensor(f(txt_y,mapping)).to('cuda:0')\n",
    "x[:5], y[:5]"
   ]
  },
  {
   "cell_type": "markdown",
   "id": "f6886cc1",
   "metadata": {},
   "source": [
    "- embedding layer에서 원핫인코딩이 실행되어야 하므로 실수형이 아닌 정수형으로 데이터를 입력해줌"
   ]
  },
  {
   "cell_type": "code",
   "execution_count": 16,
   "id": "b4844853",
   "metadata": {},
   "outputs": [],
   "source": [
    "net = torch.nn.Sequential(\n",
    "    torch.nn.Embedding(num_embeddings=2,embedding_dim=1),\n",
    "    torch.nn.Tanh(),\n",
    "    torch.nn.Linear(in_features=1,out_features=2)\n",
    ").to('cuda:0')\n",
    "\n",
    "loss_fn = torch.nn.CrossEntropyLoss()\n",
    "\n",
    "optimizr = torch.optim.Adam(net.parameters())"
   ]
  },
  {
   "cell_type": "code",
   "execution_count": 17,
   "id": "d32b5f3a",
   "metadata": {},
   "outputs": [],
   "source": [
    "for epoc in range(5000):\n",
    "    ## 1\n",
    "    yhat = net(x)\n",
    "    ## 2 \n",
    "    loss = loss_fn(yhat,y)\n",
    "    ## 3 \n",
    "    loss.backward()\n",
    "    ## 4 \n",
    "    optimizr.step()\n",
    "    optimizr.zero_grad()"
   ]
  },
  {
   "cell_type": "code",
   "execution_count": 18,
   "id": "833fd063",
   "metadata": {},
   "outputs": [
    {
     "data": {
      "text/plain": [
       "<matplotlib.image.AxesImage at 0x20f857618b0>"
      ]
     },
     "execution_count": 18,
     "metadata": {},
     "output_type": "execute_result"
    },
    {
     "data": {
      "image/png": "[encoded data removed]",
      "text/plain": [
       "<Figure size 640x480 with 1 Axes>"
      ]
     },
     "metadata": {},
     "output_type": "display_data"
    }
   ],
   "source": [
    "plt.imshow(soft(net(x[:5]).to('cpu')).data)"
   ]
  },
  {
   "cell_type": "markdown",
   "id": "4fc13702",
   "metadata": {},
   "source": [
    "### 임베딩 레이어를 사용해 abcde 예측하기"
   ]
  },
  {
   "cell_type": "code",
   "execution_count": 19,
   "id": "fd08c37a",
   "metadata": {},
   "outputs": [],
   "source": [
    "txt = list('abcde')*100\n",
    "mapping = {'a':0,'b':1,'c':2,'d':3,'e':4}\n",
    "\n",
    "txt_x = txt[:-1]\n",
    "txt_y = txt[1:]\n",
    "\n",
    "x = torch.tensor(f(txt_x, mapping)).to('cuda:0')\n",
    "y = torch.tensor(f(txt_y, mapping)).to('cuda:0')"
   ]
  },
  {
   "cell_type": "markdown",
   "id": "bdf6fd90",
   "metadata": {},
   "source": [
    "- 1개의 은닉노드는 2개의 문자를 표현, 2개의 은닉노드는 4개의 문자를 표현  \n",
    "`->` $2^n$으로 문자를 표현할 수 있음\n",
    "- 5개의 문자열이므로 $n = 3$이 적합함"
   ]
  },
  {
   "cell_type": "code",
   "execution_count": 20,
   "id": "b8a9a862",
   "metadata": {},
   "outputs": [],
   "source": [
    "torch.manual_seed(43052)\n",
    "net = torch.nn.Sequential(\n",
    "    torch.nn.Embedding(num_embeddings=5, embedding_dim = 3),\n",
    "    torch.nn.Tanh(),\n",
    "    torch.nn.Linear(3, 5)\n",
    ").to('cuda:0')\n",
    "\n",
    "loss_fn = torch.nn.CrossEntropyLoss()\n",
    "\n",
    "optim = torch.optim.Adam(net.parameters())"
   ]
  },
  {
   "cell_type": "code",
   "execution_count": 21,
   "id": "be33bb9d",
   "metadata": {},
   "outputs": [],
   "source": [
    "for epoch in range(5000):\n",
    "    #\n",
    "    yhat = net(x)\n",
    "    #\n",
    "    loss = loss_fn(yhat, y)\n",
    "    #\n",
    "    loss.backward()\n",
    "    #\n",
    "    optim.step()\n",
    "    optim.zero_grad()"
   ]
  },
  {
   "cell_type": "code",
   "execution_count": 22,
   "id": "266bd7bb",
   "metadata": {},
   "outputs": [
    {
     "data": {
      "text/plain": [
       "Linear(in_features=3, out_features=5, bias=True)"
      ]
     },
     "execution_count": 22,
     "metadata": {},
     "output_type": "execute_result"
    }
   ],
   "source": [
    "net[-1]"
   ]
  },
  {
   "cell_type": "code",
   "execution_count": 23,
   "id": "bbf65c6b",
   "metadata": {},
   "outputs": [
    {
     "data": {
      "text/plain": [
       "Text(0.5, 1.0, 'Vis2: $[h | net(x) | \\\\hat{y}]$')"
      ]
     },
     "execution_count": 23,
     "metadata": {},
     "output_type": "execute_result"
    },
    {
     "data": {
      "image/png": "[encoded data removed]",
      "text/plain": [
       "<Figure size 1500x1500 with 2 Axes>"
      ]
     },
     "metadata": {},
     "output_type": "display_data"
    }
   ],
   "source": [
    "hidden = net[:-1](x).to('cpu').data\n",
    "yhat = soft(net(x)).to('cpu').data\n",
    "\n",
    "combined  = torch.concat([hidden, net(x).to('cpu').data, yhat],axis=1)\n",
    "\n",
    "\n",
    "plt.matshow(combined[:15],vmin=-5,vmax=5,cmap='bwr')\n",
    "plt.xticks(range(13), labels=[r'$h$',r'$h$',r'$h$',\n",
    "                              r'$y=a?$',r'$y=b?$',r'$y=c?$',r'$y=d?$',r'$y=e?$',\n",
    "                              r'$P(y=A)$',r'$P(y=b)$',r'$P(y=c)$',r'$P(y=d)$',r'$P(y=e)$'],size=13)\n",
    "plt.colorbar()\n",
    "plt.gcf().set_figwidth(15)\n",
    "plt.gcf().set_figheight(15)\n",
    "plt.title(r\"Vis2: $[h | net(x) | \\hat{y}]$\",size=25)"
   ]
  },
  {
   "cell_type": "markdown",
   "id": "45a81742",
   "metadata": {},
   "source": [
    "## 한계: AbAcAd\n",
    "\n",
    "- 위와 같은 문제는 직전 하나의 문자만 보는 것이 아닌 2개의 문자를 보아야 예측을 할 수 있음\n",
    "- 평범한 임베딩 레이어(선형 변환 레이어)를 사용하면 이와 같은 문제를 해결할 수 없음"
   ]
  },
  {
   "cell_type": "code",
   "execution_count": 34,
   "id": "744324f0",
   "metadata": {},
   "outputs": [],
   "source": [
    "txt = list('AbAcAd')*100\n",
    "mapping = {'A':0, 'b':1,'c':2, 'd':3}"
   ]
  },
  {
   "cell_type": "code",
   "execution_count": 35,
   "id": "abcc88c9",
   "metadata": {},
   "outputs": [],
   "source": [
    "x = torch.tensor(f(txt[:-1],mapping))\n",
    "y = torch.tensor(f(txt[1:],mapping))"
   ]
  },
  {
   "cell_type": "code",
   "execution_count": 36,
   "id": "c2730a9d",
   "metadata": {},
   "outputs": [],
   "source": [
    "x = torch.nn.functional.one_hot(x).float()\n",
    "y = torch.nn.functional.one_hot(y).float()"
   ]
  },
  {
   "cell_type": "code",
   "execution_count": 39,
   "id": "edd77796",
   "metadata": {},
   "outputs": [],
   "source": [
    "x = x.cuda()\n",
    "y = y.cuda()"
   ]
  },
  {
   "cell_type": "code",
   "execution_count": 25,
   "id": "b12b3d8c",
   "metadata": {},
   "outputs": [],
   "source": [
    "class Hnet(torch.nn.Module):\n",
    "    def __init__(self):\n",
    "        super().__init__()\n",
    "        self.i2h = torch.nn.Linear(in_features=4,out_features=2)\n",
    "        self.tanh = torch.nn.Tanh()\n",
    "    def forward(self,x):\n",
    "        hidden = self.tanh(self.i2h(x))\n",
    "        return hidden"
   ]
  },
  {
   "cell_type": "code",
   "execution_count": 44,
   "id": "e06fef6f",
   "metadata": {},
   "outputs": [],
   "source": [
    "torch.manual_seed(43052)\n",
    "\n",
    "hnet = Hnet().cuda()\n",
    "linr = torch.nn.Linear(in_features=2,out_features=4).cuda()\n",
    "\n",
    "loss_fn = torch.nn.CrossEntropyLoss() \n",
    "\n",
    "optim = torch.optim.Adam(list(hnet.parameters())+list(linr.parameters()))"
   ]
  },
  {
   "cell_type": "code",
   "execution_count": 45,
   "id": "ab00fe8c",
   "metadata": {},
   "outputs": [],
   "source": [
    "T = len(x) \n",
    "for epoc in range(20): \n",
    "    ## 1~2\n",
    "    loss = 0 \n",
    "    for t in range(T):\n",
    "        xt,yt = x[[t]], y[[t]]\n",
    "        ht = hnet(xt) \n",
    "        ot = linr(ht) \n",
    "        loss = loss + loss_fn(ot,yt) \n",
    "    ## 3 \n",
    "    loss.backward()\n",
    "    ## 4 \n",
    "    optim.step()\n",
    "    optim.zero_grad()"
   ]
  },
  {
   "cell_type": "code",
   "execution_count": 62,
   "id": "e83c4096",
   "metadata": {},
   "outputs": [
    {
     "data": {
      "text/plain": [
       "tensor([[-0.3589,  0.7921, -0.1970, -0.0302],\n",
       "        [-0.2912,  0.8140, -0.2032,  0.0178],\n",
       "        [-0.3589,  0.7921, -0.1970, -0.0302],\n",
       "        ...,\n",
       "        [-0.3589,  0.7921, -0.1970, -0.0302],\n",
       "        [-0.1065,  0.6307, -0.0874,  0.1821],\n",
       "        [-0.3589,  0.7921, -0.1970, -0.0302]], device='cuda:0',\n",
       "       grad_fn=<AddmmBackward0>)"
      ]
     },
     "execution_count": 62,
     "metadata": {},
     "output_type": "execute_result"
    }
   ],
   "source": [
    "linr(hnet(x))"
   ]
  },
  {
   "cell_type": "code",
   "execution_count": 60,
   "id": "0522f6a6",
   "metadata": {},
   "outputs": [
    {
     "data": {
      "text/plain": [
       "<matplotlib.colorbar.Colorbar at 0x2102411f610>"
      ]
     },
     "execution_count": 60,
     "metadata": {},
     "output_type": "execute_result"
    },
    {
     "data": {
      "image/png": "[encoded data removed]",
      "text/plain": [
       "<Figure size 400x800 with 2 Axes>"
      ]
     },
     "metadata": {},
     "output_type": "display_data"
    }
   ],
   "source": [
    "plt.matshow(linr(hnet(x)).cpu().data[:8],vmin=-1,vmax=1,cmap='bwr')\n",
    "plt.colorbar()"
   ]
  }
 ],
 "metadata": {
  "kernelspec": {
   "display_name": "Python 3.9.13 ('pytorch')",
   "language": "python",
   "name": "python3"
  },
  "language_info": {
   "codemirror_mode": {
    "name": "ipython",
    "version": 3
   },
   "file_extension": ".py",
   "mimetype": "text/x-python",
   "name": "python",
   "nbconvert_exporter": "python",
   "pygments_lexer": "ipython3",
   "version": "3.9.13"
  },
  "vscode": {
   "interpreter": {
    "hash": "1ce164a82c13eaa31255a1ce4d93539ca528d828db2cf00dab58a195511dfbbe"
   }
  }
 },
 "nbformat": 4,
 "nbformat_minor": 5
}
