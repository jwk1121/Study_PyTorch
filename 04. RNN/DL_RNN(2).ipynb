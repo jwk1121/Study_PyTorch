{
 "cells": [
  {
   "cell_type": "markdown",
   "metadata": {},
   "source": [
    "# RNN레이어를 사용한 순환신경망\n",
    "- 기존의 선형변환(임베딩 레이어, Linear 레이어)는 과거의 데이터를 사용하지 못해서 AbAcAd와 같은 예제를 해결하지 못함\n",
    "- RNN이나 LSTM과 같은 레이어를 사용하면 위와 같은 예제를 해결할 수 있음"
   ]
  },
  {
   "cell_type": "code",
   "execution_count": 105,
   "metadata": {},
   "outputs": [],
   "source": [
    "import torch\n",
    "import numpy as np\n",
    "import pandas as pd\n",
    "import matplotlib.pyplot as plt\n",
    "import time\n",
    "from tqdm import tqdm\n",
    "\n",
    "def f(txt,mapping):\n",
    "    return [mapping[key] for key in txt] \n",
    "soft = torch.nn.Softmax(dim=1)"
   ]
  },
  {
   "cell_type": "markdown",
   "metadata": {
    "vscode": {
     "languageId": "python"
    }
   },
   "source": [
    "`-` optimizer에 입력하는 network.parameters()\n",
    "- network.parameters()자리에는 iterable object를 입력해야 함\n",
    "- 대표적인 iterable object는 리스트가 있음\n",
    "- 만약 optimizer를 사용해 2개 이상의 값들을 업데이트하고 싶다면 이들을 리스트로 묶어서 network.parameters() 자리에 입력을 해주면 됨"
   ]
  },
  {
   "cell_type": "markdown",
   "metadata": {},
   "source": [
    "## RNNcell을 사용해 AbAcAd 예제 해결하기"
   ]
  },
  {
   "cell_type": "code",
   "execution_count": 106,
   "metadata": {},
   "outputs": [
    {
     "data": {
      "text/plain": [
       "['A', 'b', 'A', 'c', 'A', 'd', 'A', 'b', 'A', 'c']"
      ]
     },
     "execution_count": 106,
     "metadata": {},
     "output_type": "execute_result"
    }
   ],
   "source": [
    "txt = list('AbAcAd')*100\n",
    "txt[:10]"
   ]
  },
  {
   "cell_type": "code",
   "execution_count": 107,
   "metadata": {},
   "outputs": [],
   "source": [
    "txt_x = txt[:-1]\n",
    "txt_y = txt[1:]\n",
    "\n",
    "x = torch.tensor(f(txt_x,{'A':0,'b':1,'c':2,'d':3}))\n",
    "y = torch.tensor(f(txt_y,{'A':0,'b':1,'c':2,'d':3}))"
   ]
  },
  {
   "cell_type": "code",
   "execution_count": 108,
   "metadata": {},
   "outputs": [],
   "source": [
    "x= torch.nn.functional.one_hot(x).float()\n",
    "y= torch.nn.functional.one_hot(y).float()"
   ]
  },
  {
   "cell_type": "code",
   "execution_count": 109,
   "metadata": {},
   "outputs": [
    {
     "data": {
      "text/plain": [
       "tensor([[1., 0., 0., 0.],\n",
       "        [0., 1., 0., 0.],\n",
       "        [1., 0., 0., 0.],\n",
       "        ...,\n",
       "        [1., 0., 0., 0.],\n",
       "        [0., 0., 1., 0.],\n",
       "        [1., 0., 0., 0.]])"
      ]
     },
     "execution_count": 109,
     "metadata": {},
     "output_type": "execute_result"
    }
   ],
   "source": [
    "x"
   ]
  },
  {
   "cell_type": "markdown",
   "metadata": {},
   "source": [
    "- RNN의 원리를 수식으로 설명하면 아래와 같다.\n",
    " \n",
    "$h_t = tanh(x_{input}W_{ih} + h_{t-1}W_{hh} + bias_h)$ *(여기에서 $h_{t-1}$은 과거의 데이터를 의미한다)*\n",
    "\n",
    "$output = W_{ho}h_t + bias_o$\n",
    "\n",
    "$yhat = softmax(output)$\n",
    "\n",
    "- $h_1$의 경우에는 과거의 데이터가 없으므로 처음 시작할 때는 0으로 만들어진 $h_t$를 만들어줘야 함"
   ]
  },
  {
   "cell_type": "markdown",
   "metadata": {},
   "source": [
    "### 순환 신경망 학습시키기\n",
    "- 위의 수식대로 순환신경망 정의하기"
   ]
  },
  {
   "cell_type": "code",
   "execution_count": 110,
   "metadata": {},
   "outputs": [],
   "source": [
    "torch.manual_seed(43052)\n",
    "\n",
    "rnncell = torch.nn.RNNCell(4, 2)"
   ]
  },
  {
   "cell_type": "code",
   "execution_count": 111,
   "metadata": {},
   "outputs": [],
   "source": [
    "torch.manual_seed(43052)\n",
    "\n",
    "Lin = torch.nn.Linear(2, 4)\n",
    "\n",
    "loss_fn = torch.nn.CrossEntropyLoss()\n",
    "\n",
    "optim = torch.optim.Adam(list(rnncell.parameters())+list(Lin.parameters()))"
   ]
  },
  {
   "cell_type": "code",
   "execution_count": 112,
   "metadata": {},
   "outputs": [
    {
     "name": "stderr",
     "output_type": "stream",
     "text": [
      "100%|██████████| 5000/5000 [13:40<00:00,  6.10it/s]\n"
     ]
    }
   ],
   "source": [
    "T = len(x)\n",
    "for epoch in tqdm(range(5000)):\n",
    "    loss = 0\n",
    "    ht = torch.zeros(1,2)\n",
    "\n",
    "    for t in range(T):\n",
    "        xt, yt = x[[t]], y[[t]]\n",
    "        ht = rnncell(xt, ht)\n",
    "        ot = Lin(ht)\n",
    "\n",
    "        loss = loss + loss_fn(ot, yt)\n",
    "\n",
    "    loss.backward()\n",
    "\n",
    "    optim.step()\n",
    "    optim.zero_grad()"
   ]
  },
  {
   "cell_type": "code",
   "execution_count": 113,
   "metadata": {},
   "outputs": [],
   "source": [
    "hidden = torch.zeros(T, 2)\n",
    "_water = torch.zeros(1,2)\n",
    "\n",
    "hidden[[0]] = rnncell(x[[0]], _water)\n",
    "\n",
    "for t in range(1, T):\n",
    "    hidden[[t]] = rnncell(x[[t]], hidden[[t-1]])\n"
   ]
  },
  {
   "cell_type": "code",
   "execution_count": 114,
   "metadata": {},
   "outputs": [
    {
     "data": {
      "text/plain": [
       "tensor([[-0.9912, -0.9117],\n",
       "        [ 0.0698, -1.0000],\n",
       "        [-0.9927, -0.9682],\n",
       "        ...,\n",
       "        [-0.9935, -0.9315],\n",
       "        [ 0.5777, -1.0000],\n",
       "        [-0.9960, -0.0109]], grad_fn=<IndexPutBackward0>)"
      ]
     },
     "execution_count": 114,
     "metadata": {},
     "output_type": "execute_result"
    }
   ],
   "source": [
    "hidden"
   ]
  },
  {
   "cell_type": "code",
   "execution_count": 115,
   "metadata": {},
   "outputs": [
    {
     "data": {
      "text/plain": [
       "<matplotlib.colorbar.Colorbar at 0x13d2bdfcbb0>"
      ]
     },
     "execution_count": 115,
     "metadata": {},
     "output_type": "execute_result"
    },
    {
     "data": {
      "image/png": "[encoded data removed]",
      "text/plain": [
       "<Figure size 400x1500 with 2 Axes>"
      ]
     },
     "metadata": {},
     "output_type": "display_data"
    }
   ],
   "source": [
    "yhat = soft(Lin(hidden))\n",
    "\n",
    "plt.matshow(yhat[-15:].data, cmap ='bwr')\n",
    "plt.colorbar()"
   ]
  },
  {
   "cell_type": "markdown",
   "metadata": {},
   "source": [
    "## RNN과 RNNcell의 차이점"
   ]
  },
  {
   "cell_type": "code",
   "execution_count": 116,
   "metadata": {},
   "outputs": [],
   "source": [
    "rnn = torch.nn.RNN(4, 2)"
   ]
  },
  {
   "cell_type": "code",
   "execution_count": 117,
   "metadata": {},
   "outputs": [],
   "source": [
    "rnn.weight_hh_l0.data = rnncell.weight_hh.data \n",
    "rnn.weight_ih_l0.data = rnncell.weight_ih.data\n",
    "rnn.bias_hh_l0.data = rnncell.bias_hh.data\n",
    "rnn.bias_ih_l0.data = rnncell.bias_ih.data"
   ]
  },
  {
   "cell_type": "code",
   "execution_count": 118,
   "metadata": {},
   "outputs": [
    {
     "ename": "RuntimeError",
     "evalue": "Input batch size 599 doesn't match hidden0 batch size 1",
     "output_type": "error",
     "traceback": [
      "\u001b[1;31m---------------------------------------------------------------------------\u001b[0m",
      "\u001b[1;31mRuntimeError\u001b[0m                              Traceback (most recent call last)",
      "Cell \u001b[1;32mIn [118], line 2\u001b[0m\n\u001b[0;32m      1\u001b[0m _water \u001b[39m=\u001b[39m torch\u001b[39m.\u001b[39mzeros(\u001b[39m1\u001b[39m, \u001b[39m2\u001b[39m)\n\u001b[1;32m----> 2\u001b[0m rnncell(x,_water)\n",
      "File \u001b[1;32mc:\\Users\\default.DESKTOP-HUJV032\\anaconda3\\envs\\pytorch\\lib\\site-packages\\torch\\nn\\modules\\module.py:1190\u001b[0m, in \u001b[0;36mModule._call_impl\u001b[1;34m(self, *input, **kwargs)\u001b[0m\n\u001b[0;32m   1186\u001b[0m \u001b[39m# If we don't have any hooks, we want to skip the rest of the logic in\u001b[39;00m\n\u001b[0;32m   1187\u001b[0m \u001b[39m# this function, and just call forward.\u001b[39;00m\n\u001b[0;32m   1188\u001b[0m \u001b[39mif\u001b[39;00m \u001b[39mnot\u001b[39;00m (\u001b[39mself\u001b[39m\u001b[39m.\u001b[39m_backward_hooks \u001b[39mor\u001b[39;00m \u001b[39mself\u001b[39m\u001b[39m.\u001b[39m_forward_hooks \u001b[39mor\u001b[39;00m \u001b[39mself\u001b[39m\u001b[39m.\u001b[39m_forward_pre_hooks \u001b[39mor\u001b[39;00m _global_backward_hooks\n\u001b[0;32m   1189\u001b[0m         \u001b[39mor\u001b[39;00m _global_forward_hooks \u001b[39mor\u001b[39;00m _global_forward_pre_hooks):\n\u001b[1;32m-> 1190\u001b[0m     \u001b[39mreturn\u001b[39;00m forward_call(\u001b[39m*\u001b[39m\u001b[39minput\u001b[39m, \u001b[39m*\u001b[39m\u001b[39m*\u001b[39mkwargs)\n\u001b[0;32m   1191\u001b[0m \u001b[39m# Do not call functions when jit is used\u001b[39;00m\n\u001b[0;32m   1192\u001b[0m full_backward_hooks, non_full_backward_hooks \u001b[39m=\u001b[39m [], []\n",
      "File \u001b[1;32mc:\\Users\\default.DESKTOP-HUJV032\\anaconda3\\envs\\pytorch\\lib\\site-packages\\torch\\nn\\modules\\rnn.py:1094\u001b[0m, in \u001b[0;36mRNNCell.forward\u001b[1;34m(self, input, hx)\u001b[0m\n\u001b[0;32m   1091\u001b[0m     hx \u001b[39m=\u001b[39m hx\u001b[39m.\u001b[39munsqueeze(\u001b[39m0\u001b[39m) \u001b[39mif\u001b[39;00m \u001b[39mnot\u001b[39;00m is_batched \u001b[39melse\u001b[39;00m hx\n\u001b[0;32m   1093\u001b[0m \u001b[39mif\u001b[39;00m \u001b[39mself\u001b[39m\u001b[39m.\u001b[39mnonlinearity \u001b[39m==\u001b[39m \u001b[39m\"\u001b[39m\u001b[39mtanh\u001b[39m\u001b[39m\"\u001b[39m:\n\u001b[1;32m-> 1094\u001b[0m     ret \u001b[39m=\u001b[39m _VF\u001b[39m.\u001b[39;49mrnn_tanh_cell(\n\u001b[0;32m   1095\u001b[0m         \u001b[39minput\u001b[39;49m, hx,\n\u001b[0;32m   1096\u001b[0m         \u001b[39mself\u001b[39;49m\u001b[39m.\u001b[39;49mweight_ih, \u001b[39mself\u001b[39;49m\u001b[39m.\u001b[39;49mweight_hh,\n\u001b[0;32m   1097\u001b[0m         \u001b[39mself\u001b[39;49m\u001b[39m.\u001b[39;49mbias_ih, \u001b[39mself\u001b[39;49m\u001b[39m.\u001b[39;49mbias_hh,\n\u001b[0;32m   1098\u001b[0m     )\n\u001b[0;32m   1099\u001b[0m \u001b[39melif\u001b[39;00m \u001b[39mself\u001b[39m\u001b[39m.\u001b[39mnonlinearity \u001b[39m==\u001b[39m \u001b[39m\"\u001b[39m\u001b[39mrelu\u001b[39m\u001b[39m\"\u001b[39m:\n\u001b[0;32m   1100\u001b[0m     ret \u001b[39m=\u001b[39m _VF\u001b[39m.\u001b[39mrnn_relu_cell(\n\u001b[0;32m   1101\u001b[0m         \u001b[39minput\u001b[39m, hx,\n\u001b[0;32m   1102\u001b[0m         \u001b[39mself\u001b[39m\u001b[39m.\u001b[39mweight_ih, \u001b[39mself\u001b[39m\u001b[39m.\u001b[39mweight_hh,\n\u001b[0;32m   1103\u001b[0m         \u001b[39mself\u001b[39m\u001b[39m.\u001b[39mbias_ih, \u001b[39mself\u001b[39m\u001b[39m.\u001b[39mbias_hh,\n\u001b[0;32m   1104\u001b[0m     )\n",
      "\u001b[1;31mRuntimeError\u001b[0m: Input batch size 599 doesn't match hidden0 batch size 1"
     ]
    }
   ],
   "source": [
    "_water = torch.zeros(1, 2)\n",
    "rnncell(x,_water)"
   ]
  },
  {
   "cell_type": "markdown",
   "metadata": {},
   "source": [
    "- RNNcell은 위와 같이 입력을 주면 에러가 발생함\n",
    "\n",
    "```python\n",
    "for t in range(T):\n",
    "    xt, yt = x[[t]], y[[t]]\n",
    "    ht = rnncell(xt, ht)\n",
    "    ot = Lin(ht)\n",
    "```\n",
    "\n",
    "- 그렇기 때문에 위와 같은 방식으로 학습을 시켜야 함\n"
   ]
  },
  {
   "cell_type": "code",
   "execution_count": 119,
   "metadata": {},
   "outputs": [
    {
     "data": {
      "text/plain": [
       "(tensor([[-0.9912, -0.9117],\n",
       "         [ 0.0698, -1.0000],\n",
       "         [-0.9927, -0.9682],\n",
       "         ...,\n",
       "         [-0.9935, -0.9315],\n",
       "         [ 0.5777, -1.0000],\n",
       "         [-0.9960, -0.0109]], grad_fn=<SqueezeBackward1>),\n",
       " tensor([[-0.9960, -0.0109]], grad_fn=<SqueezeBackward1>))"
      ]
     },
     "execution_count": 119,
     "metadata": {},
     "output_type": "execute_result"
    }
   ],
   "source": [
    "_water = torch.zeros(1, 2)\n",
    "rnn(x,_water)"
   ]
  },
  {
   "cell_type": "markdown",
   "metadata": {},
   "source": [
    "- 하지만 RNN은 for문 안에 넣을 필요없이 한번에 연산이 가능함\n",
    "- 같은 weight와 bias를 사용하지만 편의성(?)측면에서 RNN이 좋음"
   ]
  },
  {
   "cell_type": "markdown",
   "metadata": {},
   "source": [
    "## RNN을 사용해 AbAcAd 예제 해결하기 (히든 노드 2개)"
   ]
  },
  {
   "cell_type": "code",
   "execution_count": 120,
   "metadata": {},
   "outputs": [],
   "source": [
    "rnn = torch.nn.RNN(4,2).to('cuda:0')"
   ]
  },
  {
   "cell_type": "code",
   "execution_count": 121,
   "metadata": {},
   "outputs": [],
   "source": [
    "torch.manual_seed(43052)\n",
    "_rnncell = torch.nn.RNNCell(4, 2).to('cuda:0')\n",
    "\n",
    "rnn.weight_hh_l0.data = _rnncell.weight_hh.data \n",
    "rnn.weight_ih_l0.data = _rnncell.weight_ih.data\n",
    "rnn.bias_hh_l0.data = _rnncell.bias_hh.data\n",
    "rnn.bias_ih_l0.data = _rnncell.bias_ih.data"
   ]
  },
  {
   "cell_type": "code",
   "execution_count": 122,
   "metadata": {},
   "outputs": [],
   "source": [
    "torch.manual_seed(43052)\n",
    "Lin = torch.nn.Linear(2, 4).to('cuda:0')"
   ]
  },
  {
   "cell_type": "code",
   "execution_count": 123,
   "metadata": {},
   "outputs": [],
   "source": [
    "loss_fn = torch.nn.CrossEntropyLoss()\n",
    "\n",
    "optim = torch.optim.Adam(list(rnn.parameters()) + list(Lin.parameters()))"
   ]
  },
  {
   "cell_type": "code",
   "execution_count": 124,
   "metadata": {},
   "outputs": [
    {
     "name": "stderr",
     "output_type": "stream",
     "text": [
      "  0%|          | 0/5000 [00:00<?, ?it/s]c:\\Users\\default.DESKTOP-HUJV032\\anaconda3\\envs\\pytorch\\lib\\site-packages\\torch\\nn\\modules\\rnn.py:476: UserWarning: RNN module weights are not part of single contiguous chunk of memory. This means they need to be compacted at every call, possibly greatly increasing memory usage. To compact weights again call flatten_parameters(). (Triggered internally at C:\\cb\\pytorch_1000000000000\\work\\aten\\src\\ATen\\native\\cudnn\\RNN.cpp:968.)\n",
      "  result = _VF.rnn_tanh(input, hx, self._flat_weights, self.bias, self.num_layers,\n",
      "100%|██████████| 5000/5000 [00:23<00:00, 215.98it/s]\n"
     ]
    }
   ],
   "source": [
    "_water = torch.zeros(1,2).to('cuda:0')\n",
    "\n",
    "for epoch in tqdm(range(5000)):\n",
    "    hidden, ht = rnn(x.to('cuda:0'), _water)\n",
    "    output = Lin(hidden)\n",
    "    \n",
    "    loss = loss_fn(output, y.to('cuda:0'))\n",
    "\n",
    "    loss.backward()\n",
    "\n",
    "    optim.step()\n",
    "    optim.zero_grad()"
   ]
  },
  {
   "cell_type": "markdown",
   "metadata": {},
   "source": [
    "`-` rnn을 실행하면 2개가 출력되는데 이는 hidden과 ht이다\n",
    "- hidden은 x를 계산한 모든 값들이 출력된다\n",
    "- ht는 마지막의 값만 저장되어있는데 이는 ht값들이 쌓여서 hidden을 만든다고 생각하면 된다.\n",
    "- 그렇기 때문에 hidden을 사용해 loss를 계산하여야 한다."
   ]
  },
  {
   "cell_type": "code",
   "execution_count": 125,
   "metadata": {},
   "outputs": [
    {
     "data": {
      "text/plain": [
       "<matplotlib.image.AxesImage at 0x13d29080130>"
      ]
     },
     "execution_count": 125,
     "metadata": {},
     "output_type": "execute_result"
    },
    {
     "data": {
      "image/png": "[encoded data removed]",
      "text/plain": [
       "<Figure size 400x1500 with 1 Axes>"
      ]
     },
     "metadata": {},
     "output_type": "display_data"
    }
   ],
   "source": [
    "yhat = soft(output)\n",
    "\n",
    "plt.matshow(yhat.data[:15].to('cpu'), cmap = 'bwr')"
   ]
  },
  {
   "cell_type": "code",
   "execution_count": 126,
   "metadata": {},
   "outputs": [
    {
     "data": {
      "text/plain": [
       "<matplotlib.image.AxesImage at 0x13d29060e50>"
      ]
     },
     "execution_count": 126,
     "metadata": {},
     "output_type": "execute_result"
    },
    {
     "data": {
      "image/png": "[encoded data removed]",
      "text/plain": [
       "<Figure size 400x1500 with 1 Axes>"
      ]
     },
     "metadata": {},
     "output_type": "display_data"
    }
   ],
   "source": [
    "plt.matshow(yhat.data[-15:].to('cpu'), cmap = 'bwr')"
   ]
  },
  {
   "cell_type": "markdown",
   "metadata": {},
   "source": [
    "- 초반에는 예측을 틀리지만 마지막에서는 완벽한 성능을 보여줌"
   ]
  },
  {
   "cell_type": "code",
   "execution_count": 127,
   "metadata": {},
   "outputs": [
    {
     "data": {
      "text/plain": [
       "<matplotlib.image.AxesImage at 0x13d310f79d0>"
      ]
     },
     "execution_count": 127,
     "metadata": {},
     "output_type": "execute_result"
    },
    {
     "data": {
      "image/png": "[encoded data removed]",
      "text/plain": [
       "<Figure size 400x1000 with 1 Axes>"
      ]
     },
     "metadata": {},
     "output_type": "display_data"
    }
   ],
   "source": [
    "combined = torch.concat([hidden, yhat], axis = 1)\n",
    "plt.matshow(combined[-15:].data.to('cpu'),cmap='bwr')"
   ]
  },
  {
   "cell_type": "markdown",
   "metadata": {},
   "source": [
    "## RNN을 사용해 AbAcAd 예제 해결하기 (히든 노드 3개)"
   ]
  },
  {
   "cell_type": "code",
   "execution_count": 128,
   "metadata": {},
   "outputs": [],
   "source": [
    "x = x.to('cuda:0')\n",
    "y = y.to('cuda:0')"
   ]
  },
  {
   "cell_type": "code",
   "execution_count": 129,
   "metadata": {},
   "outputs": [],
   "source": [
    "torch.manual_seed(43052)\n",
    "rnn = torch.nn.RNN(4,3).to('cuda:0')\n",
    "Lin = torch.nn.Linear(3, 4).to('cuda:0')"
   ]
  },
  {
   "cell_type": "code",
   "execution_count": 130,
   "metadata": {},
   "outputs": [],
   "source": [
    "loss_fn = torch.nn.CrossEntropyLoss()\n",
    "\n",
    "optim = torch.optim.Adam(list(rnn.parameters()) + list(Lin.parameters()))"
   ]
  },
  {
   "cell_type": "code",
   "execution_count": 131,
   "metadata": {},
   "outputs": [
    {
     "name": "stderr",
     "output_type": "stream",
     "text": [
      "100%|██████████| 5000/5000 [00:20<00:00, 245.12it/s]\n"
     ]
    }
   ],
   "source": [
    "_water = torch.zeros(1,3).to('cuda:0')\n",
    "\n",
    "for epoch in tqdm(range(5000)):\n",
    "    hidden, ht = rnn(x, _water)\n",
    "    output = Lin(hidden)\n",
    "    \n",
    "    loss = loss_fn(output, y)\n",
    "\n",
    "    loss.backward()\n",
    "\n",
    "    optim.step()\n",
    "    optim.zero_grad()"
   ]
  },
  {
   "cell_type": "markdown",
   "metadata": {},
   "source": [
    "`-` rnn을 실행하면 2개가 출력되는데 이는 hidden과 ht이다\n",
    "- hidden은 x를 계산한 모든 값들이 출력된다\n",
    "- ht는 마지막의 값만 저장되어있는데 이는 ht값들이 쌓여서 hidden을 만든다고 생각하면 된다.\n",
    "- 그렇기 때문에 hidden을 사용해 loss를 계산하여야 한다."
   ]
  },
  {
   "cell_type": "code",
   "execution_count": 132,
   "metadata": {},
   "outputs": [
    {
     "data": {
      "text/plain": [
       "<matplotlib.image.AxesImage at 0x13d3d08e100>"
      ]
     },
     "execution_count": 132,
     "metadata": {},
     "output_type": "execute_result"
    },
    {
     "data": {
      "image/png": "[encoded data removed]",
      "text/plain": [
       "<Figure size 400x1500 with 1 Axes>"
      ]
     },
     "metadata": {},
     "output_type": "display_data"
    }
   ],
   "source": [
    "yhat = soft(output)\n",
    "\n",
    "plt.matshow(yhat.data[:15].to('cpu'), cmap = 'bwr')"
   ]
  },
  {
   "cell_type": "code",
   "execution_count": 133,
   "metadata": {},
   "outputs": [
    {
     "data": {
      "text/plain": [
       "<matplotlib.image.AxesImage at 0x13d443a88b0>"
      ]
     },
     "execution_count": 133,
     "metadata": {},
     "output_type": "execute_result"
    },
    {
     "data": {
      "image/png": "[encoded data removed]",
      "text/plain": [
       "<Figure size 400x1500 with 1 Axes>"
      ]
     },
     "metadata": {},
     "output_type": "display_data"
    }
   ],
   "source": [
    "plt.matshow(yhat.data[-15:].to('cpu'), cmap = 'bwr')"
   ]
  },
  {
   "cell_type": "markdown",
   "metadata": {},
   "source": [
    "- 히든 노드가 2개 였을 때는 초반에 틀렸지만 히든 노드가 3개 일때는 초반에도 다 맞추는 것을 확인할 수 있음"
   ]
  },
  {
   "cell_type": "code",
   "execution_count": 134,
   "metadata": {},
   "outputs": [
    {
     "data": {
      "text/plain": [
       "<matplotlib.image.AxesImage at 0x13d44422f40>"
      ]
     },
     "execution_count": 134,
     "metadata": {},
     "output_type": "execute_result"
    },
    {
     "data": {
      "image/png": "[encoded data removed]",
      "text/plain": [
       "<Figure size 400x857.143 with 1 Axes>"
      ]
     },
     "metadata": {},
     "output_type": "display_data"
    }
   ],
   "source": [
    "combined = torch.concat([hidden, yhat], axis = 1)\n",
    "plt.matshow(combined[-15:].data.to('cpu'),cmap='bwr')"
   ]
  },
  {
   "cell_type": "markdown",
   "metadata": {},
   "source": [
    "- 히든 층과 yhat을 시각화 한 것들을 보면 같은 A이지만 hidden에서는 다른 방식으로 설명을 하고 있는 것을 알 수 있다.  \n",
    "`->` 즉 겉보기로는 같은 A이지만 사실은 다른 뜻의 A이므로 A1,b,A2,c,A3,d로 생각을 해야 함"
   ]
  }
 ],
 "metadata": {
  "kernelspec": {
   "display_name": "Python 3.9.13 ('pytorch')",
   "language": "python",
   "name": "python3"
  },
  "language_info": {
   "codemirror_mode": {
    "name": "ipython",
    "version": 3
   },
   "file_extension": ".py",
   "mimetype": "text/x-python",
   "name": "python",
   "nbconvert_exporter": "python",
   "pygments_lexer": "ipython3",
   "version": "3.9.13"
  },
  "orig_nbformat": 4,
  "vscode": {
   "interpreter": {
    "hash": "1ce164a82c13eaa31255a1ce4d93539ca528d828db2cf00dab58a195511dfbbe"
   }
  }
 },
 "nbformat": 4,
 "nbformat_minor": 2
}
