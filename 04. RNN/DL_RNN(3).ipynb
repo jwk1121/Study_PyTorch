{
 "cells": [
  {
   "cell_type": "markdown",
   "metadata": {},
   "source": [
    "# RNN과 LSTM"
   ]
  },
  {
   "cell_type": "code",
   "execution_count": 1,
   "metadata": {},
   "outputs": [],
   "source": [
    "import torch\n",
    "import numpy as np\n",
    "import pandas as pd\n",
    "import matplotlib.pyplot as plt\n",
    "import time\n",
    "from tqdm import tqdm\n",
    "\n",
    "def f(txt,mapping):\n",
    "    return [mapping[key] for key in txt]\n",
    "    \n",
    "soft = torch.nn.Softmax(dim=1)"
   ]
  },
  {
   "cell_type": "markdown",
   "metadata": {},
   "source": [
    "## RNN과 LSTM 성능 비교 (data: abcabC)"
   ]
  },
  {
   "cell_type": "markdown",
   "metadata": {},
   "source": [
    "### RNN"
   ]
  },
  {
   "cell_type": "code",
   "execution_count": 2,
   "metadata": {},
   "outputs": [],
   "source": [
    "txt = list('abcabC')*100\n",
    "\n",
    "txt_x = txt[:-1]\n",
    "txt_y = txt[1:]\n",
    "\n",
    "mapping = {'a':0, 'b':1, 'c':2, 'C':3}\n",
    "\n",
    "x = torch.nn.functional.one_hot(torch.tensor(f(txt_x,mapping))).float()\n",
    "y = torch.nn.functional.one_hot(torch.tensor(f(txt_y,mapping))).float()\n",
    "\n",
    "x = x.to('cuda:0')\n",
    "y = y.to('cuda:0')"
   ]
  },
  {
   "cell_type": "code",
   "execution_count": 16,
   "metadata": {},
   "outputs": [],
   "source": [
    "torch.manual_seed(43052)\n",
    "\n",
    "rnn = torch.nn.RNN(4,3).to('cuda:0')\n",
    "lin = torch.nn.Linear(3,4).to('cuda:0')\n",
    "\n",
    "loss_fn = torch.nn.CrossEntropyLoss()\n",
    "\n",
    "optim = torch.optim.Adam(list(rnn.parameters())+ list(lin.parameters()))"
   ]
  },
  {
   "cell_type": "code",
   "execution_count": 17,
   "metadata": {},
   "outputs": [
    {
     "name": "stderr",
     "output_type": "stream",
     "text": [
      "100%|██████████| 12000/12000 [00:53<00:00, 225.40it/s]\n"
     ]
    }
   ],
   "source": [
    "for epoch in tqdm(range(12000)):\n",
    "    _water = torch.zeros(1,3).to('cuda:0')\n",
    "    hidden, ht = rnn(x,_water)\n",
    "    output = lin(hidden)\n",
    "\n",
    "    loss = loss_fn(output, y)\n",
    "\n",
    "    loss.backward()\n",
    "\n",
    "    optim.step()\n",
    "    optim.zero_grad()"
   ]
  },
  {
   "cell_type": "code",
   "execution_count": 18,
   "metadata": {},
   "outputs": [],
   "source": [
    "yhat = soft(output)\n",
    "\n",
    "combined = torch.concat([hidden, yhat], axis = 1).data.to('cpu')"
   ]
  },
  {
   "cell_type": "code",
   "execution_count": 19,
   "metadata": {},
   "outputs": [
    {
     "data": {
      "text/plain": [
       "<matplotlib.image.AxesImage at 0x21d5a8fa130>"
      ]
     },
     "execution_count": 19,
     "metadata": {},
     "output_type": "execute_result"
    },
    {
     "data": {
      "image/png": "[encoded data removed]",
      "text/plain": [
       "<Figure size 400x857.143 with 1 Axes>"
      ]
     },
     "metadata": {},
     "output_type": "display_data"
    }
   ],
   "source": [
    "plt.matshow(combined[-15:], cmap = 'bwr')"
   ]
  },
  {
   "cell_type": "markdown",
   "metadata": {},
   "source": [
    "- c와 C를 잘 구별하지 못하는 것을 알 수 있음\n",
    "- 둘이 비슷한 확률로 출력됨\n",
    "---\n",
    "- 추가로 3000번 더 학습을 시켜보자!"
   ]
  },
  {
   "cell_type": "code",
   "execution_count": 20,
   "metadata": {},
   "outputs": [
    {
     "name": "stderr",
     "output_type": "stream",
     "text": [
      "100%|██████████| 3000/3000 [00:13<00:00, 222.97it/s]\n"
     ]
    }
   ],
   "source": [
    "for epoch in tqdm(range(3000)):\n",
    "    _water = torch.zeros(1,3).to('cuda:0')\n",
    "    hidden, ht = rnn(x,_water)\n",
    "    output = lin(hidden)\n",
    "\n",
    "    loss = loss_fn(output, y)\n",
    "\n",
    "    loss.backward()\n",
    "\n",
    "    optim.step()\n",
    "    optim.zero_grad()"
   ]
  },
  {
   "cell_type": "code",
   "execution_count": 21,
   "metadata": {},
   "outputs": [],
   "source": [
    "yhat = soft(output)\n",
    "\n",
    "combined = torch.concat([hidden, yhat], axis = 1).data.to('cpu')"
   ]
  },
  {
   "cell_type": "code",
   "execution_count": 22,
   "metadata": {},
   "outputs": [
    {
     "data": {
      "text/plain": [
       "<matplotlib.image.AxesImage at 0x21d5b15f700>"
      ]
     },
     "execution_count": 22,
     "metadata": {},
     "output_type": "execute_result"
    },
    {
     "data": {
      "image/png": "[encoded data removed]",
      "text/plain": [
       "<Figure size 400x857.143 with 1 Axes>"
      ]
     },
     "metadata": {},
     "output_type": "display_data"
    }
   ],
   "source": [
    "plt.matshow(combined[-15:], cmap = 'bwr')"
   ]
  },
  {
   "cell_type": "markdown",
   "metadata": {},
   "source": [
    "- RNN은 15000번 정도 실행을 해야 c와 C를 구별할 수 있음 "
   ]
  },
  {
   "cell_type": "markdown",
   "metadata": {},
   "source": [
    "### LSTM"
   ]
  },
  {
   "cell_type": "code",
   "execution_count": 23,
   "metadata": {},
   "outputs": [],
   "source": [
    "torch.manual_seed(43052)\n",
    "\n",
    "lstm = torch.nn.LSTM(4,3).to('cuda:0')\n",
    "lin = torch.nn.Linear(3,4).to('cuda:0')\n",
    "\n",
    "loss_fn = torch.nn.CrossEntropyLoss()\n",
    "\n",
    "optim = torch.optim.Adam(list(lstm.parameters())+ list(lin.parameters()))"
   ]
  },
  {
   "cell_type": "code",
   "execution_count": 24,
   "metadata": {},
   "outputs": [
    {
     "name": "stderr",
     "output_type": "stream",
     "text": [
      "100%|██████████| 6000/6000 [00:26<00:00, 223.70it/s]\n"
     ]
    }
   ],
   "source": [
    "for epoch in tqdm(range(6000)):\n",
    "    _water = torch.zeros(1,3).to('cuda:0')\n",
    "    hidden, (ht, ct) = lstm(x,(_water,_water))\n",
    "    output = lin(hidden)\n",
    "\n",
    "    loss = loss_fn(output, y)\n",
    "\n",
    "    loss.backward()\n",
    "\n",
    "    optim.step()\n",
    "    optim.zero_grad()"
   ]
  },
  {
   "cell_type": "code",
   "execution_count": 25,
   "metadata": {},
   "outputs": [],
   "source": [
    "yhat = soft(output)\n",
    "\n",
    "combined = torch.concat([hidden, yhat], axis = 1).data.to('cpu')"
   ]
  },
  {
   "cell_type": "code",
   "execution_count": 26,
   "metadata": {},
   "outputs": [
    {
     "data": {
      "text/plain": [
       "<matplotlib.image.AxesImage at 0x21d56bd3790>"
      ]
     },
     "execution_count": 26,
     "metadata": {},
     "output_type": "execute_result"
    },
    {
     "data": {
      "image/png": "[encoded data removed]",
      "text/plain": [
       "<Figure size 400x857.143 with 1 Axes>"
      ]
     },
     "metadata": {},
     "output_type": "display_data"
    }
   ],
   "source": [
    "plt.matshow(combined[-15:], cmap = 'bwr')"
   ]
  },
  {
   "cell_type": "markdown",
   "metadata": {},
   "source": [
    "- LSTM은 6000번의 학습으로도 c와 C를 구별할 수 있음"
   ]
  },
  {
   "cell_type": "markdown",
   "metadata": {},
   "source": [
    "### 정리..."
   ]
  },
  {
   "cell_type": "markdown",
   "metadata": {},
   "source": [
    "## LSTM의 구조"
   ]
  },
  {
   "cell_type": "code",
   "execution_count": 3,
   "metadata": {},
   "outputs": [],
   "source": [
    "sig = torch.nn.Sigmoid()\n",
    "tanh = torch.nn.Tanh()\n",
    "soft = torch.nn.Softmax(dim=1)"
   ]
  },
  {
   "cell_type": "code",
   "execution_count": 4,
   "metadata": {},
   "outputs": [],
   "source": [
    "txt = list('abaB') * 100\n",
    "\n",
    "txt_x = txt[:-1]\n",
    "txt_y = txt[1:]\n",
    "\n",
    "mapping = {'a':0, 'b':1, 'B':2}\n",
    "\n",
    "x = torch.nn.functional.one_hot(torch.tensor(f(txt_x,mapping))).float()\n",
    "y = torch.nn.functional.one_hot(torch.tensor(f(txt_y,mapping))).float()"
   ]
  },
  {
   "cell_type": "code",
   "execution_count": 5,
   "metadata": {},
   "outputs": [],
   "source": [
    "torch.manual_seed(43052)\n",
    "\n",
    "lstm_cell = torch.nn.LSTMCell(3, 2)\n",
    "lin = torch.nn.Linear(2,3)\n",
    "\n",
    "loss_fn = torch.nn.CrossEntropyLoss()\n",
    "\n",
    "optim = torch.optim.Adam(list(lstm_cell.parameters())+list(lin.parameters()))"
   ]
  },
  {
   "cell_type": "code",
   "execution_count": 6,
   "metadata": {},
   "outputs": [
    {
     "data": {
      "text/plain": [
       "torch.Size([3, 8])"
      ]
     },
     "execution_count": 6,
     "metadata": {},
     "output_type": "execute_result"
    }
   ],
   "source": [
    "lstm_cell.weight_ih.T.shape"
   ]
  },
  {
   "cell_type": "code",
   "execution_count": 32,
   "metadata": {},
   "outputs": [],
   "source": [
    "T = len(x)\n",
    "\n",
    "for epoch in range(1):\n",
    "    ht = torch.zeros(1,2)\n",
    "    ct = torch.zeros(1,2)\n",
    "    loss = 0\n",
    "\n",
    "    for t in range(T):\n",
    "        xt,yt = x[[t]], y[[t]]\n",
    "        ht, ct = lstm_cell(xt, (ht, ct))\n",
    "        _ifgo = xt@lstm_cell.weight_ih.T + ht@lstm_cell.weight_hh.T + lstm_cell.bias_hh + lstm_cell.bias_ih\n",
    "\n",
    "        # gate calculate\n",
    "        input_gate = sig(_ifgo[:,0:2]) \n",
    "        forget_gate = sig(_ifgo[:,2:4]) \n",
    "        output_gate = sig(_ifgo[:,6:8])\n",
    "\n",
    "        gt = tanh(_ifgo[:,4:6])\n",
    "\n",
    "        ct = forget_gate*ct + input_gate*gt\n",
    "        ht = output_gate*ct + tanh(ct) \n",
    "\n",
    "        ot = lin(ht)\n",
    "#        loss = loss + loss_fn(ot, yt)\n",
    "#    loss = loss/T\n",
    "\n",
    "#    loss.backward()\n",
    "\n",
    "#    optim.step()\n",
    "#    optim.zero_grad()"
   ]
  },
  {
   "cell_type": "markdown",
   "metadata": {},
   "source": [
    "$(x_t, h_{t-1}) \\overset{lin}{\\to} {a, b, c, d} \\to [\\sigma(a), \\sigma(b), \\tanh(c), \\sigma(d)] = [i_t, f_t, g_t, o_t]$\n",
    "\n",
    "`-` gate\n",
    "- input_gate: $i_t$ `->` $g_t$의 값을 얼마나 통과시킬지를 0~1 사이의 값으로 보여줌\n",
    "- forget_gate: $f_t$ `->` $C_{t-1}$의 값을 얼마나 통과시킬지를 0~1 사이의 값으로 보여줌\n",
    "- output_gate: $o_t$ `->` $tanh(C_{t})$의 값을 얼마나 통과시킬지를 0~1 사이의 값으로 보여줌\n",
    "\n",
    "`-` another value(?)\n",
    "- gt: $g_t$ `->` $\\sigma((W_{o1} X_t) + (W_{o2} h_{t-1}) + bias)$ `->` 현재와 과거의 값을 선형결합 *(w와 x또는 h를 곱함)* 후 tanh를 통과시켜 -1에서 1사이의 값으로 보여줌\n",
    "\n",
    "- ct: $c_t$ `->` $forgetgate * C_{t-1} + inputgate * g_t$ `->` *는 아다마르 곱으로 요소별로 선택한 후 곱하는 연산으로 $g_t$연산과는 다름\n",
    "\n",
    "- ht: $h_t$ `->` $tanh(C_t)*O_t$\n",
    "\n",
    "\n",
    "\n"
   ]
  },
  {
   "cell_type": "code",
   "execution_count": 30,
   "metadata": {},
   "outputs": [
    {
     "data": {
      "text/plain": [
       "(tensor([[-0.0406,  0.2505]], grad_fn=<MulBackward0>),\n",
       " tensor([[-0.0975,  0.7134]], grad_fn=<AddBackward0>))"
      ]
     },
     "execution_count": 30,
     "metadata": {},
     "output_type": "execute_result"
    }
   ],
   "source": [
    "ht, ct"
   ]
  },
  {
   "cell_type": "code",
   "execution_count": null,
   "metadata": {},
   "outputs": [],
   "source": []
  },
  {
   "cell_type": "code",
   "execution_count": null,
   "metadata": {},
   "outputs": [],
   "source": []
  },
  {
   "cell_type": "code",
   "execution_count": null,
   "metadata": {},
   "outputs": [],
   "source": []
  },
  {
   "cell_type": "code",
   "execution_count": null,
   "metadata": {},
   "outputs": [],
   "source": []
  }
 ],
 "metadata": {
  "kernelspec": {
   "display_name": "Python 3.9.13 ('pytorch')",
   "language": "python",
   "name": "python3"
  },
  "language_info": {
   "codemirror_mode": {
    "name": "ipython",
    "version": 3
   },
   "file_extension": ".py",
   "mimetype": "text/x-python",
   "name": "python",
   "nbconvert_exporter": "python",
   "pygments_lexer": "ipython3",
   "version": "3.9.13"
  },
  "orig_nbformat": 4,
  "vscode": {
   "interpreter": {
    "hash": "1ce164a82c13eaa31255a1ce4d93539ca528d828db2cf00dab58a195511dfbbe"
   }
  }
 },
 "nbformat": 4,
 "nbformat_minor": 2
}
