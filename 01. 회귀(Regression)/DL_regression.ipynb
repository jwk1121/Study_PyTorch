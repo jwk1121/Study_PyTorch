{
  "nbformat": 4,
  "nbformat_minor": 0,
  "metadata": {
    "colab": {
      "provenance": [],
      "collapsed_sections": []
    },
    "kernelspec": {
      "name": "python3",
      "display_name": "Python 3"
    },
    "language_info": {
      "name": "python"
    }
  },
  "cells": [
    {
      "cell_type": "markdown",
      "source": [
        "# DL 회귀분석 정리",
        "\n",
        "- toc:true"
      ],
      "metadata": {
        "id": "OczFmMtnNOOO"
      }
    },
    {
      "cell_type": "code",
      "execution_count": null,
      "metadata": {
        "id": "e9QHp9dSWVQQ"
      },
      "outputs": [],
      "source": [
        "import torch\n",
        "import numpy as np\n",
        "import matplotlib.pyplot as plt "
      ]
    },
    {
      "cell_type": "markdown",
      "source": [
        "## 데이터 준비"
      ],
      "metadata": {
        "id": "SvYxkF63dNgd"
      }
    },
    {
      "cell_type": "code",
      "source": [
        "torch.manual_seed(43052)\n",
        "\n",
        "ones= torch.ones(100)\n",
        "x,_ = torch.randn(100).sort()\n",
        "X = torch.stack([ones,x]).T # torch.stack([ones,x],axis=1)"
      ],
      "metadata": {
        "id": "CLaY1xKDWZ8V"
      },
      "execution_count": null,
      "outputs": []
    },
    {
      "cell_type": "code",
      "source": [
        "W = torch.tensor([2.5,4])"
      ],
      "metadata": {
        "id": "pxiTRIbwW6mY"
      },
      "execution_count": null,
      "outputs": []
    },
    {
      "cell_type": "code",
      "source": [
        "ϵ = torch.randn(100)*0.5 # 입실론은 오차를 의미함"
      ],
      "metadata": {
        "id": "wQjafybMW7k-"
      },
      "execution_count": null,
      "outputs": []
    },
    {
      "cell_type": "code",
      "source": [
        "y = X @ W + ϵ"
      ],
      "metadata": {
        "id": "qSpevyheY8W4"
      },
      "execution_count": null,
      "outputs": []
    },
    {
      "cell_type": "code",
      "source": [
        "plt.plot(x, y, 'o')"
      ],
      "metadata": {
        "colab": {
          "base_uri": "https://localhost:8080/",
          "height": 283
        },
        "id": "XWzPxm22ZE0g",
        "outputId": "2c0755f0-3600-417d-f407-b6c9b1e9b736"
      },
      "execution_count": null,
      "outputs": [
        {
          "output_type": "execute_result",
          "data": {
            "text/plain": [
              "[<matplotlib.lines.Line2D at 0x7fd4366bea10>]"
            ]
          },
          "metadata": {},
          "execution_count": 19
        },
        {
          "output_type": "display_data",
          "data": {
            "text/plain": [
              "<Figure size 432x288 with 1 Axes>"
            ],
            "image/png": "[encoded data removed]"
          },
          "metadata": {
            "needs_background": "light"
          }
        }
      ]
    },
    {
      "cell_type": "markdown",
      "source": [
        "## 가중치와 bias 준비"
      ],
      "metadata": {
        "id": "qS5j4KMhdQDP"
      }
    },
    {
      "cell_type": "code",
      "source": [
        "What = torch.tensor([-5.0,10.0],requires_grad=True)\n",
        "What"
      ],
      "metadata": {
        "colab": {
          "base_uri": "https://localhost:8080/"
        },
        "id": "-vEy85aKcJdu",
        "outputId": "c7a4c031-2db7-4e8c-b1c9-43de7bca70f6"
      },
      "execution_count": null,
      "outputs": [
        {
          "output_type": "execute_result",
          "data": {
            "text/plain": [
              "tensor([-5., 10.], requires_grad=True)"
            ]
          },
          "metadata": {},
          "execution_count": 15
        }
      ]
    },
    {
      "cell_type": "code",
      "source": [
        "yhat = X @ What "
      ],
      "metadata": {
        "id": "HcWAupMydfQ0"
      },
      "execution_count": null,
      "outputs": []
    },
    {
      "cell_type": "code",
      "source": [
        "plt.plot(x, y, 'o')\n",
        "plt.plot(x, yhat.data, '-')"
      ],
      "metadata": {
        "colab": {
          "base_uri": "https://localhost:8080/",
          "height": 283
        },
        "id": "5b60J2H4d9Oq",
        "outputId": "f5507a83-0b40-4fa3-9858-91ab50ca8af5"
      },
      "execution_count": null,
      "outputs": [
        {
          "output_type": "execute_result",
          "data": {
            "text/plain": [
              "[<matplotlib.lines.Line2D at 0x7fd436630610>]"
            ]
          },
          "metadata": {},
          "execution_count": 20
        },
        {
          "output_type": "display_data",
          "data": {
            "text/plain": [
              "<Figure size 432x288 with 1 Axes>"
            ],
            "image/png": "[encoded data removed]"
          },
          "metadata": {
            "needs_background": "light"
          }
        }
      ]
    },
    {
      "cell_type": "markdown",
      "source": [
        "## 노란선으로 파란선을 맞춰야 함, 맞추기 위해서는 얼마나 틀렸는지를 알아야 함 -> loss function"
      ],
      "metadata": {
        "id": "m8zR6uBWeE1F"
      }
    },
    {
      "cell_type": "markdown",
      "source": [
        "`-` $loss=\\sum_{i=1}^{n}(y_i-\\hat{y}_i)^2=\\sum_{i=1}^{n}(y_i-(\\hat{w}_0+\\hat{w}_1x_i))^2 =  ({\\bf y}-{\\bf\\hat{y}})^\\top({\\bf y}-{\\bf\\hat{y}})=({\\bf y}-{\\bf X}{\\bf \\hat{W}})^\\top({\\bf y}-{\\bf X}{\\bf \\hat{W}})$\n",
        "\n",
        "궁극적으로 조합 $(\\hat{w}_0,\\hat{w}_1)$에 대하여 가장 작은 loss를 찾아내야 함"
      ],
      "metadata": {
        "id": "cO-5SClKeiu8"
      }
    },
    {
      "cell_type": "markdown",
      "source": [
        "`-` 찾는 방법: loss를 미분하여 기울기를 얻는다 $\\to$ 기울기 부호의 반대 방향으로 이동한다. $\\to$ 움직이는 보폭(크기)은 (loss미분값 * 학습률(lr, α))\n",
        "\n",
        "`-` ${\\bf W} \\leftarrow {\\bf W} - \\alpha \\times \\frac{\\partial}{\\partial {\\bf W}}loss(w_0,w_1)$\n",
        "\n",
        "`-` $\\frac{\\partial}{\\partial {\\bf W}}loss(w_0,w_1)$ 이 값은 아래의 코드를 통해 계산할할 수 있다.\n",
        "``` python\n",
        "loss.backward()\n",
        "```\n",
        "\n",
        "`-` 위에서 계산한 미분값은 W.grad를 통해 확인할 수 있다.\n",
        "\n",
        "`-` 정리하자면 loss를 정의한 후\n",
        "```python\n",
        "W = W - 학습률 * W.grad\n",
        "```\n",
        "\n",
        "`+` W를 업데이트한 후 W.grad = None을 해줘야 함\n",
        "`+` 미분을 통해 업데이트를 하기 위해서는 아래와 같은 옵션을 주어야 한다.\n",
        "``` python\n",
        "torch.tensor([-5.0,10.0],requires_grad=True)\n",
        "```\n"
      ],
      "metadata": {
        "id": "ma3mrPLSe7Db"
      }
    },
    {
      "cell_type": "markdown",
      "source": [
        "## 훈련 방법"
      ],
      "metadata": {
        "id": "KeWhJrt3kZ2j"
      }
    },
    {
      "cell_type": "markdown",
      "source": [
        "### 학습 방법과 선형회귀 step별 다양한 표현 방법"
      ],
      "metadata": {
        "id": "q3eA4MCEqHUd"
      }
    },
    {
      "cell_type": "code",
      "source": [
        "alpha=0.001 \n",
        "for epoc in range(30): ## 30번 반복합니다!! \n",
        "    # step 1\n",
        "    yhat=X@What # w와 b를 만드는 \n",
        "                # type1) torch.nn.Linear(input, ouput, bias=True) X에 1로 구성된 열이 없을때 사용\n",
        "                # type2) torch.nn.Linear(input + 1, ouput, bias=False) X에 1로 구성된 열이 있있을때 사용\n",
        "    \n",
        "    # step 2\n",
        "    loss=torch.sum((y-yhat)**2) # loss = torch.nn.MSELoss(yhat, y)\n",
        "    \n",
        "    # step 3\n",
        "    loss.backward() \n",
        "\n",
        "    # step 4 -> optimizer를 사용 # optim = torch.optim.SGD(net.parameters(),lr=1/10) 이런 식으로 선언 # net.parameters()는 optimizer에 업데이트할 변수를 지정 # lr은 학습률 지정\n",
        "    What.data = What.data-alpha * What.grad # optim.step()\n",
        "    What.grad=None # optim.zero_grad()"
      ],
      "metadata": {
        "id": "rFHaK1oeeO4u"
      },
      "execution_count": null,
      "outputs": []
    },
    {
      "cell_type": "code",
      "source": [
        "plt.plot(x, y, 'o')\n",
        "plt.plot(x, yhat.data, '-')"
      ],
      "metadata": {
        "colab": {
          "base_uri": "https://localhost:8080/",
          "height": 283
        },
        "id": "HEVW_UhYk3B3",
        "outputId": "6e3d8c63-6a9b-47b7-9411-be86d959b843"
      },
      "execution_count": null,
      "outputs": [
        {
          "output_type": "execute_result",
          "data": {
            "text/plain": [
              "[<matplotlib.lines.Line2D at 0x7fd436597d10>]"
            ]
          },
          "metadata": {},
          "execution_count": 22
        },
        {
          "output_type": "display_data",
          "data": {
            "text/plain": [
              "<Figure size 432x288 with 1 Axes>"
            ],
            "image/png": "[encoded data removed]"
          },
          "metadata": {
            "needs_background": "light"
          }
        }
      ]
    },
    {
      "cell_type": "markdown",
      "source": [
        "### 훈련과정 기록하기"
      ],
      "metadata": {
        "id": "1K6cn5E8lGEO"
      }
    },
    {
      "cell_type": "code",
      "source": [
        "loss_history = [] # 기록하고 싶은것 1  \n",
        "yhat_history = [] # 기록하고 싶은것 2 \n",
        "What_history = [] # 기록하고 싶은것 3\n",
        "\n",
        "What= torch.tensor([-5.0,10.0],requires_grad=True)\n",
        "\n",
        "alpha=0.001 \n",
        "\n",
        "for epoc in range(30): \n",
        "    #\n",
        "    yhat=X@What ; yhat_history.append(yhat.data.tolist())\n",
        "    #\n",
        "    loss=torch.sum((y-yhat)**2); loss_history.append(loss.item())\n",
        "    #\n",
        "    loss.backward() \n",
        "    #\n",
        "    What.data = What.data-alpha * What.grad; What_history.append(What.data.tolist())\n",
        "    What.grad=None"
      ],
      "metadata": {
        "id": "LhaxaBiblIL-"
      },
      "execution_count": null,
      "outputs": []
    },
    {
      "cell_type": "code",
      "source": [
        "plt.plot(loss_history)"
      ],
      "metadata": {
        "colab": {
          "base_uri": "https://localhost:8080/",
          "height": 283
        },
        "id": "phjNjBv8lUpG",
        "outputId": "da0eae94-fd5f-469d-e7a5-2c6866c84fa6"
      },
      "execution_count": null,
      "outputs": [
        {
          "output_type": "execute_result",
          "data": {
            "text/plain": [
              "[<matplotlib.lines.Line2D at 0x7fd43f169290>]"
            ]
          },
          "metadata": {},
          "execution_count": 24
        },
        {
          "output_type": "display_data",
          "data": {
            "text/plain": [
              "<Figure size 432x288 with 1 Axes>"
            ],
            "image/png": "[encoded data removed]"
          },
          "metadata": {
            "needs_background": "light"
          }
        }
      ]
    },
    {
      "cell_type": "markdown",
      "source": [
        "## 정리\n",
        "`-` 학습률이 너무 크면 스텝이 너무 커서 loss의 순간기울기가 0이 되는 점을 찾지 못할 수 있다. (학습률이 너무 작으면 loss의 순간기울기가 0이 되는 점을 찾을 수는 있지만 학습시간이 오래 걸린다는 단점이 있음)\n",
        "\n",
        "`-` local minimum과 global minimum이 있는 loss 곡선은 초기 W가 중요하다.\n"
      ],
      "metadata": {
        "id": "31JXsBiLllaE"
      }
    }
  ]
}
